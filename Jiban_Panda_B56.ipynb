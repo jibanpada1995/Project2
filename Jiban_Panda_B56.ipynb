{
 "cells": [
  {
   "cell_type": "code",
   "execution_count": 868,
   "metadata": {},
   "outputs": [
    {
     "data": {
      "text/html": [
       "<script type=\"text/javascript\">window.PlotlyConfig = {MathJaxConfig: 'local'};</script><script type=\"text/javascript\">if (window.MathJax) {MathJax.Hub.Config({SVG: {font: \"STIX-Web\"}});}</script><script>requirejs.config({paths: { 'plotly': ['https://cdn.plot.ly/plotly-latest.min']},});if(!window._Plotly) {require(['plotly'],function(plotly) {window._Plotly=plotly;});}</script>"
      ],
      "text/vnd.plotly.v1+html": [
       "<script type=\"text/javascript\">window.PlotlyConfig = {MathJaxConfig: 'local'};</script><script type=\"text/javascript\">if (window.MathJax) {MathJax.Hub.Config({SVG: {font: \"STIX-Web\"}});}</script><script>requirejs.config({paths: { 'plotly': ['https://cdn.plot.ly/plotly-latest.min']},});if(!window._Plotly) {require(['plotly'],function(plotly) {window._Plotly=plotly;});}</script>"
      ]
     },
     "metadata": {},
     "output_type": "display_data"
    }
   ],
   "source": [
    "import pandas as pd\n",
    "import numpy as np\n",
    "import os\n",
    "from sklearn.preprocessing import Imputer\n",
    "from sklearn.preprocessing import  StandardScaler\n",
    "from sklearn.model_selection import train_test_split\n",
    "from sklearn.linear_model import LogisticRegression\n",
    "from sklearn.model_selection import learning_curve\n",
    "from sklearn.model_selection import GridSearchCV\n",
    "import matplotlib.pyplot as plt\n",
    "from sklearn import tree\n",
    "import seaborn as sns\n",
    "from sklearn.preprocessing import LabelEncoder\n",
    "from sklearn.metrics import recall_score\n",
    "from plotly.offline import init_notebook_mode, iplot, plot\n",
    "import plotly.offline as pyoff\n",
    "import plotly.figure_factory as ff\n",
    "from plotly.offline import init_notebook_mode, iplot, plot\n",
    "import plotly.graph_objs as go\n",
    "#import squarify # for tree maps\n",
    "%matplotlib inline\n",
    "import os\n",
    "path = os.getcwd()\n",
    "os.chdir(path)\n",
    "init_notebook_mode(connected=True)\n",
    "from xgboost import XGBClassifier\n",
    "import warnings\n",
    "warnings.filterwarnings(\"ignore\")"
   ]
  },
  {
   "cell_type": "markdown",
   "metadata": {},
   "source": [
    "#Importing Train and Test Data:-"
   ]
  },
  {
   "cell_type": "code",
   "execution_count": 869,
   "metadata": {},
   "outputs": [],
   "source": [
    "heart_train = pd.read_csv(\"Train.csv\",sep=',',na_values=[\"NA\",\"-9\",\"\"])\n",
    "heart_test = pd.read_csv(\"Test.csv\",sep=',',na_values=[\"NA\",\"-9\",\"\"])"
   ]
  },
  {
   "cell_type": "markdown",
   "metadata": {},
   "source": [
    "#Getting to know the data:-"
   ]
  },
  {
   "cell_type": "code",
   "execution_count": 870,
   "metadata": {},
   "outputs": [
    {
     "name": "stdout",
     "output_type": "stream",
     "text": [
      "Number of rows in train data are : 674\n",
      "Number of columns in train data are : 55\n",
      "Number of rows in test data are : 223\n",
      "Number of columns in test data are : 54\n"
     ]
    }
   ],
   "source": [
    "print(\"Number of rows in train data are :\",heart_train.shape[0])\n",
    "print(\"Number of columns in train data are :\",heart_train.shape[1])\n",
    "print(\"Number of rows in test data are :\",heart_test.shape[0])\n",
    "print(\"Number of columns in test data are :\",heart_test.shape[1])"
   ]
  },
  {
   "cell_type": "code",
   "execution_count": 871,
   "metadata": {},
   "outputs": [
    {
     "data": {
      "text/html": [
       "<div>\n",
       "<style scoped>\n",
       "    .dataframe tbody tr th:only-of-type {\n",
       "        vertical-align: middle;\n",
       "    }\n",
       "\n",
       "    .dataframe tbody tr th {\n",
       "        vertical-align: top;\n",
       "    }\n",
       "\n",
       "    .dataframe thead th {\n",
       "        text-align: right;\n",
       "    }\n",
       "</style>\n",
       "<table border=\"1\" class=\"dataframe\">\n",
       "  <thead>\n",
       "    <tr style=\"text-align: right;\">\n",
       "      <th></th>\n",
       "      <th>id</th>\n",
       "      <th>age</th>\n",
       "      <th>gender</th>\n",
       "      <th>chestpainloc</th>\n",
       "      <th>painexertion</th>\n",
       "      <th>reliefbyrest</th>\n",
       "      <th>chestpaintype</th>\n",
       "      <th>restingBP</th>\n",
       "      <th>serumcholesterol</th>\n",
       "      <th>IsSmoker</th>\n",
       "      <th>...</th>\n",
       "      <th>laddistance</th>\n",
       "      <th>cxmain</th>\n",
       "      <th>ramus</th>\n",
       "      <th>obtuseMarginal1</th>\n",
       "      <th>obtuseMarginal2</th>\n",
       "      <th>rcaproximation</th>\n",
       "      <th>rcadistance</th>\n",
       "      <th>nameOfPatient</th>\n",
       "      <th>Location</th>\n",
       "      <th>Severity</th>\n",
       "    </tr>\n",
       "  </thead>\n",
       "  <tbody>\n",
       "    <tr>\n",
       "      <th>0</th>\n",
       "      <td>3172</td>\n",
       "      <td>37</td>\n",
       "      <td>1</td>\n",
       "      <td>1.0</td>\n",
       "      <td>0.0</td>\n",
       "      <td>0.0</td>\n",
       "      <td>3</td>\n",
       "      <td>118.0</td>\n",
       "      <td>240.0</td>\n",
       "      <td>0.0</td>\n",
       "      <td>...</td>\n",
       "      <td>1.0</td>\n",
       "      <td>1.0</td>\n",
       "      <td>1.0</td>\n",
       "      <td>1.0</td>\n",
       "      <td>1.0</td>\n",
       "      <td>1.0</td>\n",
       "      <td>1.0</td>\n",
       "      <td>name</td>\n",
       "      <td>Va</td>\n",
       "      <td>None</td>\n",
       "    </tr>\n",
       "    <tr>\n",
       "      <th>1</th>\n",
       "      <td>4242</td>\n",
       "      <td>41</td>\n",
       "      <td>0</td>\n",
       "      <td>NaN</td>\n",
       "      <td>NaN</td>\n",
       "      <td>NaN</td>\n",
       "      <td>2</td>\n",
       "      <td>126.0</td>\n",
       "      <td>306.0</td>\n",
       "      <td>1.0</td>\n",
       "      <td>...</td>\n",
       "      <td>1.0</td>\n",
       "      <td>1.0</td>\n",
       "      <td>1.0</td>\n",
       "      <td>1.0</td>\n",
       "      <td>NaN</td>\n",
       "      <td>1.0</td>\n",
       "      <td>1.0</td>\n",
       "      <td>name</td>\n",
       "      <td>Cleveland</td>\n",
       "      <td>None</td>\n",
       "    </tr>\n",
       "    <tr>\n",
       "      <th>2</th>\n",
       "      <td>2247</td>\n",
       "      <td>54</td>\n",
       "      <td>1</td>\n",
       "      <td>0.0</td>\n",
       "      <td>0.0</td>\n",
       "      <td>0.0</td>\n",
       "      <td>1</td>\n",
       "      <td>120.0</td>\n",
       "      <td>171.0</td>\n",
       "      <td>1.0</td>\n",
       "      <td>...</td>\n",
       "      <td>1.0</td>\n",
       "      <td>1.0</td>\n",
       "      <td>1.0</td>\n",
       "      <td>1.0</td>\n",
       "      <td>1.0</td>\n",
       "      <td>1.0</td>\n",
       "      <td>NaN</td>\n",
       "      <td>name</td>\n",
       "      <td>Hungarian</td>\n",
       "      <td>Moderate</td>\n",
       "    </tr>\n",
       "    <tr>\n",
       "      <th>3</th>\n",
       "      <td>2072</td>\n",
       "      <td>44</td>\n",
       "      <td>1</td>\n",
       "      <td>1.0</td>\n",
       "      <td>0.0</td>\n",
       "      <td>0.0</td>\n",
       "      <td>2</td>\n",
       "      <td>130.0</td>\n",
       "      <td>215.0</td>\n",
       "      <td>1.0</td>\n",
       "      <td>...</td>\n",
       "      <td>1.0</td>\n",
       "      <td>1.0</td>\n",
       "      <td>1.0</td>\n",
       "      <td>1.0</td>\n",
       "      <td>1.0</td>\n",
       "      <td>1.0</td>\n",
       "      <td>NaN</td>\n",
       "      <td>name</td>\n",
       "      <td>Hungarian</td>\n",
       "      <td>None</td>\n",
       "    </tr>\n",
       "    <tr>\n",
       "      <th>4</th>\n",
       "      <td>2188</td>\n",
       "      <td>58</td>\n",
       "      <td>1</td>\n",
       "      <td>1.0</td>\n",
       "      <td>0.0</td>\n",
       "      <td>0.0</td>\n",
       "      <td>2</td>\n",
       "      <td>130.0</td>\n",
       "      <td>251.0</td>\n",
       "      <td>NaN</td>\n",
       "      <td>...</td>\n",
       "      <td>1.0</td>\n",
       "      <td>1.0</td>\n",
       "      <td>1.0</td>\n",
       "      <td>1.0</td>\n",
       "      <td>1.0</td>\n",
       "      <td>1.0</td>\n",
       "      <td>1.0</td>\n",
       "      <td>name</td>\n",
       "      <td>Hungarian</td>\n",
       "      <td>MildClass2</td>\n",
       "    </tr>\n",
       "    <tr>\n",
       "      <th>5</th>\n",
       "      <td>3023</td>\n",
       "      <td>63</td>\n",
       "      <td>1</td>\n",
       "      <td>1.0</td>\n",
       "      <td>0.0</td>\n",
       "      <td>1.0</td>\n",
       "      <td>3</td>\n",
       "      <td>130.0</td>\n",
       "      <td>0.0</td>\n",
       "      <td>0.0</td>\n",
       "      <td>...</td>\n",
       "      <td>1.0</td>\n",
       "      <td>2.0</td>\n",
       "      <td>1.0</td>\n",
       "      <td>2.0</td>\n",
       "      <td>2.0</td>\n",
       "      <td>2.0</td>\n",
       "      <td>1.0</td>\n",
       "      <td>name</td>\n",
       "      <td>Va</td>\n",
       "      <td>Moderate</td>\n",
       "    </tr>\n",
       "    <tr>\n",
       "      <th>6</th>\n",
       "      <td>4240</td>\n",
       "      <td>42</td>\n",
       "      <td>1</td>\n",
       "      <td>NaN</td>\n",
       "      <td>1.0</td>\n",
       "      <td>1.0</td>\n",
       "      <td>2</td>\n",
       "      <td>120.0</td>\n",
       "      <td>295.0</td>\n",
       "      <td>NaN</td>\n",
       "      <td>...</td>\n",
       "      <td>1.0</td>\n",
       "      <td>1.0</td>\n",
       "      <td>1.0</td>\n",
       "      <td>1.0</td>\n",
       "      <td>1.0</td>\n",
       "      <td>1.0</td>\n",
       "      <td>1.0</td>\n",
       "      <td>name</td>\n",
       "      <td>Cleveland</td>\n",
       "      <td>None</td>\n",
       "    </tr>\n",
       "    <tr>\n",
       "      <th>7</th>\n",
       "      <td>4091</td>\n",
       "      <td>66</td>\n",
       "      <td>1</td>\n",
       "      <td>1.0</td>\n",
       "      <td>1.0</td>\n",
       "      <td>1.0</td>\n",
       "      <td>4</td>\n",
       "      <td>120.0</td>\n",
       "      <td>302.0</td>\n",
       "      <td>1.0</td>\n",
       "      <td>...</td>\n",
       "      <td>1.0</td>\n",
       "      <td>1.0</td>\n",
       "      <td>1.0</td>\n",
       "      <td>1.0</td>\n",
       "      <td>1.0</td>\n",
       "      <td>1.0</td>\n",
       "      <td>1.0</td>\n",
       "      <td>name</td>\n",
       "      <td>Cleveland</td>\n",
       "      <td>None</td>\n",
       "    </tr>\n",
       "    <tr>\n",
       "      <th>8</th>\n",
       "      <td>2079</td>\n",
       "      <td>52</td>\n",
       "      <td>1</td>\n",
       "      <td>1.0</td>\n",
       "      <td>0.0</td>\n",
       "      <td>0.0</td>\n",
       "      <td>2</td>\n",
       "      <td>140.0</td>\n",
       "      <td>100.0</td>\n",
       "      <td>1.0</td>\n",
       "      <td>...</td>\n",
       "      <td>NaN</td>\n",
       "      <td>1.0</td>\n",
       "      <td>1.0</td>\n",
       "      <td>1.0</td>\n",
       "      <td>1.0</td>\n",
       "      <td>1.0</td>\n",
       "      <td>1.0</td>\n",
       "      <td>name</td>\n",
       "      <td>Hungarian</td>\n",
       "      <td>MildClass2</td>\n",
       "    </tr>\n",
       "    <tr>\n",
       "      <th>9</th>\n",
       "      <td>5120</td>\n",
       "      <td>56</td>\n",
       "      <td>1</td>\n",
       "      <td>1.0</td>\n",
       "      <td>1.0</td>\n",
       "      <td>1.0</td>\n",
       "      <td>4</td>\n",
       "      <td>125.0</td>\n",
       "      <td>0.0</td>\n",
       "      <td>1.0</td>\n",
       "      <td>...</td>\n",
       "      <td>1.0</td>\n",
       "      <td>2.0</td>\n",
       "      <td>1.0</td>\n",
       "      <td>1.0</td>\n",
       "      <td>1.0</td>\n",
       "      <td>2.0</td>\n",
       "      <td>1.0</td>\n",
       "      <td>name</td>\n",
       "      <td>Switzerland</td>\n",
       "      <td>Moderate</td>\n",
       "    </tr>\n",
       "  </tbody>\n",
       "</table>\n",
       "<p>10 rows × 55 columns</p>\n",
       "</div>"
      ],
      "text/plain": [
       "     id  age  gender  chestpainloc  painexertion  reliefbyrest  chestpaintype  \\\n",
       "0  3172   37       1           1.0           0.0           0.0              3   \n",
       "1  4242   41       0           NaN           NaN           NaN              2   \n",
       "2  2247   54       1           0.0           0.0           0.0              1   \n",
       "3  2072   44       1           1.0           0.0           0.0              2   \n",
       "4  2188   58       1           1.0           0.0           0.0              2   \n",
       "5  3023   63       1           1.0           0.0           1.0              3   \n",
       "6  4240   42       1           NaN           1.0           1.0              2   \n",
       "7  4091   66       1           1.0           1.0           1.0              4   \n",
       "8  2079   52       1           1.0           0.0           0.0              2   \n",
       "9  5120   56       1           1.0           1.0           1.0              4   \n",
       "\n",
       "   restingBP  serumcholesterol  IsSmoker     ...      laddistance  cxmain  \\\n",
       "0      118.0             240.0       0.0     ...              1.0     1.0   \n",
       "1      126.0             306.0       1.0     ...              1.0     1.0   \n",
       "2      120.0             171.0       1.0     ...              1.0     1.0   \n",
       "3      130.0             215.0       1.0     ...              1.0     1.0   \n",
       "4      130.0             251.0       NaN     ...              1.0     1.0   \n",
       "5      130.0               0.0       0.0     ...              1.0     2.0   \n",
       "6      120.0             295.0       NaN     ...              1.0     1.0   \n",
       "7      120.0             302.0       1.0     ...              1.0     1.0   \n",
       "8      140.0             100.0       1.0     ...              NaN     1.0   \n",
       "9      125.0               0.0       1.0     ...              1.0     2.0   \n",
       "\n",
       "   ramus  obtuseMarginal1  obtuseMarginal2  rcaproximation  rcadistance  \\\n",
       "0    1.0              1.0              1.0             1.0          1.0   \n",
       "1    1.0              1.0              NaN             1.0          1.0   \n",
       "2    1.0              1.0              1.0             1.0          NaN   \n",
       "3    1.0              1.0              1.0             1.0          NaN   \n",
       "4    1.0              1.0              1.0             1.0          1.0   \n",
       "5    1.0              2.0              2.0             2.0          1.0   \n",
       "6    1.0              1.0              1.0             1.0          1.0   \n",
       "7    1.0              1.0              1.0             1.0          1.0   \n",
       "8    1.0              1.0              1.0             1.0          1.0   \n",
       "9    1.0              1.0              1.0             2.0          1.0   \n",
       "\n",
       "   nameOfPatient     Location    Severity  \n",
       "0           name           Va        None  \n",
       "1           name    Cleveland        None  \n",
       "2           name    Hungarian    Moderate  \n",
       "3           name    Hungarian        None  \n",
       "4           name    Hungarian  MildClass2  \n",
       "5           name           Va    Moderate  \n",
       "6           name    Cleveland        None  \n",
       "7           name    Cleveland        None  \n",
       "8           name    Hungarian  MildClass2  \n",
       "9           name  Switzerland    Moderate  \n",
       "\n",
       "[10 rows x 55 columns]"
      ]
     },
     "execution_count": 871,
     "metadata": {},
     "output_type": "execute_result"
    }
   ],
   "source": [
    "heart_train.head(10)"
   ]
  },
  {
   "cell_type": "code",
   "execution_count": 872,
   "metadata": {},
   "outputs": [
    {
     "data": {
      "text/html": [
       "<div>\n",
       "<style scoped>\n",
       "    .dataframe tbody tr th:only-of-type {\n",
       "        vertical-align: middle;\n",
       "    }\n",
       "\n",
       "    .dataframe tbody tr th {\n",
       "        vertical-align: top;\n",
       "    }\n",
       "\n",
       "    .dataframe thead th {\n",
       "        text-align: right;\n",
       "    }\n",
       "</style>\n",
       "<table border=\"1\" class=\"dataframe\">\n",
       "  <thead>\n",
       "    <tr style=\"text-align: right;\">\n",
       "      <th></th>\n",
       "      <th>id</th>\n",
       "      <th>age</th>\n",
       "      <th>gender</th>\n",
       "      <th>chestpainloc</th>\n",
       "      <th>painexertion</th>\n",
       "      <th>reliefbyrest</th>\n",
       "      <th>chestpaintype</th>\n",
       "      <th>restingBP</th>\n",
       "      <th>serumcholesterol</th>\n",
       "      <th>IsSmoker</th>\n",
       "      <th>...</th>\n",
       "      <th>ladproximation</th>\n",
       "      <th>laddistance</th>\n",
       "      <th>cxmain</th>\n",
       "      <th>ramus</th>\n",
       "      <th>obtuseMarginal1</th>\n",
       "      <th>obtuseMarginal2</th>\n",
       "      <th>rcaproximation</th>\n",
       "      <th>rcadistance</th>\n",
       "      <th>nameOfPatient</th>\n",
       "      <th>Location</th>\n",
       "    </tr>\n",
       "  </thead>\n",
       "  <tbody>\n",
       "    <tr>\n",
       "      <th>0</th>\n",
       "      <td>4043</td>\n",
       "      <td>71</td>\n",
       "      <td>0</td>\n",
       "      <td>1.0</td>\n",
       "      <td>1.0</td>\n",
       "      <td>1.0</td>\n",
       "      <td>2</td>\n",
       "      <td>160.0</td>\n",
       "      <td>302.0</td>\n",
       "      <td>1.0</td>\n",
       "      <td>...</td>\n",
       "      <td>1.0</td>\n",
       "      <td>1.0</td>\n",
       "      <td>1.0</td>\n",
       "      <td>NaN</td>\n",
       "      <td>1.0</td>\n",
       "      <td>1.0</td>\n",
       "      <td>1.0</td>\n",
       "      <td>1.0</td>\n",
       "      <td>name</td>\n",
       "      <td>Cleveland</td>\n",
       "    </tr>\n",
       "    <tr>\n",
       "      <th>1</th>\n",
       "      <td>4159</td>\n",
       "      <td>60</td>\n",
       "      <td>1</td>\n",
       "      <td>1.0</td>\n",
       "      <td>1.0</td>\n",
       "      <td>1.0</td>\n",
       "      <td>4</td>\n",
       "      <td>140.0</td>\n",
       "      <td>293.0</td>\n",
       "      <td>NaN</td>\n",
       "      <td>...</td>\n",
       "      <td>1.0</td>\n",
       "      <td>2.0</td>\n",
       "      <td>1.0</td>\n",
       "      <td>1.0</td>\n",
       "      <td>1.0</td>\n",
       "      <td>1.0</td>\n",
       "      <td>2.0</td>\n",
       "      <td>1.0</td>\n",
       "      <td>name</td>\n",
       "      <td>Cleveland</td>\n",
       "    </tr>\n",
       "    <tr>\n",
       "      <th>2</th>\n",
       "      <td>5065</td>\n",
       "      <td>53</td>\n",
       "      <td>1</td>\n",
       "      <td>1.0</td>\n",
       "      <td>1.0</td>\n",
       "      <td>0.0</td>\n",
       "      <td>2</td>\n",
       "      <td>120.0</td>\n",
       "      <td>0.0</td>\n",
       "      <td>1.0</td>\n",
       "      <td>...</td>\n",
       "      <td>2.0</td>\n",
       "      <td>2.0</td>\n",
       "      <td>1.0</td>\n",
       "      <td>2.0</td>\n",
       "      <td>2.0</td>\n",
       "      <td>1.0</td>\n",
       "      <td>2.0</td>\n",
       "      <td>2.0</td>\n",
       "      <td>name</td>\n",
       "      <td>Switzerland</td>\n",
       "    </tr>\n",
       "    <tr>\n",
       "      <th>3</th>\n",
       "      <td>2003</td>\n",
       "      <td>37</td>\n",
       "      <td>1</td>\n",
       "      <td>1.0</td>\n",
       "      <td>0.0</td>\n",
       "      <td>0.0</td>\n",
       "      <td>2</td>\n",
       "      <td>130.0</td>\n",
       "      <td>283.0</td>\n",
       "      <td>1.0</td>\n",
       "      <td>...</td>\n",
       "      <td>1.0</td>\n",
       "      <td>1.0</td>\n",
       "      <td>1.0</td>\n",
       "      <td>1.0</td>\n",
       "      <td>NaN</td>\n",
       "      <td>1.0</td>\n",
       "      <td>1.0</td>\n",
       "      <td>1.0</td>\n",
       "      <td>name</td>\n",
       "      <td>Hungarian</td>\n",
       "    </tr>\n",
       "    <tr>\n",
       "      <th>4</th>\n",
       "      <td>3027</td>\n",
       "      <td>51</td>\n",
       "      <td>1</td>\n",
       "      <td>1.0</td>\n",
       "      <td>1.0</td>\n",
       "      <td>1.0</td>\n",
       "      <td>4</td>\n",
       "      <td>NaN</td>\n",
       "      <td>0.0</td>\n",
       "      <td>1.0</td>\n",
       "      <td>...</td>\n",
       "      <td>1.0</td>\n",
       "      <td>1.0</td>\n",
       "      <td>2.0</td>\n",
       "      <td>1.0</td>\n",
       "      <td>1.0</td>\n",
       "      <td>1.0</td>\n",
       "      <td>2.0</td>\n",
       "      <td>1.0</td>\n",
       "      <td>name</td>\n",
       "      <td>Va</td>\n",
       "    </tr>\n",
       "    <tr>\n",
       "      <th>5</th>\n",
       "      <td>3090</td>\n",
       "      <td>55</td>\n",
       "      <td>1</td>\n",
       "      <td>1.0</td>\n",
       "      <td>0.0</td>\n",
       "      <td>1.0</td>\n",
       "      <td>3</td>\n",
       "      <td>NaN</td>\n",
       "      <td>245.0</td>\n",
       "      <td>1.0</td>\n",
       "      <td>...</td>\n",
       "      <td>1.0</td>\n",
       "      <td>1.0</td>\n",
       "      <td>1.0</td>\n",
       "      <td>1.0</td>\n",
       "      <td>1.0</td>\n",
       "      <td>1.0</td>\n",
       "      <td>2.0</td>\n",
       "      <td>1.0</td>\n",
       "      <td>name</td>\n",
       "      <td>Va</td>\n",
       "    </tr>\n",
       "    <tr>\n",
       "      <th>6</th>\n",
       "      <td>3178</td>\n",
       "      <td>64</td>\n",
       "      <td>1</td>\n",
       "      <td>1.0</td>\n",
       "      <td>1.0</td>\n",
       "      <td>1.0</td>\n",
       "      <td>4</td>\n",
       "      <td>130.0</td>\n",
       "      <td>258.0</td>\n",
       "      <td>0.0</td>\n",
       "      <td>...</td>\n",
       "      <td>2.0</td>\n",
       "      <td>1.0</td>\n",
       "      <td>1.0</td>\n",
       "      <td>1.0</td>\n",
       "      <td>1.0</td>\n",
       "      <td>1.0</td>\n",
       "      <td>2.0</td>\n",
       "      <td>1.0</td>\n",
       "      <td>name</td>\n",
       "      <td>Va</td>\n",
       "    </tr>\n",
       "    <tr>\n",
       "      <th>7</th>\n",
       "      <td>4059</td>\n",
       "      <td>54</td>\n",
       "      <td>1</td>\n",
       "      <td>NaN</td>\n",
       "      <td>1.0</td>\n",
       "      <td>1.0</td>\n",
       "      <td>3</td>\n",
       "      <td>125.0</td>\n",
       "      <td>273.0</td>\n",
       "      <td>1.0</td>\n",
       "      <td>...</td>\n",
       "      <td>1.0</td>\n",
       "      <td>1.0</td>\n",
       "      <td>1.0</td>\n",
       "      <td>1.0</td>\n",
       "      <td>1.0</td>\n",
       "      <td>NaN</td>\n",
       "      <td>1.0</td>\n",
       "      <td>1.0</td>\n",
       "      <td>name</td>\n",
       "      <td>Cleveland</td>\n",
       "    </tr>\n",
       "    <tr>\n",
       "      <th>8</th>\n",
       "      <td>3071</td>\n",
       "      <td>55</td>\n",
       "      <td>1</td>\n",
       "      <td>1.0</td>\n",
       "      <td>0.0</td>\n",
       "      <td>0.0</td>\n",
       "      <td>2</td>\n",
       "      <td>110.0</td>\n",
       "      <td>214.0</td>\n",
       "      <td>0.0</td>\n",
       "      <td>...</td>\n",
       "      <td>1.0</td>\n",
       "      <td>1.0</td>\n",
       "      <td>1.0</td>\n",
       "      <td>1.0</td>\n",
       "      <td>1.0</td>\n",
       "      <td>1.0</td>\n",
       "      <td>1.0</td>\n",
       "      <td>1.0</td>\n",
       "      <td>name</td>\n",
       "      <td>Va</td>\n",
       "    </tr>\n",
       "    <tr>\n",
       "      <th>9</th>\n",
       "      <td>5108</td>\n",
       "      <td>50</td>\n",
       "      <td>0</td>\n",
       "      <td>1.0</td>\n",
       "      <td>1.0</td>\n",
       "      <td>1.0</td>\n",
       "      <td>4</td>\n",
       "      <td>160.0</td>\n",
       "      <td>0.0</td>\n",
       "      <td>1.0</td>\n",
       "      <td>...</td>\n",
       "      <td>1.0</td>\n",
       "      <td>1.0</td>\n",
       "      <td>1.0</td>\n",
       "      <td>1.0</td>\n",
       "      <td>1.0</td>\n",
       "      <td>1.0</td>\n",
       "      <td>2.0</td>\n",
       "      <td>1.0</td>\n",
       "      <td>name</td>\n",
       "      <td>Switzerland</td>\n",
       "    </tr>\n",
       "  </tbody>\n",
       "</table>\n",
       "<p>10 rows × 54 columns</p>\n",
       "</div>"
      ],
      "text/plain": [
       "     id  age  gender  chestpainloc  painexertion  reliefbyrest  chestpaintype  \\\n",
       "0  4043   71       0           1.0           1.0           1.0              2   \n",
       "1  4159   60       1           1.0           1.0           1.0              4   \n",
       "2  5065   53       1           1.0           1.0           0.0              2   \n",
       "3  2003   37       1           1.0           0.0           0.0              2   \n",
       "4  3027   51       1           1.0           1.0           1.0              4   \n",
       "5  3090   55       1           1.0           0.0           1.0              3   \n",
       "6  3178   64       1           1.0           1.0           1.0              4   \n",
       "7  4059   54       1           NaN           1.0           1.0              3   \n",
       "8  3071   55       1           1.0           0.0           0.0              2   \n",
       "9  5108   50       0           1.0           1.0           1.0              4   \n",
       "\n",
       "   restingBP  serumcholesterol  IsSmoker     ...       ladproximation  \\\n",
       "0      160.0             302.0       1.0     ...                  1.0   \n",
       "1      140.0             293.0       NaN     ...                  1.0   \n",
       "2      120.0               0.0       1.0     ...                  2.0   \n",
       "3      130.0             283.0       1.0     ...                  1.0   \n",
       "4        NaN               0.0       1.0     ...                  1.0   \n",
       "5        NaN             245.0       1.0     ...                  1.0   \n",
       "6      130.0             258.0       0.0     ...                  2.0   \n",
       "7      125.0             273.0       1.0     ...                  1.0   \n",
       "8      110.0             214.0       0.0     ...                  1.0   \n",
       "9      160.0               0.0       1.0     ...                  1.0   \n",
       "\n",
       "   laddistance  cxmain  ramus  obtuseMarginal1  obtuseMarginal2  \\\n",
       "0          1.0     1.0    NaN              1.0              1.0   \n",
       "1          2.0     1.0    1.0              1.0              1.0   \n",
       "2          2.0     1.0    2.0              2.0              1.0   \n",
       "3          1.0     1.0    1.0              NaN              1.0   \n",
       "4          1.0     2.0    1.0              1.0              1.0   \n",
       "5          1.0     1.0    1.0              1.0              1.0   \n",
       "6          1.0     1.0    1.0              1.0              1.0   \n",
       "7          1.0     1.0    1.0              1.0              NaN   \n",
       "8          1.0     1.0    1.0              1.0              1.0   \n",
       "9          1.0     1.0    1.0              1.0              1.0   \n",
       "\n",
       "   rcaproximation  rcadistance  nameOfPatient     Location  \n",
       "0             1.0          1.0           name    Cleveland  \n",
       "1             2.0          1.0           name    Cleveland  \n",
       "2             2.0          2.0           name  Switzerland  \n",
       "3             1.0          1.0           name    Hungarian  \n",
       "4             2.0          1.0           name           Va  \n",
       "5             2.0          1.0           name           Va  \n",
       "6             2.0          1.0           name           Va  \n",
       "7             1.0          1.0           name    Cleveland  \n",
       "8             1.0          1.0           name           Va  \n",
       "9             2.0          1.0           name  Switzerland  \n",
       "\n",
       "[10 rows x 54 columns]"
      ]
     },
     "execution_count": 872,
     "metadata": {},
     "output_type": "execute_result"
    }
   ],
   "source": [
    "heart_test.head(10)"
   ]
  },
  {
   "cell_type": "code",
   "execution_count": 873,
   "metadata": {},
   "outputs": [
    {
     "data": {
      "text/plain": [
       "id                       int64\n",
       "age                      int64\n",
       "gender                   int64\n",
       "chestpainloc           float64\n",
       "painexertion           float64\n",
       "reliefbyrest           float64\n",
       "chestpaintype            int64\n",
       "restingBP              float64\n",
       "serumcholesterol       float64\n",
       "IsSmoker               float64\n",
       "NumCigs                float64\n",
       "SmokingPeriod          float64\n",
       "FastingBS              float64\n",
       "FamHistory             float64\n",
       "restingECGRes          float64\n",
       "ECGspecsDigitalis      float64\n",
       "ECGspecsBetaBlocker    float64\n",
       "ECGspecsNitrates       float64\n",
       "ECGspecsCalci          float64\n",
       "ECGspecsdiuretic       float64\n",
       "ExTestDuration         float64\n",
       "TimeSTNoted            float64\n",
       "Metabolism             float64\n",
       "MaxHR                  float64\n",
       "RestHRGen              float64\n",
       "PeakExBP1              float64\n",
       "PeakExBP2              float64\n",
       "restingBPGen           float64\n",
       "ExInducedAngina        float64\n",
       "xhypo                  float64\n",
       "Stdepression           float64\n",
       "Slope                  float64\n",
       "HeightatRest           float64\n",
       "heightatPeakEx         float64\n",
       "NumMajVessels          float64\n",
       "restRaidonuclid        float64\n",
       "restwallmotion         float64\n",
       "exerRadinalid          float64\n",
       "ExerWallmotion         float64\n",
       "thalassemia            float64\n",
       "thalsev                float64\n",
       "thalpul                float64\n",
       "earlobe                float64\n",
       "LeftMaintrunk          float64\n",
       "ladproximation         float64\n",
       "laddistance            float64\n",
       "cxmain                 float64\n",
       "ramus                  float64\n",
       "obtuseMarginal1        float64\n",
       "obtuseMarginal2        float64\n",
       "rcaproximation         float64\n",
       "rcadistance            float64\n",
       "nameOfPatient           object\n",
       "Location                object\n",
       "Severity                object\n",
       "dtype: object"
      ]
     },
     "execution_count": 873,
     "metadata": {},
     "output_type": "execute_result"
    }
   ],
   "source": [
    "heart_train.dtypes"
   ]
  },
  {
   "cell_type": "markdown",
   "metadata": {},
   "source": [
    "###According to my  data understanding and domain knowledge age,smoker,no of cigs.Famhistory should contribute to heart attack more."
   ]
  },
  {
   "cell_type": "code",
   "execution_count": 874,
   "metadata": {},
   "outputs": [],
   "source": [
    "def Count_unique_values(df):\n",
    "    for i in df:\n",
    "        print(i,\":\",df[i].nunique())"
   ]
  },
  {
   "cell_type": "code",
   "execution_count": 875,
   "metadata": {},
   "outputs": [
    {
     "name": "stdout",
     "output_type": "stream",
     "text": [
      "id : 674\n",
      "age : 49\n",
      "gender : 2\n",
      "chestpainloc : 2\n",
      "painexertion : 2\n",
      "reliefbyrest : 2\n",
      "chestpaintype : 4\n",
      "restingBP : 58\n",
      "serumcholesterol : 199\n",
      "IsSmoker : 2\n",
      "NumCigs : 23\n",
      "SmokingPeriod : 38\n",
      "FastingBS : 2\n",
      "FamHistory : 2\n",
      "restingECGRes : 3\n",
      "ECGspecsDigitalis : 2\n",
      "ECGspecsBetaBlocker : 2\n",
      "ECGspecsNitrates : 2\n",
      "ECGspecsCalci : 2\n",
      "ECGspecsdiuretic : 2\n",
      "ExTestDuration : 75\n",
      "TimeSTNoted : 56\n",
      "Metabolism : 33\n",
      "MaxHR : 112\n",
      "RestHRGen : 70\n",
      "PeakExBP1 : 64\n",
      "PeakExBP2 : 45\n",
      "restingBPGen : 32\n",
      "ExInducedAngina : 2\n",
      "xhypo : 2\n",
      "Stdepression : 49\n",
      "Slope : 4\n",
      "HeightatRest : 29\n",
      "heightatPeakEx : 125\n",
      "NumMajVessels : 5\n",
      "restRaidonuclid : 18\n",
      "restwallmotion : 4\n",
      "exerRadinalid : 2\n",
      "ExerWallmotion : 1\n",
      "thalassemia : 7\n",
      "thalsev : 4\n",
      "thalpul : 2\n",
      "earlobe : 1\n",
      "LeftMaintrunk : 4\n",
      "ladproximation : 2\n",
      "laddistance : 2\n",
      "cxmain : 2\n",
      "ramus : 2\n",
      "obtuseMarginal1 : 2\n",
      "obtuseMarginal2 : 2\n",
      "rcaproximation : 2\n",
      "rcadistance : 2\n",
      "nameOfPatient : 1\n",
      "Location : 4\n",
      "Severity : 5\n"
     ]
    }
   ],
   "source": [
    "Count_unique_values(heart_train)"
   ]
  },
  {
   "cell_type": "code",
   "execution_count": 876,
   "metadata": {},
   "outputs": [],
   "source": [
    "def drop_fun(df,cols):\n",
    "    for i in cols:\n",
    "        df.drop(i,axis=1,inplace=True)"
   ]
  },
  {
   "cell_type": "code",
   "execution_count": 877,
   "metadata": {},
   "outputs": [],
   "source": [
    "heart_train.drop('id',axis=1,inplace=True)\n",
    "heart_test.drop('id',axis=1,inplace=True)"
   ]
  },
  {
   "cell_type": "code",
   "execution_count": 878,
   "metadata": {},
   "outputs": [
    {
     "data": {
      "text/plain": [
       "age                      int64\n",
       "gender                   int64\n",
       "chestpainloc           float64\n",
       "painexertion           float64\n",
       "reliefbyrest           float64\n",
       "chestpaintype            int64\n",
       "restingBP              float64\n",
       "serumcholesterol       float64\n",
       "IsSmoker               float64\n",
       "NumCigs                float64\n",
       "SmokingPeriod          float64\n",
       "FastingBS              float64\n",
       "FamHistory             float64\n",
       "restingECGRes          float64\n",
       "ECGspecsDigitalis      float64\n",
       "ECGspecsBetaBlocker    float64\n",
       "ECGspecsNitrates       float64\n",
       "ECGspecsCalci          float64\n",
       "ECGspecsdiuretic       float64\n",
       "ExTestDuration         float64\n",
       "TimeSTNoted            float64\n",
       "Metabolism             float64\n",
       "MaxHR                  float64\n",
       "RestHRGen              float64\n",
       "PeakExBP1              float64\n",
       "PeakExBP2              float64\n",
       "restingBPGen           float64\n",
       "ExInducedAngina        float64\n",
       "xhypo                  float64\n",
       "Stdepression           float64\n",
       "Slope                  float64\n",
       "HeightatRest           float64\n",
       "heightatPeakEx         float64\n",
       "NumMajVessels          float64\n",
       "restRaidonuclid        float64\n",
       "restwallmotion         float64\n",
       "exerRadinalid          float64\n",
       "ExerWallmotion         float64\n",
       "thalassemia            float64\n",
       "thalsev                float64\n",
       "thalpul                float64\n",
       "earlobe                float64\n",
       "LeftMaintrunk          float64\n",
       "ladproximation         float64\n",
       "laddistance            float64\n",
       "cxmain                 float64\n",
       "ramus                  float64\n",
       "obtuseMarginal1        float64\n",
       "obtuseMarginal2        float64\n",
       "rcaproximation         float64\n",
       "rcadistance            float64\n",
       "nameOfPatient           object\n",
       "Location                object\n",
       "Severity                object\n",
       "dtype: object"
      ]
     },
     "execution_count": 878,
     "metadata": {},
     "output_type": "execute_result"
    }
   ],
   "source": [
    "heart_train.dtypes"
   ]
  },
  {
   "cell_type": "code",
   "execution_count": 879,
   "metadata": {},
   "outputs": [],
   "source": [
    "num_cols = ['age','restingBP','serumcholesterol','NumCigs','SmokingPeriod','ExTestDuration','TimeSTNoted','Metabolism','MaxHR',\n",
    "            'RestHRGen','PeakExBP1','PeakExBP2','restingBPGen','Stdepression','HeightatRest','heightatPeakEx','NumMajVessels',\n",
    "            'restRaidonuclid','exerRadinalid','thalsev','thalpul','earlobe']\n",
    "cat_cols = [i for i in heart_train.columns.values if i not in num_cols]\n",
    "cat_cols.remove('Severity')"
   ]
  },
  {
   "cell_type": "code",
   "execution_count": 880,
   "metadata": {},
   "outputs": [
    {
     "name": "stdout",
     "output_type": "stream",
     "text": [
      "22\n",
      "31\n"
     ]
    }
   ],
   "source": [
    "print(len(num_cols))\n",
    "print(len(cat_cols))"
   ]
  },
  {
   "cell_type": "code",
   "execution_count": 881,
   "metadata": {},
   "outputs": [],
   "source": [
    "#heart_train.columns.get_loc(\"Severity\")"
   ]
  },
  {
   "cell_type": "code",
   "execution_count": 882,
   "metadata": {},
   "outputs": [],
   "source": [
    "#heart_test.insert(53,\"Severity\",0)"
   ]
  },
  {
   "cell_type": "markdown",
   "metadata": {},
   "source": [
    "#Function for conversion of data types:-"
   ]
  },
  {
   "cell_type": "code",
   "execution_count": 883,
   "metadata": {},
   "outputs": [],
   "source": [
    "def Convert_Category(df,cat_cols):\n",
    "    for col in cat_cols:\n",
    "        df[col] = df[col].astype('category')"
   ]
  },
  {
   "cell_type": "code",
   "execution_count": 884,
   "metadata": {},
   "outputs": [],
   "source": [
    "def Convert_Numeric(df,num_cols):\n",
    "    for col in num_cols:\n",
    "        df[col] = df[col].astype('float64')"
   ]
  },
  {
   "cell_type": "code",
   "execution_count": 885,
   "metadata": {},
   "outputs": [],
   "source": [
    "Convert_Category(heart_train,cat_cols)\n",
    "Convert_Numeric(heart_train,num_cols)\n",
    "Convert_Category(heart_test,cat_cols)\n",
    "Convert_Numeric(heart_test,num_cols)"
   ]
  },
  {
   "cell_type": "code",
   "execution_count": 886,
   "metadata": {},
   "outputs": [
    {
     "data": {
      "text/plain": [
       "age                     float64\n",
       "gender                 category\n",
       "chestpainloc           category\n",
       "painexertion           category\n",
       "reliefbyrest           category\n",
       "chestpaintype          category\n",
       "restingBP               float64\n",
       "serumcholesterol        float64\n",
       "IsSmoker               category\n",
       "NumCigs                 float64\n",
       "SmokingPeriod           float64\n",
       "FastingBS              category\n",
       "FamHistory             category\n",
       "restingECGRes          category\n",
       "ECGspecsDigitalis      category\n",
       "ECGspecsBetaBlocker    category\n",
       "ECGspecsNitrates       category\n",
       "ECGspecsCalci          category\n",
       "ECGspecsdiuretic       category\n",
       "ExTestDuration          float64\n",
       "TimeSTNoted             float64\n",
       "Metabolism              float64\n",
       "MaxHR                   float64\n",
       "RestHRGen               float64\n",
       "PeakExBP1               float64\n",
       "PeakExBP2               float64\n",
       "restingBPGen            float64\n",
       "ExInducedAngina        category\n",
       "xhypo                  category\n",
       "Stdepression            float64\n",
       "Slope                  category\n",
       "HeightatRest            float64\n",
       "heightatPeakEx          float64\n",
       "NumMajVessels           float64\n",
       "restRaidonuclid         float64\n",
       "restwallmotion         category\n",
       "exerRadinalid           float64\n",
       "ExerWallmotion         category\n",
       "thalassemia            category\n",
       "thalsev                 float64\n",
       "thalpul                 float64\n",
       "earlobe                 float64\n",
       "LeftMaintrunk          category\n",
       "ladproximation         category\n",
       "laddistance            category\n",
       "cxmain                 category\n",
       "ramus                  category\n",
       "obtuseMarginal1        category\n",
       "obtuseMarginal2        category\n",
       "rcaproximation         category\n",
       "rcadistance            category\n",
       "nameOfPatient          category\n",
       "Location               category\n",
       "Severity                 object\n",
       "dtype: object"
      ]
     },
     "execution_count": 886,
     "metadata": {},
     "output_type": "execute_result"
    }
   ],
   "source": [
    "heart_train.dtypes"
   ]
  },
  {
   "cell_type": "code",
   "execution_count": 887,
   "metadata": {},
   "outputs": [
    {
     "data": {
      "text/plain": [
       "age                     float64\n",
       "gender                 category\n",
       "chestpainloc           category\n",
       "painexertion           category\n",
       "reliefbyrest           category\n",
       "chestpaintype          category\n",
       "restingBP               float64\n",
       "serumcholesterol        float64\n",
       "IsSmoker               category\n",
       "NumCigs                 float64\n",
       "SmokingPeriod           float64\n",
       "FastingBS              category\n",
       "FamHistory             category\n",
       "restingECGRes          category\n",
       "ECGspecsDigitalis      category\n",
       "ECGspecsBetaBlocker    category\n",
       "ECGspecsNitrates       category\n",
       "ECGspecsCalci          category\n",
       "ECGspecsdiuretic       category\n",
       "ExTestDuration          float64\n",
       "TimeSTNoted             float64\n",
       "Metabolism              float64\n",
       "MaxHR                   float64\n",
       "RestHRGen               float64\n",
       "PeakExBP1               float64\n",
       "PeakExBP2               float64\n",
       "restingBPGen            float64\n",
       "ExInducedAngina        category\n",
       "xhypo                  category\n",
       "Stdepression            float64\n",
       "Slope                  category\n",
       "HeightatRest            float64\n",
       "heightatPeakEx          float64\n",
       "NumMajVessels           float64\n",
       "restRaidonuclid         float64\n",
       "restwallmotion         category\n",
       "exerRadinalid           float64\n",
       "ExerWallmotion         category\n",
       "thalassemia            category\n",
       "thalsev                 float64\n",
       "thalpul                 float64\n",
       "earlobe                 float64\n",
       "LeftMaintrunk          category\n",
       "ladproximation         category\n",
       "laddistance            category\n",
       "cxmain                 category\n",
       "ramus                  category\n",
       "obtuseMarginal1        category\n",
       "obtuseMarginal2        category\n",
       "rcaproximation         category\n",
       "rcadistance            category\n",
       "nameOfPatient          category\n",
       "Location               category\n",
       "dtype: object"
      ]
     },
     "execution_count": 887,
     "metadata": {},
     "output_type": "execute_result"
    }
   ],
   "source": [
    "heart_test.dtypes"
   ]
  },
  {
   "cell_type": "code",
   "execution_count": 888,
   "metadata": {},
   "outputs": [
    {
     "data": {
      "text/html": [
       "<div>\n",
       "<style scoped>\n",
       "    .dataframe tbody tr th:only-of-type {\n",
       "        vertical-align: middle;\n",
       "    }\n",
       "\n",
       "    .dataframe tbody tr th {\n",
       "        vertical-align: top;\n",
       "    }\n",
       "\n",
       "    .dataframe thead th {\n",
       "        text-align: right;\n",
       "    }\n",
       "</style>\n",
       "<table border=\"1\" class=\"dataframe\">\n",
       "  <thead>\n",
       "    <tr style=\"text-align: right;\">\n",
       "      <th></th>\n",
       "      <th>age</th>\n",
       "      <th>restingBP</th>\n",
       "      <th>serumcholesterol</th>\n",
       "      <th>NumCigs</th>\n",
       "      <th>SmokingPeriod</th>\n",
       "      <th>ExTestDuration</th>\n",
       "      <th>TimeSTNoted</th>\n",
       "      <th>Metabolism</th>\n",
       "      <th>MaxHR</th>\n",
       "      <th>RestHRGen</th>\n",
       "      <th>...</th>\n",
       "      <th>restingBPGen</th>\n",
       "      <th>Stdepression</th>\n",
       "      <th>HeightatRest</th>\n",
       "      <th>heightatPeakEx</th>\n",
       "      <th>NumMajVessels</th>\n",
       "      <th>restRaidonuclid</th>\n",
       "      <th>exerRadinalid</th>\n",
       "      <th>thalsev</th>\n",
       "      <th>thalpul</th>\n",
       "      <th>earlobe</th>\n",
       "    </tr>\n",
       "  </thead>\n",
       "  <tbody>\n",
       "    <tr>\n",
       "      <th>count</th>\n",
       "      <td>674.000000</td>\n",
       "      <td>629.000000</td>\n",
       "      <td>654.000000</td>\n",
       "      <td>655.000000</td>\n",
       "      <td>654.000000</td>\n",
       "      <td>630.000000</td>\n",
       "      <td>657.000000</td>\n",
       "      <td>594.000000</td>\n",
       "      <td>631.000000</td>\n",
       "      <td>631.000000</td>\n",
       "      <td>...</td>\n",
       "      <td>629.000000</td>\n",
       "      <td>628.000000</td>\n",
       "      <td>656.000000</td>\n",
       "      <td>668.000000</td>\n",
       "      <td>654.000000</td>\n",
       "      <td>641.000000</td>\n",
       "      <td>641.000000</td>\n",
       "      <td>644.000000</td>\n",
       "      <td>642.000000</td>\n",
       "      <td>638.0</td>\n",
       "    </tr>\n",
       "    <tr>\n",
       "      <th>mean</th>\n",
       "      <td>53.731454</td>\n",
       "      <td>131.567568</td>\n",
       "      <td>202.246177</td>\n",
       "      <td>18.567939</td>\n",
       "      <td>18.493884</td>\n",
       "      <td>8.697460</td>\n",
       "      <td>5.830137</td>\n",
       "      <td>15.770707</td>\n",
       "      <td>137.508716</td>\n",
       "      <td>74.980983</td>\n",
       "      <td>...</td>\n",
       "      <td>83.316375</td>\n",
       "      <td>0.872771</td>\n",
       "      <td>14.184451</td>\n",
       "      <td>56.498503</td>\n",
       "      <td>0.894495</td>\n",
       "      <td>0.987520</td>\n",
       "      <td>0.999220</td>\n",
       "      <td>1.049689</td>\n",
       "      <td>0.017134</td>\n",
       "      <td>0.0</td>\n",
       "    </tr>\n",
       "    <tr>\n",
       "      <th>std</th>\n",
       "      <td>9.472914</td>\n",
       "      <td>18.886030</td>\n",
       "      <td>110.366335</td>\n",
       "      <td>13.292909</td>\n",
       "      <td>11.943170</td>\n",
       "      <td>3.713238</td>\n",
       "      <td>2.935268</td>\n",
       "      <td>29.709164</td>\n",
       "      <td>25.672223</td>\n",
       "      <td>14.182359</td>\n",
       "      <td>...</td>\n",
       "      <td>10.072511</td>\n",
       "      <td>1.080673</td>\n",
       "      <td>4.091451</td>\n",
       "      <td>57.012413</td>\n",
       "      <td>0.649797</td>\n",
       "      <td>0.074659</td>\n",
       "      <td>0.019749</td>\n",
       "      <td>0.387218</td>\n",
       "      <td>0.129872</td>\n",
       "      <td>0.0</td>\n",
       "    </tr>\n",
       "    <tr>\n",
       "      <th>min</th>\n",
       "      <td>28.000000</td>\n",
       "      <td>0.000000</td>\n",
       "      <td>0.000000</td>\n",
       "      <td>0.000000</td>\n",
       "      <td>0.000000</td>\n",
       "      <td>1.500000</td>\n",
       "      <td>0.000000</td>\n",
       "      <td>2.000000</td>\n",
       "      <td>60.000000</td>\n",
       "      <td>37.000000</td>\n",
       "      <td>...</td>\n",
       "      <td>0.000000</td>\n",
       "      <td>-2.600000</td>\n",
       "      <td>2.000000</td>\n",
       "      <td>2.000000</td>\n",
       "      <td>0.000000</td>\n",
       "      <td>0.360000</td>\n",
       "      <td>0.500000</td>\n",
       "      <td>0.000000</td>\n",
       "      <td>0.000000</td>\n",
       "      <td>0.0</td>\n",
       "    </tr>\n",
       "    <tr>\n",
       "      <th>25%</th>\n",
       "      <td>47.000000</td>\n",
       "      <td>120.000000</td>\n",
       "      <td>179.250000</td>\n",
       "      <td>19.000000</td>\n",
       "      <td>18.250000</td>\n",
       "      <td>6.000000</td>\n",
       "      <td>5.500000</td>\n",
       "      <td>5.000000</td>\n",
       "      <td>120.000000</td>\n",
       "      <td>65.000000</td>\n",
       "      <td>...</td>\n",
       "      <td>80.000000</td>\n",
       "      <td>0.000000</td>\n",
       "      <td>13.000000</td>\n",
       "      <td>13.000000</td>\n",
       "      <td>1.000000</td>\n",
       "      <td>1.000000</td>\n",
       "      <td>1.000000</td>\n",
       "      <td>1.000000</td>\n",
       "      <td>0.000000</td>\n",
       "      <td>0.0</td>\n",
       "    </tr>\n",
       "    <tr>\n",
       "      <th>50%</th>\n",
       "      <td>54.000000</td>\n",
       "      <td>130.000000</td>\n",
       "      <td>224.500000</td>\n",
       "      <td>19.000000</td>\n",
       "      <td>19.000000</td>\n",
       "      <td>8.500000</td>\n",
       "      <td>6.000000</td>\n",
       "      <td>7.000000</td>\n",
       "      <td>140.000000</td>\n",
       "      <td>74.000000</td>\n",
       "      <td>...</td>\n",
       "      <td>80.000000</td>\n",
       "      <td>0.500000</td>\n",
       "      <td>14.000000</td>\n",
       "      <td>24.000000</td>\n",
       "      <td>1.000000</td>\n",
       "      <td>1.000000</td>\n",
       "      <td>1.000000</td>\n",
       "      <td>1.000000</td>\n",
       "      <td>0.000000</td>\n",
       "      <td>0.0</td>\n",
       "    </tr>\n",
       "    <tr>\n",
       "      <th>75%</th>\n",
       "      <td>60.000000</td>\n",
       "      <td>140.000000</td>\n",
       "      <td>269.000000</td>\n",
       "      <td>20.000000</td>\n",
       "      <td>20.000000</td>\n",
       "      <td>11.000000</td>\n",
       "      <td>6.000000</td>\n",
       "      <td>10.000000</td>\n",
       "      <td>157.000000</td>\n",
       "      <td>84.000000</td>\n",
       "      <td>...</td>\n",
       "      <td>90.000000</td>\n",
       "      <td>1.500000</td>\n",
       "      <td>14.000000</td>\n",
       "      <td>90.250000</td>\n",
       "      <td>1.000000</td>\n",
       "      <td>1.000000</td>\n",
       "      <td>1.000000</td>\n",
       "      <td>1.000000</td>\n",
       "      <td>0.000000</td>\n",
       "      <td>0.0</td>\n",
       "    </tr>\n",
       "    <tr>\n",
       "      <th>max</th>\n",
       "      <td>77.000000</td>\n",
       "      <td>200.000000</td>\n",
       "      <td>603.000000</td>\n",
       "      <td>80.000000</td>\n",
       "      <td>60.000000</td>\n",
       "      <td>21.000000</td>\n",
       "      <td>20.000000</td>\n",
       "      <td>200.000000</td>\n",
       "      <td>202.000000</td>\n",
       "      <td>125.000000</td>\n",
       "      <td>...</td>\n",
       "      <td>120.000000</td>\n",
       "      <td>6.200000</td>\n",
       "      <td>31.000000</td>\n",
       "      <td>270.000000</td>\n",
       "      <td>9.000000</td>\n",
       "      <td>1.000000</td>\n",
       "      <td>1.000000</td>\n",
       "      <td>3.000000</td>\n",
       "      <td>1.000000</td>\n",
       "      <td>0.0</td>\n",
       "    </tr>\n",
       "  </tbody>\n",
       "</table>\n",
       "<p>8 rows × 22 columns</p>\n",
       "</div>"
      ],
      "text/plain": [
       "              age   restingBP  serumcholesterol     NumCigs  SmokingPeriod  \\\n",
       "count  674.000000  629.000000        654.000000  655.000000     654.000000   \n",
       "mean    53.731454  131.567568        202.246177   18.567939      18.493884   \n",
       "std      9.472914   18.886030        110.366335   13.292909      11.943170   \n",
       "min     28.000000    0.000000          0.000000    0.000000       0.000000   \n",
       "25%     47.000000  120.000000        179.250000   19.000000      18.250000   \n",
       "50%     54.000000  130.000000        224.500000   19.000000      19.000000   \n",
       "75%     60.000000  140.000000        269.000000   20.000000      20.000000   \n",
       "max     77.000000  200.000000        603.000000   80.000000      60.000000   \n",
       "\n",
       "       ExTestDuration  TimeSTNoted  Metabolism       MaxHR   RestHRGen  \\\n",
       "count      630.000000   657.000000  594.000000  631.000000  631.000000   \n",
       "mean         8.697460     5.830137   15.770707  137.508716   74.980983   \n",
       "std          3.713238     2.935268   29.709164   25.672223   14.182359   \n",
       "min          1.500000     0.000000    2.000000   60.000000   37.000000   \n",
       "25%          6.000000     5.500000    5.000000  120.000000   65.000000   \n",
       "50%          8.500000     6.000000    7.000000  140.000000   74.000000   \n",
       "75%         11.000000     6.000000   10.000000  157.000000   84.000000   \n",
       "max         21.000000    20.000000  200.000000  202.000000  125.000000   \n",
       "\n",
       "        ...     restingBPGen  Stdepression  HeightatRest  heightatPeakEx  \\\n",
       "count   ...       629.000000    628.000000    656.000000      668.000000   \n",
       "mean    ...        83.316375      0.872771     14.184451       56.498503   \n",
       "std     ...        10.072511      1.080673      4.091451       57.012413   \n",
       "min     ...         0.000000     -2.600000      2.000000        2.000000   \n",
       "25%     ...        80.000000      0.000000     13.000000       13.000000   \n",
       "50%     ...        80.000000      0.500000     14.000000       24.000000   \n",
       "75%     ...        90.000000      1.500000     14.000000       90.250000   \n",
       "max     ...       120.000000      6.200000     31.000000      270.000000   \n",
       "\n",
       "       NumMajVessels  restRaidonuclid  exerRadinalid     thalsev     thalpul  \\\n",
       "count     654.000000       641.000000     641.000000  644.000000  642.000000   \n",
       "mean        0.894495         0.987520       0.999220    1.049689    0.017134   \n",
       "std         0.649797         0.074659       0.019749    0.387218    0.129872   \n",
       "min         0.000000         0.360000       0.500000    0.000000    0.000000   \n",
       "25%         1.000000         1.000000       1.000000    1.000000    0.000000   \n",
       "50%         1.000000         1.000000       1.000000    1.000000    0.000000   \n",
       "75%         1.000000         1.000000       1.000000    1.000000    0.000000   \n",
       "max         9.000000         1.000000       1.000000    3.000000    1.000000   \n",
       "\n",
       "       earlobe  \n",
       "count    638.0  \n",
       "mean       0.0  \n",
       "std        0.0  \n",
       "min        0.0  \n",
       "25%        0.0  \n",
       "50%        0.0  \n",
       "75%        0.0  \n",
       "max        0.0  \n",
       "\n",
       "[8 rows x 22 columns]"
      ]
     },
     "execution_count": 888,
     "metadata": {},
     "output_type": "execute_result"
    }
   ],
   "source": [
    "heart_train.describe()"
   ]
  },
  {
   "cell_type": "markdown",
   "metadata": {},
   "source": [
    "#Creating bar graph for all categorical attributes"
   ]
  },
  {
   "cell_type": "code",
   "execution_count": 889,
   "metadata": {},
   "outputs": [],
   "source": [
    "# def plot_bar_category(df,cat_cols):\n",
    "#     for i in cat_cols:\n",
    "#         df[i].value_counts().plot(kind='bar')"
   ]
  },
  {
   "cell_type": "code",
   "execution_count": 890,
   "metadata": {},
   "outputs": [],
   "source": [
    "# def plot_bar_category(df,cat_cols):\n",
    "#     categorical_features = cat_cols\n",
    "#     fig, ax = plt.subplots(1, len(categorical_features))\n",
    "#     for i, categorical_feature in enumerate(df[categorical_features]):\n",
    "#         df[categorical_feature].value_counts().plot(\"bar\", ax=ax[i]).set_title(categorical_feature)   \n",
    "#     plt.show()    "
   ]
  },
  {
   "cell_type": "code",
   "execution_count": 891,
   "metadata": {},
   "outputs": [],
   "source": [
    "def generate_layout_bar(col_name):\n",
    "    layout_bar = go.Layout(\n",
    "        autosize=False, # auto size the graph? use False if you are specifying the height and width\n",
    "        width=800, # height of the figure in pixels\n",
    "        height=600, # height of the figure in pixels\n",
    "        title = \"Distribution of {} column\".format(col_name), # title of the figure\n",
    "        # more granular control on the title font \n",
    "        titlefont=dict( \n",
    "            family='Courier New, monospace', # font family\n",
    "            size=14, # size of the font\n",
    "            color='black' # color of the font\n",
    "        ),\n",
    "        # granular control on the axes objects \n",
    "        xaxis=dict( \n",
    "        tickfont=dict(\n",
    "            family='Courier New, monospace', # font family\n",
    "            size=14, # size of ticks displayed on the x axis\n",
    "            color='black'  # color of the font\n",
    "            )\n",
    "        ),\n",
    "        yaxis=dict(\n",
    "#         range=[0,100],\n",
    "            title='Percentage',\n",
    "            titlefont=dict(\n",
    "                size=14,\n",
    "                color='black'\n",
    "            ),\n",
    "        tickfont=dict(\n",
    "            family='Courier New, monospace', # font family\n",
    "            size=14, # size of ticks displayed on the y axis\n",
    "            color='black' # color of the font\n",
    "            )\n",
    "        ),\n",
    "        font = dict(\n",
    "            family='Courier New, monospace', # font family\n",
    "            color = \"white\",# color of the font\n",
    "            size = 12 # size of the font displayed on the bar\n",
    "                )  \n",
    "        )\n",
    "    return layout_bar"
   ]
  },
  {
   "cell_type": "code",
   "execution_count": 892,
   "metadata": {},
   "outputs": [],
   "source": [
    "def plot_bar(df,col_name):\n",
    "    # create a table with value counts\n",
    "    temp = df[col_name].value_counts()\n",
    "    print('########################################################################################')\n",
    "    print(temp)\n",
    "    print(\"\\n total = \" ,sum(temp.values))\n",
    "    print(\"\\n Percentages = \",np.round(temp.values.astype(float)/temp.values.sum(),4)*100)\n",
    "    print('########################################################################################')\n",
    "   \n",
    "    # creating a Bar chart object of plotly\n",
    "    data = [go.Bar(\n",
    "            x=temp.index.astype(str), # x axis values\n",
    "            y=np.round(temp.values.astype(float)/temp.values.sum(),4)*100, # y axis values\n",
    "            text = ['{}%'.format(i) for i in np.round(temp.values.astype(float)/temp.values.sum(),4)*100],\n",
    "        # text to be displayed on the bar, we are doing this to display the '%' symbol along with the number on the bar\n",
    "            textposition = 'auto', # specify at which position on the bar the text should appear\n",
    "        marker = dict(color = '#0047AB'),)] # change color of the bar\n",
    "    # color used here Cobalt Blue\n",
    "     \n",
    "    layout_bar = generate_layout_bar(col_name=col_name)\n",
    "\n",
    "    fig = go.Figure(data=data, layout=layout_bar)\n",
    "    return iplot(fig)"
   ]
  },
  {
   "cell_type": "code",
   "execution_count": 893,
   "metadata": {},
   "outputs": [
    {
     "name": "stdout",
     "output_type": "stream",
     "text": [
      "########################################################################################\n",
      "1    529\n",
      "0    145\n",
      "Name: gender, dtype: int64\n",
      "\n",
      " total =  674\n",
      "\n",
      " Percentages =  [78.49 21.51]\n",
      "########################################################################################\n"
     ]
    },
    {
     "data": {
      "application/vnd.plotly.v1+json": {
       "config": {
        "linkText": "Export to plot.ly",
        "plotlyServerURL": "https://plot.ly",
        "showLink": false
       },
       "data": [
        {
         "marker": {
          "color": "#0047AB"
         },
         "text": [
          "78.49000000000001%",
          "21.51%"
         ],
         "textposition": "auto",
         "type": "bar",
         "uid": "a97771bc-3e3e-4679-b0ec-a808c7782e8a",
         "x": [
          "1",
          "0"
         ],
         "y": [
          78.49000000000001,
          21.51
         ]
        }
       ],
       "layout": {
        "autosize": false,
        "font": {
         "color": "white",
         "family": "Courier New, monospace",
         "size": 12
        },
        "height": 600,
        "title": {
         "font": {
          "color": "black",
          "family": "Courier New, monospace",
          "size": 14
         },
         "text": "Distribution of gender column"
        },
        "width": 800,
        "xaxis": {
         "tickfont": {
          "color": "black",
          "family": "Courier New, monospace",
          "size": 14
         }
        },
        "yaxis": {
         "tickfont": {
          "color": "black",
          "family": "Courier New, monospace",
          "size": 14
         },
         "title": {
          "font": {
           "color": "black",
           "size": 14
          },
          "text": "Percentage"
         }
        }
       }
      },
      "text/html": [
       "<div id=\"aef4c286-b446-4d07-ab90-c2842af25787\" style=\"height: 600px; width: 800px;\" class=\"plotly-graph-div\"></div><script type=\"text/javascript\">require([\"plotly\"], function(Plotly) { window.PLOTLYENV=window.PLOTLYENV || {};window.PLOTLYENV.BASE_URL=\"https://plot.ly\";Plotly.newPlot(\"aef4c286-b446-4d07-ab90-c2842af25787\", [{\"marker\": {\"color\": \"#0047AB\"}, \"text\": [\"78.49000000000001%\", \"21.51%\"], \"textposition\": \"auto\", \"x\": [\"1\", \"0\"], \"y\": [78.49000000000001, 21.51], \"type\": \"bar\", \"uid\": \"a97771bc-3e3e-4679-b0ec-a808c7782e8a\"}], {\"autosize\": false, \"font\": {\"color\": \"white\", \"family\": \"Courier New, monospace\", \"size\": 12}, \"height\": 600, \"title\": {\"font\": {\"color\": \"black\", \"family\": \"Courier New, monospace\", \"size\": 14}, \"text\": \"Distribution of gender column\"}, \"width\": 800, \"xaxis\": {\"tickfont\": {\"color\": \"black\", \"family\": \"Courier New, monospace\", \"size\": 14}}, \"yaxis\": {\"tickfont\": {\"color\": \"black\", \"family\": \"Courier New, monospace\", \"size\": 14}, \"title\": {\"font\": {\"color\": \"black\", \"size\": 14}, \"text\": \"Percentage\"}}}, {\"showLink\": false, \"linkText\": \"Export to plot.ly\", \"plotlyServerURL\": \"https://plot.ly\"})});</script>"
      ],
      "text/vnd.plotly.v1+html": [
       "<div id=\"aef4c286-b446-4d07-ab90-c2842af25787\" style=\"height: 600px; width: 800px;\" class=\"plotly-graph-div\"></div><script type=\"text/javascript\">require([\"plotly\"], function(Plotly) { window.PLOTLYENV=window.PLOTLYENV || {};window.PLOTLYENV.BASE_URL=\"https://plot.ly\";Plotly.newPlot(\"aef4c286-b446-4d07-ab90-c2842af25787\", [{\"marker\": {\"color\": \"#0047AB\"}, \"text\": [\"78.49000000000001%\", \"21.51%\"], \"textposition\": \"auto\", \"x\": [\"1\", \"0\"], \"y\": [78.49000000000001, 21.51], \"type\": \"bar\", \"uid\": \"a97771bc-3e3e-4679-b0ec-a808c7782e8a\"}], {\"autosize\": false, \"font\": {\"color\": \"white\", \"family\": \"Courier New, monospace\", \"size\": 12}, \"height\": 600, \"title\": {\"font\": {\"color\": \"black\", \"family\": \"Courier New, monospace\", \"size\": 14}, \"text\": \"Distribution of gender column\"}, \"width\": 800, \"xaxis\": {\"tickfont\": {\"color\": \"black\", \"family\": \"Courier New, monospace\", \"size\": 14}}, \"yaxis\": {\"tickfont\": {\"color\": \"black\", \"family\": \"Courier New, monospace\", \"size\": 14}, \"title\": {\"font\": {\"color\": \"black\", \"size\": 14}, \"text\": \"Percentage\"}}}, {\"showLink\": false, \"linkText\": \"Export to plot.ly\", \"plotlyServerURL\": \"https://plot.ly\"})});</script>"
      ]
     },
     "metadata": {},
     "output_type": "display_data"
    },
    {
     "name": "stdout",
     "output_type": "stream",
     "text": [
      "########################################################################################\n",
      "1.0    597\n",
      "0.0     31\n",
      "Name: chestpainloc, dtype: int64\n",
      "\n",
      " total =  628\n",
      "\n",
      " Percentages =  [95.06  4.94]\n",
      "########################################################################################\n"
     ]
    },
    {
     "data": {
      "application/vnd.plotly.v1+json": {
       "config": {
        "linkText": "Export to plot.ly",
        "plotlyServerURL": "https://plot.ly",
        "showLink": false
       },
       "data": [
        {
         "marker": {
          "color": "#0047AB"
         },
         "text": [
          "95.06%",
          "4.9399999999999995%"
         ],
         "textposition": "auto",
         "type": "bar",
         "uid": "31dedfe8-e745-4b6a-9b9c-5a1d604299af",
         "x": [
          "1.0",
          "0.0"
         ],
         "y": [
          95.06,
          4.9399999999999995
         ]
        }
       ],
       "layout": {
        "autosize": false,
        "font": {
         "color": "white",
         "family": "Courier New, monospace",
         "size": 12
        },
        "height": 600,
        "title": {
         "font": {
          "color": "black",
          "family": "Courier New, monospace",
          "size": 14
         },
         "text": "Distribution of chestpainloc column"
        },
        "width": 800,
        "xaxis": {
         "tickfont": {
          "color": "black",
          "family": "Courier New, monospace",
          "size": 14
         }
        },
        "yaxis": {
         "tickfont": {
          "color": "black",
          "family": "Courier New, monospace",
          "size": 14
         },
         "title": {
          "font": {
           "color": "black",
           "size": 14
          },
          "text": "Percentage"
         }
        }
       }
      },
      "text/html": [
       "<div id=\"8dcc449b-810e-4ad0-b6fe-4b1bddfa1afe\" style=\"height: 600px; width: 800px;\" class=\"plotly-graph-div\"></div><script type=\"text/javascript\">require([\"plotly\"], function(Plotly) { window.PLOTLYENV=window.PLOTLYENV || {};window.PLOTLYENV.BASE_URL=\"https://plot.ly\";Plotly.newPlot(\"8dcc449b-810e-4ad0-b6fe-4b1bddfa1afe\", [{\"marker\": {\"color\": \"#0047AB\"}, \"text\": [\"95.06%\", \"4.9399999999999995%\"], \"textposition\": \"auto\", \"x\": [\"1.0\", \"0.0\"], \"y\": [95.06, 4.9399999999999995], \"type\": \"bar\", \"uid\": \"31dedfe8-e745-4b6a-9b9c-5a1d604299af\"}], {\"autosize\": false, \"font\": {\"color\": \"white\", \"family\": \"Courier New, monospace\", \"size\": 12}, \"height\": 600, \"title\": {\"font\": {\"color\": \"black\", \"family\": \"Courier New, monospace\", \"size\": 14}, \"text\": \"Distribution of chestpainloc column\"}, \"width\": 800, \"xaxis\": {\"tickfont\": {\"color\": \"black\", \"family\": \"Courier New, monospace\", \"size\": 14}}, \"yaxis\": {\"tickfont\": {\"color\": \"black\", \"family\": \"Courier New, monospace\", \"size\": 14}, \"title\": {\"font\": {\"color\": \"black\", \"size\": 14}, \"text\": \"Percentage\"}}}, {\"showLink\": false, \"linkText\": \"Export to plot.ly\", \"plotlyServerURL\": \"https://plot.ly\"})});</script>"
      ],
      "text/vnd.plotly.v1+html": [
       "<div id=\"8dcc449b-810e-4ad0-b6fe-4b1bddfa1afe\" style=\"height: 600px; width: 800px;\" class=\"plotly-graph-div\"></div><script type=\"text/javascript\">require([\"plotly\"], function(Plotly) { window.PLOTLYENV=window.PLOTLYENV || {};window.PLOTLYENV.BASE_URL=\"https://plot.ly\";Plotly.newPlot(\"8dcc449b-810e-4ad0-b6fe-4b1bddfa1afe\", [{\"marker\": {\"color\": \"#0047AB\"}, \"text\": [\"95.06%\", \"4.9399999999999995%\"], \"textposition\": \"auto\", \"x\": [\"1.0\", \"0.0\"], \"y\": [95.06, 4.9399999999999995], \"type\": \"bar\", \"uid\": \"31dedfe8-e745-4b6a-9b9c-5a1d604299af\"}], {\"autosize\": false, \"font\": {\"color\": \"white\", \"family\": \"Courier New, monospace\", \"size\": 12}, \"height\": 600, \"title\": {\"font\": {\"color\": \"black\", \"family\": \"Courier New, monospace\", \"size\": 14}, \"text\": \"Distribution of chestpainloc column\"}, \"width\": 800, \"xaxis\": {\"tickfont\": {\"color\": \"black\", \"family\": \"Courier New, monospace\", \"size\": 14}}, \"yaxis\": {\"tickfont\": {\"color\": \"black\", \"family\": \"Courier New, monospace\", \"size\": 14}, \"title\": {\"font\": {\"color\": \"black\", \"size\": 14}, \"text\": \"Percentage\"}}}, {\"showLink\": false, \"linkText\": \"Export to plot.ly\", \"plotlyServerURL\": \"https://plot.ly\"})});</script>"
      ]
     },
     "metadata": {},
     "output_type": "display_data"
    },
    {
     "name": "stdout",
     "output_type": "stream",
     "text": [
      "########################################################################################\n",
      "1.0    452\n",
      "0.0    179\n",
      "Name: painexertion, dtype: int64\n",
      "\n",
      " total =  631\n",
      "\n",
      " Percentages =  [71.63 28.37]\n",
      "########################################################################################\n"
     ]
    },
    {
     "data": {
      "application/vnd.plotly.v1+json": {
       "config": {
        "linkText": "Export to plot.ly",
        "plotlyServerURL": "https://plot.ly",
        "showLink": false
       },
       "data": [
        {
         "marker": {
          "color": "#0047AB"
         },
         "text": [
          "71.63000000000001%",
          "28.37%"
         ],
         "textposition": "auto",
         "type": "bar",
         "uid": "2e57cd24-cb1b-44bb-98c5-bf663ace6ff7",
         "x": [
          "1.0",
          "0.0"
         ],
         "y": [
          71.63000000000001,
          28.37
         ]
        }
       ],
       "layout": {
        "autosize": false,
        "font": {
         "color": "white",
         "family": "Courier New, monospace",
         "size": 12
        },
        "height": 600,
        "title": {
         "font": {
          "color": "black",
          "family": "Courier New, monospace",
          "size": 14
         },
         "text": "Distribution of painexertion column"
        },
        "width": 800,
        "xaxis": {
         "tickfont": {
          "color": "black",
          "family": "Courier New, monospace",
          "size": 14
         }
        },
        "yaxis": {
         "tickfont": {
          "color": "black",
          "family": "Courier New, monospace",
          "size": 14
         },
         "title": {
          "font": {
           "color": "black",
           "size": 14
          },
          "text": "Percentage"
         }
        }
       }
      },
      "text/html": [
       "<div id=\"a54d02b5-fdbe-4c7a-ab8a-69598c04cbdd\" style=\"height: 600px; width: 800px;\" class=\"plotly-graph-div\"></div><script type=\"text/javascript\">require([\"plotly\"], function(Plotly) { window.PLOTLYENV=window.PLOTLYENV || {};window.PLOTLYENV.BASE_URL=\"https://plot.ly\";Plotly.newPlot(\"a54d02b5-fdbe-4c7a-ab8a-69598c04cbdd\", [{\"marker\": {\"color\": \"#0047AB\"}, \"text\": [\"71.63000000000001%\", \"28.37%\"], \"textposition\": \"auto\", \"x\": [\"1.0\", \"0.0\"], \"y\": [71.63000000000001, 28.37], \"type\": \"bar\", \"uid\": \"2e57cd24-cb1b-44bb-98c5-bf663ace6ff7\"}], {\"autosize\": false, \"font\": {\"color\": \"white\", \"family\": \"Courier New, monospace\", \"size\": 12}, \"height\": 600, \"title\": {\"font\": {\"color\": \"black\", \"family\": \"Courier New, monospace\", \"size\": 14}, \"text\": \"Distribution of painexertion column\"}, \"width\": 800, \"xaxis\": {\"tickfont\": {\"color\": \"black\", \"family\": \"Courier New, monospace\", \"size\": 14}}, \"yaxis\": {\"tickfont\": {\"color\": \"black\", \"family\": \"Courier New, monospace\", \"size\": 14}, \"title\": {\"font\": {\"color\": \"black\", \"size\": 14}, \"text\": \"Percentage\"}}}, {\"showLink\": false, \"linkText\": \"Export to plot.ly\", \"plotlyServerURL\": \"https://plot.ly\"})});</script>"
      ],
      "text/vnd.plotly.v1+html": [
       "<div id=\"a54d02b5-fdbe-4c7a-ab8a-69598c04cbdd\" style=\"height: 600px; width: 800px;\" class=\"plotly-graph-div\"></div><script type=\"text/javascript\">require([\"plotly\"], function(Plotly) { window.PLOTLYENV=window.PLOTLYENV || {};window.PLOTLYENV.BASE_URL=\"https://plot.ly\";Plotly.newPlot(\"a54d02b5-fdbe-4c7a-ab8a-69598c04cbdd\", [{\"marker\": {\"color\": \"#0047AB\"}, \"text\": [\"71.63000000000001%\", \"28.37%\"], \"textposition\": \"auto\", \"x\": [\"1.0\", \"0.0\"], \"y\": [71.63000000000001, 28.37], \"type\": \"bar\", \"uid\": \"2e57cd24-cb1b-44bb-98c5-bf663ace6ff7\"}], {\"autosize\": false, \"font\": {\"color\": \"white\", \"family\": \"Courier New, monospace\", \"size\": 12}, \"height\": 600, \"title\": {\"font\": {\"color\": \"black\", \"family\": \"Courier New, monospace\", \"size\": 14}, \"text\": \"Distribution of painexertion column\"}, \"width\": 800, \"xaxis\": {\"tickfont\": {\"color\": \"black\", \"family\": \"Courier New, monospace\", \"size\": 14}}, \"yaxis\": {\"tickfont\": {\"color\": \"black\", \"family\": \"Courier New, monospace\", \"size\": 14}, \"title\": {\"font\": {\"color\": \"black\", \"size\": 14}, \"text\": \"Percentage\"}}}, {\"showLink\": false, \"linkText\": \"Export to plot.ly\", \"plotlyServerURL\": \"https://plot.ly\"})});</script>"
      ]
     },
     "metadata": {},
     "output_type": "display_data"
    },
    {
     "name": "stdout",
     "output_type": "stream",
     "text": [
      "########################################################################################\n",
      "1.0    498\n",
      "0.0    138\n",
      "Name: reliefbyrest, dtype: int64\n",
      "\n",
      " total =  636\n",
      "\n",
      " Percentages =  [78.3 21.7]\n",
      "########################################################################################\n"
     ]
    },
    {
     "data": {
      "application/vnd.plotly.v1+json": {
       "config": {
        "linkText": "Export to plot.ly",
        "plotlyServerURL": "https://plot.ly",
        "showLink": false
       },
       "data": [
        {
         "marker": {
          "color": "#0047AB"
         },
         "text": [
          "78.3%",
          "21.7%"
         ],
         "textposition": "auto",
         "type": "bar",
         "uid": "214a12e1-ec62-44a7-8db7-33aab3a90f7e",
         "x": [
          "1.0",
          "0.0"
         ],
         "y": [
          78.3,
          21.7
         ]
        }
       ],
       "layout": {
        "autosize": false,
        "font": {
         "color": "white",
         "family": "Courier New, monospace",
         "size": 12
        },
        "height": 600,
        "title": {
         "font": {
          "color": "black",
          "family": "Courier New, monospace",
          "size": 14
         },
         "text": "Distribution of reliefbyrest column"
        },
        "width": 800,
        "xaxis": {
         "tickfont": {
          "color": "black",
          "family": "Courier New, monospace",
          "size": 14
         }
        },
        "yaxis": {
         "tickfont": {
          "color": "black",
          "family": "Courier New, monospace",
          "size": 14
         },
         "title": {
          "font": {
           "color": "black",
           "size": 14
          },
          "text": "Percentage"
         }
        }
       }
      },
      "text/html": [
       "<div id=\"38074b5a-aefe-462d-a82f-eb52a24c0e5c\" style=\"height: 600px; width: 800px;\" class=\"plotly-graph-div\"></div><script type=\"text/javascript\">require([\"plotly\"], function(Plotly) { window.PLOTLYENV=window.PLOTLYENV || {};window.PLOTLYENV.BASE_URL=\"https://plot.ly\";Plotly.newPlot(\"38074b5a-aefe-462d-a82f-eb52a24c0e5c\", [{\"marker\": {\"color\": \"#0047AB\"}, \"text\": [\"78.3%\", \"21.7%\"], \"textposition\": \"auto\", \"x\": [\"1.0\", \"0.0\"], \"y\": [78.3, 21.7], \"type\": \"bar\", \"uid\": \"214a12e1-ec62-44a7-8db7-33aab3a90f7e\"}], {\"autosize\": false, \"font\": {\"color\": \"white\", \"family\": \"Courier New, monospace\", \"size\": 12}, \"height\": 600, \"title\": {\"font\": {\"color\": \"black\", \"family\": \"Courier New, monospace\", \"size\": 14}, \"text\": \"Distribution of reliefbyrest column\"}, \"width\": 800, \"xaxis\": {\"tickfont\": {\"color\": \"black\", \"family\": \"Courier New, monospace\", \"size\": 14}}, \"yaxis\": {\"tickfont\": {\"color\": \"black\", \"family\": \"Courier New, monospace\", \"size\": 14}, \"title\": {\"font\": {\"color\": \"black\", \"size\": 14}, \"text\": \"Percentage\"}}}, {\"showLink\": false, \"linkText\": \"Export to plot.ly\", \"plotlyServerURL\": \"https://plot.ly\"})});</script>"
      ],
      "text/vnd.plotly.v1+html": [
       "<div id=\"38074b5a-aefe-462d-a82f-eb52a24c0e5c\" style=\"height: 600px; width: 800px;\" class=\"plotly-graph-div\"></div><script type=\"text/javascript\">require([\"plotly\"], function(Plotly) { window.PLOTLYENV=window.PLOTLYENV || {};window.PLOTLYENV.BASE_URL=\"https://plot.ly\";Plotly.newPlot(\"38074b5a-aefe-462d-a82f-eb52a24c0e5c\", [{\"marker\": {\"color\": \"#0047AB\"}, \"text\": [\"78.3%\", \"21.7%\"], \"textposition\": \"auto\", \"x\": [\"1.0\", \"0.0\"], \"y\": [78.3, 21.7], \"type\": \"bar\", \"uid\": \"214a12e1-ec62-44a7-8db7-33aab3a90f7e\"}], {\"autosize\": false, \"font\": {\"color\": \"white\", \"family\": \"Courier New, monospace\", \"size\": 12}, \"height\": 600, \"title\": {\"font\": {\"color\": \"black\", \"family\": \"Courier New, monospace\", \"size\": 14}, \"text\": \"Distribution of reliefbyrest column\"}, \"width\": 800, \"xaxis\": {\"tickfont\": {\"color\": \"black\", \"family\": \"Courier New, monospace\", \"size\": 14}}, \"yaxis\": {\"tickfont\": {\"color\": \"black\", \"family\": \"Courier New, monospace\", \"size\": 14}, \"title\": {\"font\": {\"color\": \"black\", \"size\": 14}, \"text\": \"Percentage\"}}}, {\"showLink\": false, \"linkText\": \"Export to plot.ly\", \"plotlyServerURL\": \"https://plot.ly\"})});</script>"
      ]
     },
     "metadata": {},
     "output_type": "display_data"
    },
    {
     "name": "stdout",
     "output_type": "stream",
     "text": [
      "########################################################################################\n",
      "4    363\n",
      "3    159\n",
      "2    120\n",
      "1     32\n",
      "Name: chestpaintype, dtype: int64\n",
      "\n",
      " total =  674\n",
      "\n",
      " Percentages =  [53.86 23.59 17.8   4.75]\n",
      "########################################################################################\n"
     ]
    },
    {
     "data": {
      "application/vnd.plotly.v1+json": {
       "config": {
        "linkText": "Export to plot.ly",
        "plotlyServerURL": "https://plot.ly",
        "showLink": false
       },
       "data": [
        {
         "marker": {
          "color": "#0047AB"
         },
         "text": [
          "53.86%",
          "23.59%",
          "17.8%",
          "4.75%"
         ],
         "textposition": "auto",
         "type": "bar",
         "uid": "51b1e009-1fc8-4565-b64a-d55135dbbcf0",
         "x": [
          "4",
          "3",
          "2",
          "1"
         ],
         "y": [
          53.86,
          23.59,
          17.8,
          4.75
         ]
        }
       ],
       "layout": {
        "autosize": false,
        "font": {
         "color": "white",
         "family": "Courier New, monospace",
         "size": 12
        },
        "height": 600,
        "title": {
         "font": {
          "color": "black",
          "family": "Courier New, monospace",
          "size": 14
         },
         "text": "Distribution of chestpaintype column"
        },
        "width": 800,
        "xaxis": {
         "tickfont": {
          "color": "black",
          "family": "Courier New, monospace",
          "size": 14
         }
        },
        "yaxis": {
         "tickfont": {
          "color": "black",
          "family": "Courier New, monospace",
          "size": 14
         },
         "title": {
          "font": {
           "color": "black",
           "size": 14
          },
          "text": "Percentage"
         }
        }
       }
      },
      "text/html": [
       "<div id=\"aebbc240-4e4f-4ef0-a34b-82c91b8e3234\" style=\"height: 600px; width: 800px;\" class=\"plotly-graph-div\"></div><script type=\"text/javascript\">require([\"plotly\"], function(Plotly) { window.PLOTLYENV=window.PLOTLYENV || {};window.PLOTLYENV.BASE_URL=\"https://plot.ly\";Plotly.newPlot(\"aebbc240-4e4f-4ef0-a34b-82c91b8e3234\", [{\"marker\": {\"color\": \"#0047AB\"}, \"text\": [\"53.86%\", \"23.59%\", \"17.8%\", \"4.75%\"], \"textposition\": \"auto\", \"x\": [\"4\", \"3\", \"2\", \"1\"], \"y\": [53.86, 23.59, 17.8, 4.75], \"type\": \"bar\", \"uid\": \"51b1e009-1fc8-4565-b64a-d55135dbbcf0\"}], {\"autosize\": false, \"font\": {\"color\": \"white\", \"family\": \"Courier New, monospace\", \"size\": 12}, \"height\": 600, \"title\": {\"font\": {\"color\": \"black\", \"family\": \"Courier New, monospace\", \"size\": 14}, \"text\": \"Distribution of chestpaintype column\"}, \"width\": 800, \"xaxis\": {\"tickfont\": {\"color\": \"black\", \"family\": \"Courier New, monospace\", \"size\": 14}}, \"yaxis\": {\"tickfont\": {\"color\": \"black\", \"family\": \"Courier New, monospace\", \"size\": 14}, \"title\": {\"font\": {\"color\": \"black\", \"size\": 14}, \"text\": \"Percentage\"}}}, {\"showLink\": false, \"linkText\": \"Export to plot.ly\", \"plotlyServerURL\": \"https://plot.ly\"})});</script>"
      ],
      "text/vnd.plotly.v1+html": [
       "<div id=\"aebbc240-4e4f-4ef0-a34b-82c91b8e3234\" style=\"height: 600px; width: 800px;\" class=\"plotly-graph-div\"></div><script type=\"text/javascript\">require([\"plotly\"], function(Plotly) { window.PLOTLYENV=window.PLOTLYENV || {};window.PLOTLYENV.BASE_URL=\"https://plot.ly\";Plotly.newPlot(\"aebbc240-4e4f-4ef0-a34b-82c91b8e3234\", [{\"marker\": {\"color\": \"#0047AB\"}, \"text\": [\"53.86%\", \"23.59%\", \"17.8%\", \"4.75%\"], \"textposition\": \"auto\", \"x\": [\"4\", \"3\", \"2\", \"1\"], \"y\": [53.86, 23.59, 17.8, 4.75], \"type\": \"bar\", \"uid\": \"51b1e009-1fc8-4565-b64a-d55135dbbcf0\"}], {\"autosize\": false, \"font\": {\"color\": \"white\", \"family\": \"Courier New, monospace\", \"size\": 12}, \"height\": 600, \"title\": {\"font\": {\"color\": \"black\", \"family\": \"Courier New, monospace\", \"size\": 14}, \"text\": \"Distribution of chestpaintype column\"}, \"width\": 800, \"xaxis\": {\"tickfont\": {\"color\": \"black\", \"family\": \"Courier New, monospace\", \"size\": 14}}, \"yaxis\": {\"tickfont\": {\"color\": \"black\", \"family\": \"Courier New, monospace\", \"size\": 14}, \"title\": {\"font\": {\"color\": \"black\", \"size\": 14}, \"text\": \"Percentage\"}}}, {\"showLink\": false, \"linkText\": \"Export to plot.ly\", \"plotlyServerURL\": \"https://plot.ly\"})});</script>"
      ]
     },
     "metadata": {},
     "output_type": "display_data"
    },
    {
     "name": "stdout",
     "output_type": "stream",
     "text": [
      "########################################################################################\n",
      "1.0    488\n",
      "0.0     85\n",
      "Name: IsSmoker, dtype: int64\n",
      "\n",
      " total =  573\n",
      "\n",
      " Percentages =  [85.17 14.83]\n",
      "########################################################################################\n"
     ]
    },
    {
     "data": {
      "application/vnd.plotly.v1+json": {
       "config": {
        "linkText": "Export to plot.ly",
        "plotlyServerURL": "https://plot.ly",
        "showLink": false
       },
       "data": [
        {
         "marker": {
          "color": "#0047AB"
         },
         "text": [
          "85.17%",
          "14.829999999999998%"
         ],
         "textposition": "auto",
         "type": "bar",
         "uid": "fd68f296-32d1-4e9c-ace6-09378695bd21",
         "x": [
          "1.0",
          "0.0"
         ],
         "y": [
          85.17,
          14.829999999999998
         ]
        }
       ],
       "layout": {
        "autosize": false,
        "font": {
         "color": "white",
         "family": "Courier New, monospace",
         "size": 12
        },
        "height": 600,
        "title": {
         "font": {
          "color": "black",
          "family": "Courier New, monospace",
          "size": 14
         },
         "text": "Distribution of IsSmoker column"
        },
        "width": 800,
        "xaxis": {
         "tickfont": {
          "color": "black",
          "family": "Courier New, monospace",
          "size": 14
         }
        },
        "yaxis": {
         "tickfont": {
          "color": "black",
          "family": "Courier New, monospace",
          "size": 14
         },
         "title": {
          "font": {
           "color": "black",
           "size": 14
          },
          "text": "Percentage"
         }
        }
       }
      },
      "text/html": [
       "<div id=\"c8b6e64e-3bd0-43b1-9f8e-59f4a2b7224d\" style=\"height: 600px; width: 800px;\" class=\"plotly-graph-div\"></div><script type=\"text/javascript\">require([\"plotly\"], function(Plotly) { window.PLOTLYENV=window.PLOTLYENV || {};window.PLOTLYENV.BASE_URL=\"https://plot.ly\";Plotly.newPlot(\"c8b6e64e-3bd0-43b1-9f8e-59f4a2b7224d\", [{\"marker\": {\"color\": \"#0047AB\"}, \"text\": [\"85.17%\", \"14.829999999999998%\"], \"textposition\": \"auto\", \"x\": [\"1.0\", \"0.0\"], \"y\": [85.17, 14.829999999999998], \"type\": \"bar\", \"uid\": \"fd68f296-32d1-4e9c-ace6-09378695bd21\"}], {\"autosize\": false, \"font\": {\"color\": \"white\", \"family\": \"Courier New, monospace\", \"size\": 12}, \"height\": 600, \"title\": {\"font\": {\"color\": \"black\", \"family\": \"Courier New, monospace\", \"size\": 14}, \"text\": \"Distribution of IsSmoker column\"}, \"width\": 800, \"xaxis\": {\"tickfont\": {\"color\": \"black\", \"family\": \"Courier New, monospace\", \"size\": 14}}, \"yaxis\": {\"tickfont\": {\"color\": \"black\", \"family\": \"Courier New, monospace\", \"size\": 14}, \"title\": {\"font\": {\"color\": \"black\", \"size\": 14}, \"text\": \"Percentage\"}}}, {\"showLink\": false, \"linkText\": \"Export to plot.ly\", \"plotlyServerURL\": \"https://plot.ly\"})});</script>"
      ],
      "text/vnd.plotly.v1+html": [
       "<div id=\"c8b6e64e-3bd0-43b1-9f8e-59f4a2b7224d\" style=\"height: 600px; width: 800px;\" class=\"plotly-graph-div\"></div><script type=\"text/javascript\">require([\"plotly\"], function(Plotly) { window.PLOTLYENV=window.PLOTLYENV || {};window.PLOTLYENV.BASE_URL=\"https://plot.ly\";Plotly.newPlot(\"c8b6e64e-3bd0-43b1-9f8e-59f4a2b7224d\", [{\"marker\": {\"color\": \"#0047AB\"}, \"text\": [\"85.17%\", \"14.829999999999998%\"], \"textposition\": \"auto\", \"x\": [\"1.0\", \"0.0\"], \"y\": [85.17, 14.829999999999998], \"type\": \"bar\", \"uid\": \"fd68f296-32d1-4e9c-ace6-09378695bd21\"}], {\"autosize\": false, \"font\": {\"color\": \"white\", \"family\": \"Courier New, monospace\", \"size\": 12}, \"height\": 600, \"title\": {\"font\": {\"color\": \"black\", \"family\": \"Courier New, monospace\", \"size\": 14}, \"text\": \"Distribution of IsSmoker column\"}, \"width\": 800, \"xaxis\": {\"tickfont\": {\"color\": \"black\", \"family\": \"Courier New, monospace\", \"size\": 14}}, \"yaxis\": {\"tickfont\": {\"color\": \"black\", \"family\": \"Courier New, monospace\", \"size\": 14}, \"title\": {\"font\": {\"color\": \"black\", \"size\": 14}, \"text\": \"Percentage\"}}}, {\"showLink\": false, \"linkText\": \"Export to plot.ly\", \"plotlyServerURL\": \"https://plot.ly\"})});</script>"
      ]
     },
     "metadata": {},
     "output_type": "display_data"
    },
    {
     "name": "stdout",
     "output_type": "stream",
     "text": [
      "########################################################################################\n",
      "0.0    509\n",
      "1.0    103\n",
      "Name: FastingBS, dtype: int64\n",
      "\n",
      " total =  612\n",
      "\n",
      " Percentages =  [83.17 16.83]\n",
      "########################################################################################\n"
     ]
    },
    {
     "data": {
      "application/vnd.plotly.v1+json": {
       "config": {
        "linkText": "Export to plot.ly",
        "plotlyServerURL": "https://plot.ly",
        "showLink": false
       },
       "data": [
        {
         "marker": {
          "color": "#0047AB"
         },
         "text": [
          "83.17%",
          "16.830000000000002%"
         ],
         "textposition": "auto",
         "type": "bar",
         "uid": "10ff12b0-cd8b-4911-aedb-dc063e507ea0",
         "x": [
          "0.0",
          "1.0"
         ],
         "y": [
          83.17,
          16.830000000000002
         ]
        }
       ],
       "layout": {
        "autosize": false,
        "font": {
         "color": "white",
         "family": "Courier New, monospace",
         "size": 12
        },
        "height": 600,
        "title": {
         "font": {
          "color": "black",
          "family": "Courier New, monospace",
          "size": 14
         },
         "text": "Distribution of FastingBS column"
        },
        "width": 800,
        "xaxis": {
         "tickfont": {
          "color": "black",
          "family": "Courier New, monospace",
          "size": 14
         }
        },
        "yaxis": {
         "tickfont": {
          "color": "black",
          "family": "Courier New, monospace",
          "size": 14
         },
         "title": {
          "font": {
           "color": "black",
           "size": 14
          },
          "text": "Percentage"
         }
        }
       }
      },
      "text/html": [
       "<div id=\"64929311-32c0-4ce9-9406-952ee2a20f8e\" style=\"height: 600px; width: 800px;\" class=\"plotly-graph-div\"></div><script type=\"text/javascript\">require([\"plotly\"], function(Plotly) { window.PLOTLYENV=window.PLOTLYENV || {};window.PLOTLYENV.BASE_URL=\"https://plot.ly\";Plotly.newPlot(\"64929311-32c0-4ce9-9406-952ee2a20f8e\", [{\"marker\": {\"color\": \"#0047AB\"}, \"text\": [\"83.17%\", \"16.830000000000002%\"], \"textposition\": \"auto\", \"x\": [\"0.0\", \"1.0\"], \"y\": [83.17, 16.830000000000002], \"type\": \"bar\", \"uid\": \"10ff12b0-cd8b-4911-aedb-dc063e507ea0\"}], {\"autosize\": false, \"font\": {\"color\": \"white\", \"family\": \"Courier New, monospace\", \"size\": 12}, \"height\": 600, \"title\": {\"font\": {\"color\": \"black\", \"family\": \"Courier New, monospace\", \"size\": 14}, \"text\": \"Distribution of FastingBS column\"}, \"width\": 800, \"xaxis\": {\"tickfont\": {\"color\": \"black\", \"family\": \"Courier New, monospace\", \"size\": 14}}, \"yaxis\": {\"tickfont\": {\"color\": \"black\", \"family\": \"Courier New, monospace\", \"size\": 14}, \"title\": {\"font\": {\"color\": \"black\", \"size\": 14}, \"text\": \"Percentage\"}}}, {\"showLink\": false, \"linkText\": \"Export to plot.ly\", \"plotlyServerURL\": \"https://plot.ly\"})});</script>"
      ],
      "text/vnd.plotly.v1+html": [
       "<div id=\"64929311-32c0-4ce9-9406-952ee2a20f8e\" style=\"height: 600px; width: 800px;\" class=\"plotly-graph-div\"></div><script type=\"text/javascript\">require([\"plotly\"], function(Plotly) { window.PLOTLYENV=window.PLOTLYENV || {};window.PLOTLYENV.BASE_URL=\"https://plot.ly\";Plotly.newPlot(\"64929311-32c0-4ce9-9406-952ee2a20f8e\", [{\"marker\": {\"color\": \"#0047AB\"}, \"text\": [\"83.17%\", \"16.830000000000002%\"], \"textposition\": \"auto\", \"x\": [\"0.0\", \"1.0\"], \"y\": [83.17, 16.830000000000002], \"type\": \"bar\", \"uid\": \"10ff12b0-cd8b-4911-aedb-dc063e507ea0\"}], {\"autosize\": false, \"font\": {\"color\": \"white\", \"family\": \"Courier New, monospace\", \"size\": 12}, \"height\": 600, \"title\": {\"font\": {\"color\": \"black\", \"family\": \"Courier New, monospace\", \"size\": 14}, \"text\": \"Distribution of FastingBS column\"}, \"width\": 800, \"xaxis\": {\"tickfont\": {\"color\": \"black\", \"family\": \"Courier New, monospace\", \"size\": 14}}, \"yaxis\": {\"tickfont\": {\"color\": \"black\", \"family\": \"Courier New, monospace\", \"size\": 14}, \"title\": {\"font\": {\"color\": \"black\", \"size\": 14}, \"text\": \"Percentage\"}}}, {\"showLink\": false, \"linkText\": \"Export to plot.ly\", \"plotlyServerURL\": \"https://plot.ly\"})});</script>"
      ]
     },
     "metadata": {},
     "output_type": "display_data"
    },
    {
     "name": "stdout",
     "output_type": "stream",
     "text": [
      "########################################################################################\n",
      "1.0    457\n",
      "0.0    157\n",
      "Name: FamHistory, dtype: int64\n",
      "\n",
      " total =  614\n",
      "\n",
      " Percentages =  [74.43 25.57]\n",
      "########################################################################################\n"
     ]
    },
    {
     "data": {
      "application/vnd.plotly.v1+json": {
       "config": {
        "linkText": "Export to plot.ly",
        "plotlyServerURL": "https://plot.ly",
        "showLink": false
       },
       "data": [
        {
         "marker": {
          "color": "#0047AB"
         },
         "text": [
          "74.42999999999999%",
          "25.569999999999997%"
         ],
         "textposition": "auto",
         "type": "bar",
         "uid": "38bfc92e-ce99-4db8-9031-bd65d8b375db",
         "x": [
          "1.0",
          "0.0"
         ],
         "y": [
          74.42999999999999,
          25.569999999999997
         ]
        }
       ],
       "layout": {
        "autosize": false,
        "font": {
         "color": "white",
         "family": "Courier New, monospace",
         "size": 12
        },
        "height": 600,
        "title": {
         "font": {
          "color": "black",
          "family": "Courier New, monospace",
          "size": 14
         },
         "text": "Distribution of FamHistory column"
        },
        "width": 800,
        "xaxis": {
         "tickfont": {
          "color": "black",
          "family": "Courier New, monospace",
          "size": 14
         }
        },
        "yaxis": {
         "tickfont": {
          "color": "black",
          "family": "Courier New, monospace",
          "size": 14
         },
         "title": {
          "font": {
           "color": "black",
           "size": 14
          },
          "text": "Percentage"
         }
        }
       }
      },
      "text/html": [
       "<div id=\"4b6172d2-e291-4e15-82fe-8fafd1dcb90a\" style=\"height: 600px; width: 800px;\" class=\"plotly-graph-div\"></div><script type=\"text/javascript\">require([\"plotly\"], function(Plotly) { window.PLOTLYENV=window.PLOTLYENV || {};window.PLOTLYENV.BASE_URL=\"https://plot.ly\";Plotly.newPlot(\"4b6172d2-e291-4e15-82fe-8fafd1dcb90a\", [{\"marker\": {\"color\": \"#0047AB\"}, \"text\": [\"74.42999999999999%\", \"25.569999999999997%\"], \"textposition\": \"auto\", \"x\": [\"1.0\", \"0.0\"], \"y\": [74.42999999999999, 25.569999999999997], \"type\": \"bar\", \"uid\": \"38bfc92e-ce99-4db8-9031-bd65d8b375db\"}], {\"autosize\": false, \"font\": {\"color\": \"white\", \"family\": \"Courier New, monospace\", \"size\": 12}, \"height\": 600, \"title\": {\"font\": {\"color\": \"black\", \"family\": \"Courier New, monospace\", \"size\": 14}, \"text\": \"Distribution of FamHistory column\"}, \"width\": 800, \"xaxis\": {\"tickfont\": {\"color\": \"black\", \"family\": \"Courier New, monospace\", \"size\": 14}}, \"yaxis\": {\"tickfont\": {\"color\": \"black\", \"family\": \"Courier New, monospace\", \"size\": 14}, \"title\": {\"font\": {\"color\": \"black\", \"size\": 14}, \"text\": \"Percentage\"}}}, {\"showLink\": false, \"linkText\": \"Export to plot.ly\", \"plotlyServerURL\": \"https://plot.ly\"})});</script>"
      ],
      "text/vnd.plotly.v1+html": [
       "<div id=\"4b6172d2-e291-4e15-82fe-8fafd1dcb90a\" style=\"height: 600px; width: 800px;\" class=\"plotly-graph-div\"></div><script type=\"text/javascript\">require([\"plotly\"], function(Plotly) { window.PLOTLYENV=window.PLOTLYENV || {};window.PLOTLYENV.BASE_URL=\"https://plot.ly\";Plotly.newPlot(\"4b6172d2-e291-4e15-82fe-8fafd1dcb90a\", [{\"marker\": {\"color\": \"#0047AB\"}, \"text\": [\"74.42999999999999%\", \"25.569999999999997%\"], \"textposition\": \"auto\", \"x\": [\"1.0\", \"0.0\"], \"y\": [74.42999999999999, 25.569999999999997], \"type\": \"bar\", \"uid\": \"38bfc92e-ce99-4db8-9031-bd65d8b375db\"}], {\"autosize\": false, \"font\": {\"color\": \"white\", \"family\": \"Courier New, monospace\", \"size\": 12}, \"height\": 600, \"title\": {\"font\": {\"color\": \"black\", \"family\": \"Courier New, monospace\", \"size\": 14}, \"text\": \"Distribution of FamHistory column\"}, \"width\": 800, \"xaxis\": {\"tickfont\": {\"color\": \"black\", \"family\": \"Courier New, monospace\", \"size\": 14}}, \"yaxis\": {\"tickfont\": {\"color\": \"black\", \"family\": \"Courier New, monospace\", \"size\": 14}, \"title\": {\"font\": {\"color\": \"black\", \"size\": 14}, \"text\": \"Percentage\"}}}, {\"showLink\": false, \"linkText\": \"Export to plot.ly\", \"plotlyServerURL\": \"https://plot.ly\"})});</script>"
      ]
     },
     "metadata": {},
     "output_type": "display_data"
    },
    {
     "name": "stdout",
     "output_type": "stream",
     "text": [
      "########################################################################################\n",
      "0.0    412\n",
      "2.0    140\n",
      "1.0    121\n",
      "Name: restingECGRes, dtype: int64\n",
      "\n",
      " total =  673\n",
      "\n",
      " Percentages =  [61.22 20.8  17.98]\n",
      "########################################################################################\n"
     ]
    },
    {
     "data": {
      "application/vnd.plotly.v1+json": {
       "config": {
        "linkText": "Export to plot.ly",
        "plotlyServerURL": "https://plot.ly",
        "showLink": false
       },
       "data": [
        {
         "marker": {
          "color": "#0047AB"
         },
         "text": [
          "61.22%",
          "20.8%",
          "17.98%"
         ],
         "textposition": "auto",
         "type": "bar",
         "uid": "e1a06ee9-5d42-4194-bcfe-149335a18614",
         "x": [
          "0.0",
          "2.0",
          "1.0"
         ],
         "y": [
          61.22,
          20.8,
          17.98
         ]
        }
       ],
       "layout": {
        "autosize": false,
        "font": {
         "color": "white",
         "family": "Courier New, monospace",
         "size": 12
        },
        "height": 600,
        "title": {
         "font": {
          "color": "black",
          "family": "Courier New, monospace",
          "size": 14
         },
         "text": "Distribution of restingECGRes column"
        },
        "width": 800,
        "xaxis": {
         "tickfont": {
          "color": "black",
          "family": "Courier New, monospace",
          "size": 14
         }
        },
        "yaxis": {
         "tickfont": {
          "color": "black",
          "family": "Courier New, monospace",
          "size": 14
         },
         "title": {
          "font": {
           "color": "black",
           "size": 14
          },
          "text": "Percentage"
         }
        }
       }
      },
      "text/html": [
       "<div id=\"860aaeee-5fe0-4a1b-8db8-1d6ccee2c65d\" style=\"height: 600px; width: 800px;\" class=\"plotly-graph-div\"></div><script type=\"text/javascript\">require([\"plotly\"], function(Plotly) { window.PLOTLYENV=window.PLOTLYENV || {};window.PLOTLYENV.BASE_URL=\"https://plot.ly\";Plotly.newPlot(\"860aaeee-5fe0-4a1b-8db8-1d6ccee2c65d\", [{\"marker\": {\"color\": \"#0047AB\"}, \"text\": [\"61.22%\", \"20.8%\", \"17.98%\"], \"textposition\": \"auto\", \"x\": [\"0.0\", \"2.0\", \"1.0\"], \"y\": [61.22, 20.8, 17.98], \"type\": \"bar\", \"uid\": \"e1a06ee9-5d42-4194-bcfe-149335a18614\"}], {\"autosize\": false, \"font\": {\"color\": \"white\", \"family\": \"Courier New, monospace\", \"size\": 12}, \"height\": 600, \"title\": {\"font\": {\"color\": \"black\", \"family\": \"Courier New, monospace\", \"size\": 14}, \"text\": \"Distribution of restingECGRes column\"}, \"width\": 800, \"xaxis\": {\"tickfont\": {\"color\": \"black\", \"family\": \"Courier New, monospace\", \"size\": 14}}, \"yaxis\": {\"tickfont\": {\"color\": \"black\", \"family\": \"Courier New, monospace\", \"size\": 14}, \"title\": {\"font\": {\"color\": \"black\", \"size\": 14}, \"text\": \"Percentage\"}}}, {\"showLink\": false, \"linkText\": \"Export to plot.ly\", \"plotlyServerURL\": \"https://plot.ly\"})});</script>"
      ],
      "text/vnd.plotly.v1+html": [
       "<div id=\"860aaeee-5fe0-4a1b-8db8-1d6ccee2c65d\" style=\"height: 600px; width: 800px;\" class=\"plotly-graph-div\"></div><script type=\"text/javascript\">require([\"plotly\"], function(Plotly) { window.PLOTLYENV=window.PLOTLYENV || {};window.PLOTLYENV.BASE_URL=\"https://plot.ly\";Plotly.newPlot(\"860aaeee-5fe0-4a1b-8db8-1d6ccee2c65d\", [{\"marker\": {\"color\": \"#0047AB\"}, \"text\": [\"61.22%\", \"20.8%\", \"17.98%\"], \"textposition\": \"auto\", \"x\": [\"0.0\", \"2.0\", \"1.0\"], \"y\": [61.22, 20.8, 17.98], \"type\": \"bar\", \"uid\": \"e1a06ee9-5d42-4194-bcfe-149335a18614\"}], {\"autosize\": false, \"font\": {\"color\": \"white\", \"family\": \"Courier New, monospace\", \"size\": 12}, \"height\": 600, \"title\": {\"font\": {\"color\": \"black\", \"family\": \"Courier New, monospace\", \"size\": 14}, \"text\": \"Distribution of restingECGRes column\"}, \"width\": 800, \"xaxis\": {\"tickfont\": {\"color\": \"black\", \"family\": \"Courier New, monospace\", \"size\": 14}}, \"yaxis\": {\"tickfont\": {\"color\": \"black\", \"family\": \"Courier New, monospace\", \"size\": 14}, \"title\": {\"font\": {\"color\": \"black\", \"size\": 14}, \"text\": \"Percentage\"}}}, {\"showLink\": false, \"linkText\": \"Export to plot.ly\", \"plotlyServerURL\": \"https://plot.ly\"})});</script>"
      ]
     },
     "metadata": {},
     "output_type": "display_data"
    },
    {
     "name": "stdout",
     "output_type": "stream",
     "text": [
      "########################################################################################\n",
      "0.0    604\n",
      "1.0     18\n",
      "Name: ECGspecsDigitalis, dtype: int64\n",
      "\n",
      " total =  622\n",
      "\n",
      " Percentages =  [97.11  2.89]\n",
      "########################################################################################\n"
     ]
    },
    {
     "data": {
      "application/vnd.plotly.v1+json": {
       "config": {
        "linkText": "Export to plot.ly",
        "plotlyServerURL": "https://plot.ly",
        "showLink": false
       },
       "data": [
        {
         "marker": {
          "color": "#0047AB"
         },
         "text": [
          "97.11%",
          "2.8899999999999997%"
         ],
         "textposition": "auto",
         "type": "bar",
         "uid": "e83873a0-53ed-4e17-9efd-34479ad9ba2d",
         "x": [
          "0.0",
          "1.0"
         ],
         "y": [
          97.11,
          2.8899999999999997
         ]
        }
       ],
       "layout": {
        "autosize": false,
        "font": {
         "color": "white",
         "family": "Courier New, monospace",
         "size": 12
        },
        "height": 600,
        "title": {
         "font": {
          "color": "black",
          "family": "Courier New, monospace",
          "size": 14
         },
         "text": "Distribution of ECGspecsDigitalis column"
        },
        "width": 800,
        "xaxis": {
         "tickfont": {
          "color": "black",
          "family": "Courier New, monospace",
          "size": 14
         }
        },
        "yaxis": {
         "tickfont": {
          "color": "black",
          "family": "Courier New, monospace",
          "size": 14
         },
         "title": {
          "font": {
           "color": "black",
           "size": 14
          },
          "text": "Percentage"
         }
        }
       }
      },
      "text/html": [
       "<div id=\"dffebea4-f6a3-4724-9bae-a256f362dc5e\" style=\"height: 600px; width: 800px;\" class=\"plotly-graph-div\"></div><script type=\"text/javascript\">require([\"plotly\"], function(Plotly) { window.PLOTLYENV=window.PLOTLYENV || {};window.PLOTLYENV.BASE_URL=\"https://plot.ly\";Plotly.newPlot(\"dffebea4-f6a3-4724-9bae-a256f362dc5e\", [{\"marker\": {\"color\": \"#0047AB\"}, \"text\": [\"97.11%\", \"2.8899999999999997%\"], \"textposition\": \"auto\", \"x\": [\"0.0\", \"1.0\"], \"y\": [97.11, 2.8899999999999997], \"type\": \"bar\", \"uid\": \"e83873a0-53ed-4e17-9efd-34479ad9ba2d\"}], {\"autosize\": false, \"font\": {\"color\": \"white\", \"family\": \"Courier New, monospace\", \"size\": 12}, \"height\": 600, \"title\": {\"font\": {\"color\": \"black\", \"family\": \"Courier New, monospace\", \"size\": 14}, \"text\": \"Distribution of ECGspecsDigitalis column\"}, \"width\": 800, \"xaxis\": {\"tickfont\": {\"color\": \"black\", \"family\": \"Courier New, monospace\", \"size\": 14}}, \"yaxis\": {\"tickfont\": {\"color\": \"black\", \"family\": \"Courier New, monospace\", \"size\": 14}, \"title\": {\"font\": {\"color\": \"black\", \"size\": 14}, \"text\": \"Percentage\"}}}, {\"showLink\": false, \"linkText\": \"Export to plot.ly\", \"plotlyServerURL\": \"https://plot.ly\"})});</script>"
      ],
      "text/vnd.plotly.v1+html": [
       "<div id=\"dffebea4-f6a3-4724-9bae-a256f362dc5e\" style=\"height: 600px; width: 800px;\" class=\"plotly-graph-div\"></div><script type=\"text/javascript\">require([\"plotly\"], function(Plotly) { window.PLOTLYENV=window.PLOTLYENV || {};window.PLOTLYENV.BASE_URL=\"https://plot.ly\";Plotly.newPlot(\"dffebea4-f6a3-4724-9bae-a256f362dc5e\", [{\"marker\": {\"color\": \"#0047AB\"}, \"text\": [\"97.11%\", \"2.8899999999999997%\"], \"textposition\": \"auto\", \"x\": [\"0.0\", \"1.0\"], \"y\": [97.11, 2.8899999999999997], \"type\": \"bar\", \"uid\": \"e83873a0-53ed-4e17-9efd-34479ad9ba2d\"}], {\"autosize\": false, \"font\": {\"color\": \"white\", \"family\": \"Courier New, monospace\", \"size\": 12}, \"height\": 600, \"title\": {\"font\": {\"color\": \"black\", \"family\": \"Courier New, monospace\", \"size\": 14}, \"text\": \"Distribution of ECGspecsDigitalis column\"}, \"width\": 800, \"xaxis\": {\"tickfont\": {\"color\": \"black\", \"family\": \"Courier New, monospace\", \"size\": 14}}, \"yaxis\": {\"tickfont\": {\"color\": \"black\", \"family\": \"Courier New, monospace\", \"size\": 14}, \"title\": {\"font\": {\"color\": \"black\", \"size\": 14}, \"text\": \"Percentage\"}}}, {\"showLink\": false, \"linkText\": \"Export to plot.ly\", \"plotlyServerURL\": \"https://plot.ly\"})});</script>"
      ]
     },
     "metadata": {},
     "output_type": "display_data"
    },
    {
     "name": "stdout",
     "output_type": "stream",
     "text": [
      "########################################################################################\n",
      "0.0    455\n",
      "1.0    168\n",
      "Name: ECGspecsBetaBlocker, dtype: int64\n",
      "\n",
      " total =  623\n",
      "\n",
      " Percentages =  [73.03 26.97]\n",
      "########################################################################################\n"
     ]
    },
    {
     "data": {
      "application/vnd.plotly.v1+json": {
       "config": {
        "linkText": "Export to plot.ly",
        "plotlyServerURL": "https://plot.ly",
        "showLink": false
       },
       "data": [
        {
         "marker": {
          "color": "#0047AB"
         },
         "text": [
          "73.03%",
          "26.97%"
         ],
         "textposition": "auto",
         "type": "bar",
         "uid": "0f9b3e4f-10d1-457c-b4c1-9b934f2bf046",
         "x": [
          "0.0",
          "1.0"
         ],
         "y": [
          73.03,
          26.97
         ]
        }
       ],
       "layout": {
        "autosize": false,
        "font": {
         "color": "white",
         "family": "Courier New, monospace",
         "size": 12
        },
        "height": 600,
        "title": {
         "font": {
          "color": "black",
          "family": "Courier New, monospace",
          "size": 14
         },
         "text": "Distribution of ECGspecsBetaBlocker column"
        },
        "width": 800,
        "xaxis": {
         "tickfont": {
          "color": "black",
          "family": "Courier New, monospace",
          "size": 14
         }
        },
        "yaxis": {
         "tickfont": {
          "color": "black",
          "family": "Courier New, monospace",
          "size": 14
         },
         "title": {
          "font": {
           "color": "black",
           "size": 14
          },
          "text": "Percentage"
         }
        }
       }
      },
      "text/html": [
       "<div id=\"4709be37-d44d-477f-a049-0239a17edc9a\" style=\"height: 600px; width: 800px;\" class=\"plotly-graph-div\"></div><script type=\"text/javascript\">require([\"plotly\"], function(Plotly) { window.PLOTLYENV=window.PLOTLYENV || {};window.PLOTLYENV.BASE_URL=\"https://plot.ly\";Plotly.newPlot(\"4709be37-d44d-477f-a049-0239a17edc9a\", [{\"marker\": {\"color\": \"#0047AB\"}, \"text\": [\"73.03%\", \"26.97%\"], \"textposition\": \"auto\", \"x\": [\"0.0\", \"1.0\"], \"y\": [73.03, 26.97], \"type\": \"bar\", \"uid\": \"0f9b3e4f-10d1-457c-b4c1-9b934f2bf046\"}], {\"autosize\": false, \"font\": {\"color\": \"white\", \"family\": \"Courier New, monospace\", \"size\": 12}, \"height\": 600, \"title\": {\"font\": {\"color\": \"black\", \"family\": \"Courier New, monospace\", \"size\": 14}, \"text\": \"Distribution of ECGspecsBetaBlocker column\"}, \"width\": 800, \"xaxis\": {\"tickfont\": {\"color\": \"black\", \"family\": \"Courier New, monospace\", \"size\": 14}}, \"yaxis\": {\"tickfont\": {\"color\": \"black\", \"family\": \"Courier New, monospace\", \"size\": 14}, \"title\": {\"font\": {\"color\": \"black\", \"size\": 14}, \"text\": \"Percentage\"}}}, {\"showLink\": false, \"linkText\": \"Export to plot.ly\", \"plotlyServerURL\": \"https://plot.ly\"})});</script>"
      ],
      "text/vnd.plotly.v1+html": [
       "<div id=\"4709be37-d44d-477f-a049-0239a17edc9a\" style=\"height: 600px; width: 800px;\" class=\"plotly-graph-div\"></div><script type=\"text/javascript\">require([\"plotly\"], function(Plotly) { window.PLOTLYENV=window.PLOTLYENV || {};window.PLOTLYENV.BASE_URL=\"https://plot.ly\";Plotly.newPlot(\"4709be37-d44d-477f-a049-0239a17edc9a\", [{\"marker\": {\"color\": \"#0047AB\"}, \"text\": [\"73.03%\", \"26.97%\"], \"textposition\": \"auto\", \"x\": [\"0.0\", \"1.0\"], \"y\": [73.03, 26.97], \"type\": \"bar\", \"uid\": \"0f9b3e4f-10d1-457c-b4c1-9b934f2bf046\"}], {\"autosize\": false, \"font\": {\"color\": \"white\", \"family\": \"Courier New, monospace\", \"size\": 12}, \"height\": 600, \"title\": {\"font\": {\"color\": \"black\", \"family\": \"Courier New, monospace\", \"size\": 14}, \"text\": \"Distribution of ECGspecsBetaBlocker column\"}, \"width\": 800, \"xaxis\": {\"tickfont\": {\"color\": \"black\", \"family\": \"Courier New, monospace\", \"size\": 14}}, \"yaxis\": {\"tickfont\": {\"color\": \"black\", \"family\": \"Courier New, monospace\", \"size\": 14}, \"title\": {\"font\": {\"color\": \"black\", \"size\": 14}, \"text\": \"Percentage\"}}}, {\"showLink\": false, \"linkText\": \"Export to plot.ly\", \"plotlyServerURL\": \"https://plot.ly\"})});</script>"
      ]
     },
     "metadata": {},
     "output_type": "display_data"
    },
    {
     "name": "stdout",
     "output_type": "stream",
     "text": [
      "########################################################################################\n",
      "0.0    451\n",
      "1.0    173\n",
      "Name: ECGspecsNitrates, dtype: int64\n",
      "\n",
      " total =  624\n",
      "\n",
      " Percentages =  [72.28 27.72]\n",
      "########################################################################################\n"
     ]
    },
    {
     "data": {
      "application/vnd.plotly.v1+json": {
       "config": {
        "linkText": "Export to plot.ly",
        "plotlyServerURL": "https://plot.ly",
        "showLink": false
       },
       "data": [
        {
         "marker": {
          "color": "#0047AB"
         },
         "text": [
          "72.28%",
          "27.72%"
         ],
         "textposition": "auto",
         "type": "bar",
         "uid": "af785933-8f3e-4fef-b5d8-ab284ffcccd8",
         "x": [
          "0.0",
          "1.0"
         ],
         "y": [
          72.28,
          27.72
         ]
        }
       ],
       "layout": {
        "autosize": false,
        "font": {
         "color": "white",
         "family": "Courier New, monospace",
         "size": 12
        },
        "height": 600,
        "title": {
         "font": {
          "color": "black",
          "family": "Courier New, monospace",
          "size": 14
         },
         "text": "Distribution of ECGspecsNitrates column"
        },
        "width": 800,
        "xaxis": {
         "tickfont": {
          "color": "black",
          "family": "Courier New, monospace",
          "size": 14
         }
        },
        "yaxis": {
         "tickfont": {
          "color": "black",
          "family": "Courier New, monospace",
          "size": 14
         },
         "title": {
          "font": {
           "color": "black",
           "size": 14
          },
          "text": "Percentage"
         }
        }
       }
      },
      "text/html": [
       "<div id=\"9ed533c7-cc47-43ad-84f9-843fcb5e0b5e\" style=\"height: 600px; width: 800px;\" class=\"plotly-graph-div\"></div><script type=\"text/javascript\">require([\"plotly\"], function(Plotly) { window.PLOTLYENV=window.PLOTLYENV || {};window.PLOTLYENV.BASE_URL=\"https://plot.ly\";Plotly.newPlot(\"9ed533c7-cc47-43ad-84f9-843fcb5e0b5e\", [{\"marker\": {\"color\": \"#0047AB\"}, \"text\": [\"72.28%\", \"27.72%\"], \"textposition\": \"auto\", \"x\": [\"0.0\", \"1.0\"], \"y\": [72.28, 27.72], \"type\": \"bar\", \"uid\": \"af785933-8f3e-4fef-b5d8-ab284ffcccd8\"}], {\"autosize\": false, \"font\": {\"color\": \"white\", \"family\": \"Courier New, monospace\", \"size\": 12}, \"height\": 600, \"title\": {\"font\": {\"color\": \"black\", \"family\": \"Courier New, monospace\", \"size\": 14}, \"text\": \"Distribution of ECGspecsNitrates column\"}, \"width\": 800, \"xaxis\": {\"tickfont\": {\"color\": \"black\", \"family\": \"Courier New, monospace\", \"size\": 14}}, \"yaxis\": {\"tickfont\": {\"color\": \"black\", \"family\": \"Courier New, monospace\", \"size\": 14}, \"title\": {\"font\": {\"color\": \"black\", \"size\": 14}, \"text\": \"Percentage\"}}}, {\"showLink\": false, \"linkText\": \"Export to plot.ly\", \"plotlyServerURL\": \"https://plot.ly\"})});</script>"
      ],
      "text/vnd.plotly.v1+html": [
       "<div id=\"9ed533c7-cc47-43ad-84f9-843fcb5e0b5e\" style=\"height: 600px; width: 800px;\" class=\"plotly-graph-div\"></div><script type=\"text/javascript\">require([\"plotly\"], function(Plotly) { window.PLOTLYENV=window.PLOTLYENV || {};window.PLOTLYENV.BASE_URL=\"https://plot.ly\";Plotly.newPlot(\"9ed533c7-cc47-43ad-84f9-843fcb5e0b5e\", [{\"marker\": {\"color\": \"#0047AB\"}, \"text\": [\"72.28%\", \"27.72%\"], \"textposition\": \"auto\", \"x\": [\"0.0\", \"1.0\"], \"y\": [72.28, 27.72], \"type\": \"bar\", \"uid\": \"af785933-8f3e-4fef-b5d8-ab284ffcccd8\"}], {\"autosize\": false, \"font\": {\"color\": \"white\", \"family\": \"Courier New, monospace\", \"size\": 12}, \"height\": 600, \"title\": {\"font\": {\"color\": \"black\", \"family\": \"Courier New, monospace\", \"size\": 14}, \"text\": \"Distribution of ECGspecsNitrates column\"}, \"width\": 800, \"xaxis\": {\"tickfont\": {\"color\": \"black\", \"family\": \"Courier New, monospace\", \"size\": 14}}, \"yaxis\": {\"tickfont\": {\"color\": \"black\", \"family\": \"Courier New, monospace\", \"size\": 14}, \"title\": {\"font\": {\"color\": \"black\", \"size\": 14}, \"text\": \"Percentage\"}}}, {\"showLink\": false, \"linkText\": \"Export to plot.ly\", \"plotlyServerURL\": \"https://plot.ly\"})});</script>"
      ]
     },
     "metadata": {},
     "output_type": "display_data"
    },
    {
     "name": "stdout",
     "output_type": "stream",
     "text": [
      "########################################################################################\n",
      "0.0    512\n",
      "1.0    113\n",
      "Name: ECGspecsCalci, dtype: int64\n",
      "\n",
      " total =  625\n",
      "\n",
      " Percentages =  [81.92 18.08]\n",
      "########################################################################################\n"
     ]
    },
    {
     "data": {
      "application/vnd.plotly.v1+json": {
       "config": {
        "linkText": "Export to plot.ly",
        "plotlyServerURL": "https://plot.ly",
        "showLink": false
       },
       "data": [
        {
         "marker": {
          "color": "#0047AB"
         },
         "text": [
          "81.92%",
          "18.08%"
         ],
         "textposition": "auto",
         "type": "bar",
         "uid": "4fa83b94-9a17-4f66-9b55-13a1d9f16040",
         "x": [
          "0.0",
          "1.0"
         ],
         "y": [
          81.92,
          18.08
         ]
        }
       ],
       "layout": {
        "autosize": false,
        "font": {
         "color": "white",
         "family": "Courier New, monospace",
         "size": 12
        },
        "height": 600,
        "title": {
         "font": {
          "color": "black",
          "family": "Courier New, monospace",
          "size": 14
         },
         "text": "Distribution of ECGspecsCalci column"
        },
        "width": 800,
        "xaxis": {
         "tickfont": {
          "color": "black",
          "family": "Courier New, monospace",
          "size": 14
         }
        },
        "yaxis": {
         "tickfont": {
          "color": "black",
          "family": "Courier New, monospace",
          "size": 14
         },
         "title": {
          "font": {
           "color": "black",
           "size": 14
          },
          "text": "Percentage"
         }
        }
       }
      },
      "text/html": [
       "<div id=\"c020fb56-6479-442d-8c2d-f33a26179088\" style=\"height: 600px; width: 800px;\" class=\"plotly-graph-div\"></div><script type=\"text/javascript\">require([\"plotly\"], function(Plotly) { window.PLOTLYENV=window.PLOTLYENV || {};window.PLOTLYENV.BASE_URL=\"https://plot.ly\";Plotly.newPlot(\"c020fb56-6479-442d-8c2d-f33a26179088\", [{\"marker\": {\"color\": \"#0047AB\"}, \"text\": [\"81.92%\", \"18.08%\"], \"textposition\": \"auto\", \"x\": [\"0.0\", \"1.0\"], \"y\": [81.92, 18.08], \"type\": \"bar\", \"uid\": \"4fa83b94-9a17-4f66-9b55-13a1d9f16040\"}], {\"autosize\": false, \"font\": {\"color\": \"white\", \"family\": \"Courier New, monospace\", \"size\": 12}, \"height\": 600, \"title\": {\"font\": {\"color\": \"black\", \"family\": \"Courier New, monospace\", \"size\": 14}, \"text\": \"Distribution of ECGspecsCalci column\"}, \"width\": 800, \"xaxis\": {\"tickfont\": {\"color\": \"black\", \"family\": \"Courier New, monospace\", \"size\": 14}}, \"yaxis\": {\"tickfont\": {\"color\": \"black\", \"family\": \"Courier New, monospace\", \"size\": 14}, \"title\": {\"font\": {\"color\": \"black\", \"size\": 14}, \"text\": \"Percentage\"}}}, {\"showLink\": false, \"linkText\": \"Export to plot.ly\", \"plotlyServerURL\": \"https://plot.ly\"})});</script>"
      ],
      "text/vnd.plotly.v1+html": [
       "<div id=\"c020fb56-6479-442d-8c2d-f33a26179088\" style=\"height: 600px; width: 800px;\" class=\"plotly-graph-div\"></div><script type=\"text/javascript\">require([\"plotly\"], function(Plotly) { window.PLOTLYENV=window.PLOTLYENV || {};window.PLOTLYENV.BASE_URL=\"https://plot.ly\";Plotly.newPlot(\"c020fb56-6479-442d-8c2d-f33a26179088\", [{\"marker\": {\"color\": \"#0047AB\"}, \"text\": [\"81.92%\", \"18.08%\"], \"textposition\": \"auto\", \"x\": [\"0.0\", \"1.0\"], \"y\": [81.92, 18.08], \"type\": \"bar\", \"uid\": \"4fa83b94-9a17-4f66-9b55-13a1d9f16040\"}], {\"autosize\": false, \"font\": {\"color\": \"white\", \"family\": \"Courier New, monospace\", \"size\": 12}, \"height\": 600, \"title\": {\"font\": {\"color\": \"black\", \"family\": \"Courier New, monospace\", \"size\": 14}, \"text\": \"Distribution of ECGspecsCalci column\"}, \"width\": 800, \"xaxis\": {\"tickfont\": {\"color\": \"black\", \"family\": \"Courier New, monospace\", \"size\": 14}}, \"yaxis\": {\"tickfont\": {\"color\": \"black\", \"family\": \"Courier New, monospace\", \"size\": 14}, \"title\": {\"font\": {\"color\": \"black\", \"size\": 14}, \"text\": \"Percentage\"}}}, {\"showLink\": false, \"linkText\": \"Export to plot.ly\", \"plotlyServerURL\": \"https://plot.ly\"})});</script>"
      ]
     },
     "metadata": {},
     "output_type": "display_data"
    },
    {
     "name": "stdout",
     "output_type": "stream",
     "text": [
      "########################################################################################\n",
      "0.0    549\n",
      "1.0     63\n",
      "Name: ECGspecsdiuretic, dtype: int64\n",
      "\n",
      " total =  612\n",
      "\n",
      " Percentages =  [89.71 10.29]\n",
      "########################################################################################\n"
     ]
    },
    {
     "data": {
      "application/vnd.plotly.v1+json": {
       "config": {
        "linkText": "Export to plot.ly",
        "plotlyServerURL": "https://plot.ly",
        "showLink": false
       },
       "data": [
        {
         "marker": {
          "color": "#0047AB"
         },
         "text": [
          "89.71000000000001%",
          "10.290000000000001%"
         ],
         "textposition": "auto",
         "type": "bar",
         "uid": "e980fec3-ffde-4715-a668-92e7f4439637",
         "x": [
          "0.0",
          "1.0"
         ],
         "y": [
          89.71000000000001,
          10.290000000000001
         ]
        }
       ],
       "layout": {
        "autosize": false,
        "font": {
         "color": "white",
         "family": "Courier New, monospace",
         "size": 12
        },
        "height": 600,
        "title": {
         "font": {
          "color": "black",
          "family": "Courier New, monospace",
          "size": 14
         },
         "text": "Distribution of ECGspecsdiuretic column"
        },
        "width": 800,
        "xaxis": {
         "tickfont": {
          "color": "black",
          "family": "Courier New, monospace",
          "size": 14
         }
        },
        "yaxis": {
         "tickfont": {
          "color": "black",
          "family": "Courier New, monospace",
          "size": 14
         },
         "title": {
          "font": {
           "color": "black",
           "size": 14
          },
          "text": "Percentage"
         }
        }
       }
      },
      "text/html": [
       "<div id=\"26a3bd34-c048-4c8f-8409-1fdde1171969\" style=\"height: 600px; width: 800px;\" class=\"plotly-graph-div\"></div><script type=\"text/javascript\">require([\"plotly\"], function(Plotly) { window.PLOTLYENV=window.PLOTLYENV || {};window.PLOTLYENV.BASE_URL=\"https://plot.ly\";Plotly.newPlot(\"26a3bd34-c048-4c8f-8409-1fdde1171969\", [{\"marker\": {\"color\": \"#0047AB\"}, \"text\": [\"89.71000000000001%\", \"10.290000000000001%\"], \"textposition\": \"auto\", \"x\": [\"0.0\", \"1.0\"], \"y\": [89.71000000000001, 10.290000000000001], \"type\": \"bar\", \"uid\": \"e980fec3-ffde-4715-a668-92e7f4439637\"}], {\"autosize\": false, \"font\": {\"color\": \"white\", \"family\": \"Courier New, monospace\", \"size\": 12}, \"height\": 600, \"title\": {\"font\": {\"color\": \"black\", \"family\": \"Courier New, monospace\", \"size\": 14}, \"text\": \"Distribution of ECGspecsdiuretic column\"}, \"width\": 800, \"xaxis\": {\"tickfont\": {\"color\": \"black\", \"family\": \"Courier New, monospace\", \"size\": 14}}, \"yaxis\": {\"tickfont\": {\"color\": \"black\", \"family\": \"Courier New, monospace\", \"size\": 14}, \"title\": {\"font\": {\"color\": \"black\", \"size\": 14}, \"text\": \"Percentage\"}}}, {\"showLink\": false, \"linkText\": \"Export to plot.ly\", \"plotlyServerURL\": \"https://plot.ly\"})});</script>"
      ],
      "text/vnd.plotly.v1+html": [
       "<div id=\"26a3bd34-c048-4c8f-8409-1fdde1171969\" style=\"height: 600px; width: 800px;\" class=\"plotly-graph-div\"></div><script type=\"text/javascript\">require([\"plotly\"], function(Plotly) { window.PLOTLYENV=window.PLOTLYENV || {};window.PLOTLYENV.BASE_URL=\"https://plot.ly\";Plotly.newPlot(\"26a3bd34-c048-4c8f-8409-1fdde1171969\", [{\"marker\": {\"color\": \"#0047AB\"}, \"text\": [\"89.71000000000001%\", \"10.290000000000001%\"], \"textposition\": \"auto\", \"x\": [\"0.0\", \"1.0\"], \"y\": [89.71000000000001, 10.290000000000001], \"type\": \"bar\", \"uid\": \"e980fec3-ffde-4715-a668-92e7f4439637\"}], {\"autosize\": false, \"font\": {\"color\": \"white\", \"family\": \"Courier New, monospace\", \"size\": 12}, \"height\": 600, \"title\": {\"font\": {\"color\": \"black\", \"family\": \"Courier New, monospace\", \"size\": 14}, \"text\": \"Distribution of ECGspecsdiuretic column\"}, \"width\": 800, \"xaxis\": {\"tickfont\": {\"color\": \"black\", \"family\": \"Courier New, monospace\", \"size\": 14}}, \"yaxis\": {\"tickfont\": {\"color\": \"black\", \"family\": \"Courier New, monospace\", \"size\": 14}, \"title\": {\"font\": {\"color\": \"black\", \"size\": 14}, \"text\": \"Percentage\"}}}, {\"showLink\": false, \"linkText\": \"Export to plot.ly\", \"plotlyServerURL\": \"https://plot.ly\"})});</script>"
      ]
     },
     "metadata": {},
     "output_type": "display_data"
    },
    {
     "name": "stdout",
     "output_type": "stream",
     "text": [
      "########################################################################################\n",
      "0.0    386\n",
      "1.0    245\n",
      "Name: ExInducedAngina, dtype: int64\n",
      "\n",
      " total =  631\n",
      "\n",
      " Percentages =  [61.17 38.83]\n",
      "########################################################################################\n"
     ]
    },
    {
     "data": {
      "application/vnd.plotly.v1+json": {
       "config": {
        "linkText": "Export to plot.ly",
        "plotlyServerURL": "https://plot.ly",
        "showLink": false
       },
       "data": [
        {
         "marker": {
          "color": "#0047AB"
         },
         "text": [
          "61.17%",
          "38.83%"
         ],
         "textposition": "auto",
         "type": "bar",
         "uid": "db7cbd73-f442-462d-a07f-454c9eb3ad42",
         "x": [
          "0.0",
          "1.0"
         ],
         "y": [
          61.17,
          38.83
         ]
        }
       ],
       "layout": {
        "autosize": false,
        "font": {
         "color": "white",
         "family": "Courier New, monospace",
         "size": 12
        },
        "height": 600,
        "title": {
         "font": {
          "color": "black",
          "family": "Courier New, monospace",
          "size": 14
         },
         "text": "Distribution of ExInducedAngina column"
        },
        "width": 800,
        "xaxis": {
         "tickfont": {
          "color": "black",
          "family": "Courier New, monospace",
          "size": 14
         }
        },
        "yaxis": {
         "tickfont": {
          "color": "black",
          "family": "Courier New, monospace",
          "size": 14
         },
         "title": {
          "font": {
           "color": "black",
           "size": 14
          },
          "text": "Percentage"
         }
        }
       }
      },
      "text/html": [
       "<div id=\"5ee063c0-fb59-4669-808d-59c45936a35e\" style=\"height: 600px; width: 800px;\" class=\"plotly-graph-div\"></div><script type=\"text/javascript\">require([\"plotly\"], function(Plotly) { window.PLOTLYENV=window.PLOTLYENV || {};window.PLOTLYENV.BASE_URL=\"https://plot.ly\";Plotly.newPlot(\"5ee063c0-fb59-4669-808d-59c45936a35e\", [{\"marker\": {\"color\": \"#0047AB\"}, \"text\": [\"61.17%\", \"38.83%\"], \"textposition\": \"auto\", \"x\": [\"0.0\", \"1.0\"], \"y\": [61.17, 38.83], \"type\": \"bar\", \"uid\": \"db7cbd73-f442-462d-a07f-454c9eb3ad42\"}], {\"autosize\": false, \"font\": {\"color\": \"white\", \"family\": \"Courier New, monospace\", \"size\": 12}, \"height\": 600, \"title\": {\"font\": {\"color\": \"black\", \"family\": \"Courier New, monospace\", \"size\": 14}, \"text\": \"Distribution of ExInducedAngina column\"}, \"width\": 800, \"xaxis\": {\"tickfont\": {\"color\": \"black\", \"family\": \"Courier New, monospace\", \"size\": 14}}, \"yaxis\": {\"tickfont\": {\"color\": \"black\", \"family\": \"Courier New, monospace\", \"size\": 14}, \"title\": {\"font\": {\"color\": \"black\", \"size\": 14}, \"text\": \"Percentage\"}}}, {\"showLink\": false, \"linkText\": \"Export to plot.ly\", \"plotlyServerURL\": \"https://plot.ly\"})});</script>"
      ],
      "text/vnd.plotly.v1+html": [
       "<div id=\"5ee063c0-fb59-4669-808d-59c45936a35e\" style=\"height: 600px; width: 800px;\" class=\"plotly-graph-div\"></div><script type=\"text/javascript\">require([\"plotly\"], function(Plotly) { window.PLOTLYENV=window.PLOTLYENV || {};window.PLOTLYENV.BASE_URL=\"https://plot.ly\";Plotly.newPlot(\"5ee063c0-fb59-4669-808d-59c45936a35e\", [{\"marker\": {\"color\": \"#0047AB\"}, \"text\": [\"61.17%\", \"38.83%\"], \"textposition\": \"auto\", \"x\": [\"0.0\", \"1.0\"], \"y\": [61.17, 38.83], \"type\": \"bar\", \"uid\": \"db7cbd73-f442-462d-a07f-454c9eb3ad42\"}], {\"autosize\": false, \"font\": {\"color\": \"white\", \"family\": \"Courier New, monospace\", \"size\": 12}, \"height\": 600, \"title\": {\"font\": {\"color\": \"black\", \"family\": \"Courier New, monospace\", \"size\": 14}, \"text\": \"Distribution of ExInducedAngina column\"}, \"width\": 800, \"xaxis\": {\"tickfont\": {\"color\": \"black\", \"family\": \"Courier New, monospace\", \"size\": 14}}, \"yaxis\": {\"tickfont\": {\"color\": \"black\", \"family\": \"Courier New, monospace\", \"size\": 14}, \"title\": {\"font\": {\"color\": \"black\", \"size\": 14}, \"text\": \"Percentage\"}}}, {\"showLink\": false, \"linkText\": \"Export to plot.ly\", \"plotlyServerURL\": \"https://plot.ly\"})});</script>"
      ]
     },
     "metadata": {},
     "output_type": "display_data"
    },
    {
     "name": "stdout",
     "output_type": "stream",
     "text": [
      "########################################################################################\n",
      "0.0    614\n",
      "1.0     15\n",
      "Name: xhypo, dtype: int64\n",
      "\n",
      " total =  629\n",
      "\n",
      " Percentages =  [97.62  2.38]\n",
      "########################################################################################\n"
     ]
    },
    {
     "data": {
      "application/vnd.plotly.v1+json": {
       "config": {
        "linkText": "Export to plot.ly",
        "plotlyServerURL": "https://plot.ly",
        "showLink": false
       },
       "data": [
        {
         "marker": {
          "color": "#0047AB"
         },
         "text": [
          "97.61999999999999%",
          "2.3800000000000003%"
         ],
         "textposition": "auto",
         "type": "bar",
         "uid": "8ee66c36-7e9f-4dcc-86e7-6823f45888f6",
         "x": [
          "0.0",
          "1.0"
         ],
         "y": [
          97.61999999999999,
          2.3800000000000003
         ]
        }
       ],
       "layout": {
        "autosize": false,
        "font": {
         "color": "white",
         "family": "Courier New, monospace",
         "size": 12
        },
        "height": 600,
        "title": {
         "font": {
          "color": "black",
          "family": "Courier New, monospace",
          "size": 14
         },
         "text": "Distribution of xhypo column"
        },
        "width": 800,
        "xaxis": {
         "tickfont": {
          "color": "black",
          "family": "Courier New, monospace",
          "size": 14
         }
        },
        "yaxis": {
         "tickfont": {
          "color": "black",
          "family": "Courier New, monospace",
          "size": 14
         },
         "title": {
          "font": {
           "color": "black",
           "size": 14
          },
          "text": "Percentage"
         }
        }
       }
      },
      "text/html": [
       "<div id=\"f5d0f73e-d4f5-4991-ad71-0cc4908fedca\" style=\"height: 600px; width: 800px;\" class=\"plotly-graph-div\"></div><script type=\"text/javascript\">require([\"plotly\"], function(Plotly) { window.PLOTLYENV=window.PLOTLYENV || {};window.PLOTLYENV.BASE_URL=\"https://plot.ly\";Plotly.newPlot(\"f5d0f73e-d4f5-4991-ad71-0cc4908fedca\", [{\"marker\": {\"color\": \"#0047AB\"}, \"text\": [\"97.61999999999999%\", \"2.3800000000000003%\"], \"textposition\": \"auto\", \"x\": [\"0.0\", \"1.0\"], \"y\": [97.61999999999999, 2.3800000000000003], \"type\": \"bar\", \"uid\": \"8ee66c36-7e9f-4dcc-86e7-6823f45888f6\"}], {\"autosize\": false, \"font\": {\"color\": \"white\", \"family\": \"Courier New, monospace\", \"size\": 12}, \"height\": 600, \"title\": {\"font\": {\"color\": \"black\", \"family\": \"Courier New, monospace\", \"size\": 14}, \"text\": \"Distribution of xhypo column\"}, \"width\": 800, \"xaxis\": {\"tickfont\": {\"color\": \"black\", \"family\": \"Courier New, monospace\", \"size\": 14}}, \"yaxis\": {\"tickfont\": {\"color\": \"black\", \"family\": \"Courier New, monospace\", \"size\": 14}, \"title\": {\"font\": {\"color\": \"black\", \"size\": 14}, \"text\": \"Percentage\"}}}, {\"showLink\": false, \"linkText\": \"Export to plot.ly\", \"plotlyServerURL\": \"https://plot.ly\"})});</script>"
      ],
      "text/vnd.plotly.v1+html": [
       "<div id=\"f5d0f73e-d4f5-4991-ad71-0cc4908fedca\" style=\"height: 600px; width: 800px;\" class=\"plotly-graph-div\"></div><script type=\"text/javascript\">require([\"plotly\"], function(Plotly) { window.PLOTLYENV=window.PLOTLYENV || {};window.PLOTLYENV.BASE_URL=\"https://plot.ly\";Plotly.newPlot(\"f5d0f73e-d4f5-4991-ad71-0cc4908fedca\", [{\"marker\": {\"color\": \"#0047AB\"}, \"text\": [\"97.61999999999999%\", \"2.3800000000000003%\"], \"textposition\": \"auto\", \"x\": [\"0.0\", \"1.0\"], \"y\": [97.61999999999999, 2.3800000000000003], \"type\": \"bar\", \"uid\": \"8ee66c36-7e9f-4dcc-86e7-6823f45888f6\"}], {\"autosize\": false, \"font\": {\"color\": \"white\", \"family\": \"Courier New, monospace\", \"size\": 12}, \"height\": 600, \"title\": {\"font\": {\"color\": \"black\", \"family\": \"Courier New, monospace\", \"size\": 14}, \"text\": \"Distribution of xhypo column\"}, \"width\": 800, \"xaxis\": {\"tickfont\": {\"color\": \"black\", \"family\": \"Courier New, monospace\", \"size\": 14}}, \"yaxis\": {\"tickfont\": {\"color\": \"black\", \"family\": \"Courier New, monospace\", \"size\": 14}, \"title\": {\"font\": {\"color\": \"black\", \"size\": 14}, \"text\": \"Percentage\"}}}, {\"showLink\": false, \"linkText\": \"Export to plot.ly\", \"plotlyServerURL\": \"https://plot.ly\"})});</script>"
      ]
     },
     "metadata": {},
     "output_type": "display_data"
    },
    {
     "name": "stdout",
     "output_type": "stream",
     "text": [
      "########################################################################################\n",
      "2.0    432\n",
      "1.0    153\n",
      "3.0     48\n",
      "0.0      1\n",
      "Name: Slope, dtype: int64\n",
      "\n",
      " total =  634\n",
      "\n",
      " Percentages =  [68.14 24.13  7.57  0.16]\n",
      "########################################################################################\n"
     ]
    },
    {
     "data": {
      "application/vnd.plotly.v1+json": {
       "config": {
        "linkText": "Export to plot.ly",
        "plotlyServerURL": "https://plot.ly",
        "showLink": false
       },
       "data": [
        {
         "marker": {
          "color": "#0047AB"
         },
         "text": [
          "68.14%",
          "24.13%",
          "7.57%",
          "0.16%"
         ],
         "textposition": "auto",
         "type": "bar",
         "uid": "98634849-e520-4add-a2df-37dd904ee5a9",
         "x": [
          "2.0",
          "1.0",
          "3.0",
          "0.0"
         ],
         "y": [
          68.14,
          24.13,
          7.57,
          0.16
         ]
        }
       ],
       "layout": {
        "autosize": false,
        "font": {
         "color": "white",
         "family": "Courier New, monospace",
         "size": 12
        },
        "height": 600,
        "title": {
         "font": {
          "color": "black",
          "family": "Courier New, monospace",
          "size": 14
         },
         "text": "Distribution of Slope column"
        },
        "width": 800,
        "xaxis": {
         "tickfont": {
          "color": "black",
          "family": "Courier New, monospace",
          "size": 14
         }
        },
        "yaxis": {
         "tickfont": {
          "color": "black",
          "family": "Courier New, monospace",
          "size": 14
         },
         "title": {
          "font": {
           "color": "black",
           "size": 14
          },
          "text": "Percentage"
         }
        }
       }
      },
      "text/html": [
       "<div id=\"fa4333d0-0f30-4200-abd5-5c1f3ec7216b\" style=\"height: 600px; width: 800px;\" class=\"plotly-graph-div\"></div><script type=\"text/javascript\">require([\"plotly\"], function(Plotly) { window.PLOTLYENV=window.PLOTLYENV || {};window.PLOTLYENV.BASE_URL=\"https://plot.ly\";Plotly.newPlot(\"fa4333d0-0f30-4200-abd5-5c1f3ec7216b\", [{\"marker\": {\"color\": \"#0047AB\"}, \"text\": [\"68.14%\", \"24.13%\", \"7.57%\", \"0.16%\"], \"textposition\": \"auto\", \"x\": [\"2.0\", \"1.0\", \"3.0\", \"0.0\"], \"y\": [68.14, 24.13, 7.57, 0.16], \"type\": \"bar\", \"uid\": \"98634849-e520-4add-a2df-37dd904ee5a9\"}], {\"autosize\": false, \"font\": {\"color\": \"white\", \"family\": \"Courier New, monospace\", \"size\": 12}, \"height\": 600, \"title\": {\"font\": {\"color\": \"black\", \"family\": \"Courier New, monospace\", \"size\": 14}, \"text\": \"Distribution of Slope column\"}, \"width\": 800, \"xaxis\": {\"tickfont\": {\"color\": \"black\", \"family\": \"Courier New, monospace\", \"size\": 14}}, \"yaxis\": {\"tickfont\": {\"color\": \"black\", \"family\": \"Courier New, monospace\", \"size\": 14}, \"title\": {\"font\": {\"color\": \"black\", \"size\": 14}, \"text\": \"Percentage\"}}}, {\"showLink\": false, \"linkText\": \"Export to plot.ly\", \"plotlyServerURL\": \"https://plot.ly\"})});</script>"
      ],
      "text/vnd.plotly.v1+html": [
       "<div id=\"fa4333d0-0f30-4200-abd5-5c1f3ec7216b\" style=\"height: 600px; width: 800px;\" class=\"plotly-graph-div\"></div><script type=\"text/javascript\">require([\"plotly\"], function(Plotly) { window.PLOTLYENV=window.PLOTLYENV || {};window.PLOTLYENV.BASE_URL=\"https://plot.ly\";Plotly.newPlot(\"fa4333d0-0f30-4200-abd5-5c1f3ec7216b\", [{\"marker\": {\"color\": \"#0047AB\"}, \"text\": [\"68.14%\", \"24.13%\", \"7.57%\", \"0.16%\"], \"textposition\": \"auto\", \"x\": [\"2.0\", \"1.0\", \"3.0\", \"0.0\"], \"y\": [68.14, 24.13, 7.57, 0.16], \"type\": \"bar\", \"uid\": \"98634849-e520-4add-a2df-37dd904ee5a9\"}], {\"autosize\": false, \"font\": {\"color\": \"white\", \"family\": \"Courier New, monospace\", \"size\": 12}, \"height\": 600, \"title\": {\"font\": {\"color\": \"black\", \"family\": \"Courier New, monospace\", \"size\": 14}, \"text\": \"Distribution of Slope column\"}, \"width\": 800, \"xaxis\": {\"tickfont\": {\"color\": \"black\", \"family\": \"Courier New, monospace\", \"size\": 14}}, \"yaxis\": {\"tickfont\": {\"color\": \"black\", \"family\": \"Courier New, monospace\", \"size\": 14}, \"title\": {\"font\": {\"color\": \"black\", \"size\": 14}, \"text\": \"Percentage\"}}}, {\"showLink\": false, \"linkText\": \"Export to plot.ly\", \"plotlyServerURL\": \"https://plot.ly\"})});</script>"
      ]
     },
     "metadata": {},
     "output_type": "display_data"
    },
    {
     "name": "stdout",
     "output_type": "stream",
     "text": [
      "########################################################################################\n",
      "0.0    542\n",
      "2.0      6\n",
      "1.0      3\n",
      "3.0      1\n",
      "Name: restwallmotion, dtype: int64\n",
      "\n",
      " total =  552\n",
      "\n",
      " Percentages =  [98.19  1.09  0.54  0.18]\n",
      "########################################################################################\n"
     ]
    },
    {
     "data": {
      "application/vnd.plotly.v1+json": {
       "config": {
        "linkText": "Export to plot.ly",
        "plotlyServerURL": "https://plot.ly",
        "showLink": false
       },
       "data": [
        {
         "marker": {
          "color": "#0047AB"
         },
         "text": [
          "98.19%",
          "1.09%",
          "0.54%",
          "0.18%"
         ],
         "textposition": "auto",
         "type": "bar",
         "uid": "585a7d41-d77c-4776-a1c1-411d525072c2",
         "x": [
          "0.0",
          "2.0",
          "1.0",
          "3.0"
         ],
         "y": [
          98.19,
          1.09,
          0.54,
          0.18
         ]
        }
       ],
       "layout": {
        "autosize": false,
        "font": {
         "color": "white",
         "family": "Courier New, monospace",
         "size": 12
        },
        "height": 600,
        "title": {
         "font": {
          "color": "black",
          "family": "Courier New, monospace",
          "size": 14
         },
         "text": "Distribution of restwallmotion column"
        },
        "width": 800,
        "xaxis": {
         "tickfont": {
          "color": "black",
          "family": "Courier New, monospace",
          "size": 14
         }
        },
        "yaxis": {
         "tickfont": {
          "color": "black",
          "family": "Courier New, monospace",
          "size": 14
         },
         "title": {
          "font": {
           "color": "black",
           "size": 14
          },
          "text": "Percentage"
         }
        }
       }
      },
      "text/html": [
       "<div id=\"9b355e70-7c2e-4103-918e-908d89cc4916\" style=\"height: 600px; width: 800px;\" class=\"plotly-graph-div\"></div><script type=\"text/javascript\">require([\"plotly\"], function(Plotly) { window.PLOTLYENV=window.PLOTLYENV || {};window.PLOTLYENV.BASE_URL=\"https://plot.ly\";Plotly.newPlot(\"9b355e70-7c2e-4103-918e-908d89cc4916\", [{\"marker\": {\"color\": \"#0047AB\"}, \"text\": [\"98.19%\", \"1.09%\", \"0.54%\", \"0.18%\"], \"textposition\": \"auto\", \"x\": [\"0.0\", \"2.0\", \"1.0\", \"3.0\"], \"y\": [98.19, 1.09, 0.54, 0.18], \"type\": \"bar\", \"uid\": \"585a7d41-d77c-4776-a1c1-411d525072c2\"}], {\"autosize\": false, \"font\": {\"color\": \"white\", \"family\": \"Courier New, monospace\", \"size\": 12}, \"height\": 600, \"title\": {\"font\": {\"color\": \"black\", \"family\": \"Courier New, monospace\", \"size\": 14}, \"text\": \"Distribution of restwallmotion column\"}, \"width\": 800, \"xaxis\": {\"tickfont\": {\"color\": \"black\", \"family\": \"Courier New, monospace\", \"size\": 14}}, \"yaxis\": {\"tickfont\": {\"color\": \"black\", \"family\": \"Courier New, monospace\", \"size\": 14}, \"title\": {\"font\": {\"color\": \"black\", \"size\": 14}, \"text\": \"Percentage\"}}}, {\"showLink\": false, \"linkText\": \"Export to plot.ly\", \"plotlyServerURL\": \"https://plot.ly\"})});</script>"
      ],
      "text/vnd.plotly.v1+html": [
       "<div id=\"9b355e70-7c2e-4103-918e-908d89cc4916\" style=\"height: 600px; width: 800px;\" class=\"plotly-graph-div\"></div><script type=\"text/javascript\">require([\"plotly\"], function(Plotly) { window.PLOTLYENV=window.PLOTLYENV || {};window.PLOTLYENV.BASE_URL=\"https://plot.ly\";Plotly.newPlot(\"9b355e70-7c2e-4103-918e-908d89cc4916\", [{\"marker\": {\"color\": \"#0047AB\"}, \"text\": [\"98.19%\", \"1.09%\", \"0.54%\", \"0.18%\"], \"textposition\": \"auto\", \"x\": [\"0.0\", \"2.0\", \"1.0\", \"3.0\"], \"y\": [98.19, 1.09, 0.54, 0.18], \"type\": \"bar\", \"uid\": \"585a7d41-d77c-4776-a1c1-411d525072c2\"}], {\"autosize\": false, \"font\": {\"color\": \"white\", \"family\": \"Courier New, monospace\", \"size\": 12}, \"height\": 600, \"title\": {\"font\": {\"color\": \"black\", \"family\": \"Courier New, monospace\", \"size\": 14}, \"text\": \"Distribution of restwallmotion column\"}, \"width\": 800, \"xaxis\": {\"tickfont\": {\"color\": \"black\", \"family\": \"Courier New, monospace\", \"size\": 14}}, \"yaxis\": {\"tickfont\": {\"color\": \"black\", \"family\": \"Courier New, monospace\", \"size\": 14}, \"title\": {\"font\": {\"color\": \"black\", \"size\": 14}, \"text\": \"Percentage\"}}}, {\"showLink\": false, \"linkText\": \"Export to plot.ly\", \"plotlyServerURL\": \"https://plot.ly\"})});</script>"
      ]
     },
     "metadata": {},
     "output_type": "display_data"
    },
    {
     "name": "stdout",
     "output_type": "stream",
     "text": [
      "########################################################################################\n",
      "0.0    535\n",
      "Name: ExerWallmotion, dtype: int64\n",
      "\n",
      " total =  535\n",
      "\n",
      " Percentages =  [100.]\n",
      "########################################################################################\n"
     ]
    },
    {
     "data": {
      "application/vnd.plotly.v1+json": {
       "config": {
        "linkText": "Export to plot.ly",
        "plotlyServerURL": "https://plot.ly",
        "showLink": false
       },
       "data": [
        {
         "marker": {
          "color": "#0047AB"
         },
         "text": [
          "100.0%"
         ],
         "textposition": "auto",
         "type": "bar",
         "uid": "3637a07e-706f-4d9c-9bda-c42e2dc2a647",
         "x": [
          "0.0"
         ],
         "y": [
          100
         ]
        }
       ],
       "layout": {
        "autosize": false,
        "font": {
         "color": "white",
         "family": "Courier New, monospace",
         "size": 12
        },
        "height": 600,
        "title": {
         "font": {
          "color": "black",
          "family": "Courier New, monospace",
          "size": 14
         },
         "text": "Distribution of ExerWallmotion column"
        },
        "width": 800,
        "xaxis": {
         "tickfont": {
          "color": "black",
          "family": "Courier New, monospace",
          "size": 14
         }
        },
        "yaxis": {
         "tickfont": {
          "color": "black",
          "family": "Courier New, monospace",
          "size": 14
         },
         "title": {
          "font": {
           "color": "black",
           "size": 14
          },
          "text": "Percentage"
         }
        }
       }
      },
      "text/html": [
       "<div id=\"d655d7f9-c05e-4001-a087-e8279a96954f\" style=\"height: 600px; width: 800px;\" class=\"plotly-graph-div\"></div><script type=\"text/javascript\">require([\"plotly\"], function(Plotly) { window.PLOTLYENV=window.PLOTLYENV || {};window.PLOTLYENV.BASE_URL=\"https://plot.ly\";Plotly.newPlot(\"d655d7f9-c05e-4001-a087-e8279a96954f\", [{\"marker\": {\"color\": \"#0047AB\"}, \"text\": [\"100.0%\"], \"textposition\": \"auto\", \"x\": [\"0.0\"], \"y\": [100.0], \"type\": \"bar\", \"uid\": \"3637a07e-706f-4d9c-9bda-c42e2dc2a647\"}], {\"autosize\": false, \"font\": {\"color\": \"white\", \"family\": \"Courier New, monospace\", \"size\": 12}, \"height\": 600, \"title\": {\"font\": {\"color\": \"black\", \"family\": \"Courier New, monospace\", \"size\": 14}, \"text\": \"Distribution of ExerWallmotion column\"}, \"width\": 800, \"xaxis\": {\"tickfont\": {\"color\": \"black\", \"family\": \"Courier New, monospace\", \"size\": 14}}, \"yaxis\": {\"tickfont\": {\"color\": \"black\", \"family\": \"Courier New, monospace\", \"size\": 14}, \"title\": {\"font\": {\"color\": \"black\", \"size\": 14}, \"text\": \"Percentage\"}}}, {\"showLink\": false, \"linkText\": \"Export to plot.ly\", \"plotlyServerURL\": \"https://plot.ly\"})});</script>"
      ],
      "text/vnd.plotly.v1+html": [
       "<div id=\"d655d7f9-c05e-4001-a087-e8279a96954f\" style=\"height: 600px; width: 800px;\" class=\"plotly-graph-div\"></div><script type=\"text/javascript\">require([\"plotly\"], function(Plotly) { window.PLOTLYENV=window.PLOTLYENV || {};window.PLOTLYENV.BASE_URL=\"https://plot.ly\";Plotly.newPlot(\"d655d7f9-c05e-4001-a087-e8279a96954f\", [{\"marker\": {\"color\": \"#0047AB\"}, \"text\": [\"100.0%\"], \"textposition\": \"auto\", \"x\": [\"0.0\"], \"y\": [100.0], \"type\": \"bar\", \"uid\": \"3637a07e-706f-4d9c-9bda-c42e2dc2a647\"}], {\"autosize\": false, \"font\": {\"color\": \"white\", \"family\": \"Courier New, monospace\", \"size\": 12}, \"height\": 600, \"title\": {\"font\": {\"color\": \"black\", \"family\": \"Courier New, monospace\", \"size\": 14}, \"text\": \"Distribution of ExerWallmotion column\"}, \"width\": 800, \"xaxis\": {\"tickfont\": {\"color\": \"black\", \"family\": \"Courier New, monospace\", \"size\": 14}}, \"yaxis\": {\"tickfont\": {\"color\": \"black\", \"family\": \"Courier New, monospace\", \"size\": 14}, \"title\": {\"font\": {\"color\": \"black\", \"size\": 14}, \"text\": \"Percentage\"}}}, {\"showLink\": false, \"linkText\": \"Export to plot.ly\", \"plotlyServerURL\": \"https://plot.ly\"})});</script>"
      ]
     },
     "metadata": {},
     "output_type": "display_data"
    },
    {
     "name": "stdout",
     "output_type": "stream",
     "text": [
      "########################################################################################\n",
      "3.0    427\n",
      "7.0    135\n",
      "6.0     28\n",
      "5.0      3\n",
      "1.0      3\n",
      "4.0      1\n",
      "2.0      1\n",
      "Name: thalassemia, dtype: int64\n",
      "\n",
      " total =  598\n",
      "\n",
      " Percentages =  [71.4  22.58  4.68  0.5   0.5   0.17  0.17]\n",
      "########################################################################################\n"
     ]
    },
    {
     "data": {
      "application/vnd.plotly.v1+json": {
       "config": {
        "linkText": "Export to plot.ly",
        "plotlyServerURL": "https://plot.ly",
        "showLink": false
       },
       "data": [
        {
         "marker": {
          "color": "#0047AB"
         },
         "text": [
          "71.39999999999999%",
          "22.58%",
          "4.68%",
          "0.5%",
          "0.5%",
          "0.16999999999999998%",
          "0.16999999999999998%"
         ],
         "textposition": "auto",
         "type": "bar",
         "uid": "b7295dd0-6ed6-4ae1-a6e6-2730b011ace2",
         "x": [
          "3.0",
          "7.0",
          "6.0",
          "5.0",
          "1.0",
          "4.0",
          "2.0"
         ],
         "y": [
          71.39999999999999,
          22.58,
          4.68,
          0.5,
          0.5,
          0.16999999999999998,
          0.16999999999999998
         ]
        }
       ],
       "layout": {
        "autosize": false,
        "font": {
         "color": "white",
         "family": "Courier New, monospace",
         "size": 12
        },
        "height": 600,
        "title": {
         "font": {
          "color": "black",
          "family": "Courier New, monospace",
          "size": 14
         },
         "text": "Distribution of thalassemia column"
        },
        "width": 800,
        "xaxis": {
         "tickfont": {
          "color": "black",
          "family": "Courier New, monospace",
          "size": 14
         }
        },
        "yaxis": {
         "tickfont": {
          "color": "black",
          "family": "Courier New, monospace",
          "size": 14
         },
         "title": {
          "font": {
           "color": "black",
           "size": 14
          },
          "text": "Percentage"
         }
        }
       }
      },
      "text/html": [
       "<div id=\"5193a0bb-6352-4751-b9d7-0b76a8fbb55d\" style=\"height: 600px; width: 800px;\" class=\"plotly-graph-div\"></div><script type=\"text/javascript\">require([\"plotly\"], function(Plotly) { window.PLOTLYENV=window.PLOTLYENV || {};window.PLOTLYENV.BASE_URL=\"https://plot.ly\";Plotly.newPlot(\"5193a0bb-6352-4751-b9d7-0b76a8fbb55d\", [{\"marker\": {\"color\": \"#0047AB\"}, \"text\": [\"71.39999999999999%\", \"22.58%\", \"4.68%\", \"0.5%\", \"0.5%\", \"0.16999999999999998%\", \"0.16999999999999998%\"], \"textposition\": \"auto\", \"x\": [\"3.0\", \"7.0\", \"6.0\", \"5.0\", \"1.0\", \"4.0\", \"2.0\"], \"y\": [71.39999999999999, 22.58, 4.68, 0.5, 0.5, 0.16999999999999998, 0.16999999999999998], \"type\": \"bar\", \"uid\": \"b7295dd0-6ed6-4ae1-a6e6-2730b011ace2\"}], {\"autosize\": false, \"font\": {\"color\": \"white\", \"family\": \"Courier New, monospace\", \"size\": 12}, \"height\": 600, \"title\": {\"font\": {\"color\": \"black\", \"family\": \"Courier New, monospace\", \"size\": 14}, \"text\": \"Distribution of thalassemia column\"}, \"width\": 800, \"xaxis\": {\"tickfont\": {\"color\": \"black\", \"family\": \"Courier New, monospace\", \"size\": 14}}, \"yaxis\": {\"tickfont\": {\"color\": \"black\", \"family\": \"Courier New, monospace\", \"size\": 14}, \"title\": {\"font\": {\"color\": \"black\", \"size\": 14}, \"text\": \"Percentage\"}}}, {\"showLink\": false, \"linkText\": \"Export to plot.ly\", \"plotlyServerURL\": \"https://plot.ly\"})});</script>"
      ],
      "text/vnd.plotly.v1+html": [
       "<div id=\"5193a0bb-6352-4751-b9d7-0b76a8fbb55d\" style=\"height: 600px; width: 800px;\" class=\"plotly-graph-div\"></div><script type=\"text/javascript\">require([\"plotly\"], function(Plotly) { window.PLOTLYENV=window.PLOTLYENV || {};window.PLOTLYENV.BASE_URL=\"https://plot.ly\";Plotly.newPlot(\"5193a0bb-6352-4751-b9d7-0b76a8fbb55d\", [{\"marker\": {\"color\": \"#0047AB\"}, \"text\": [\"71.39999999999999%\", \"22.58%\", \"4.68%\", \"0.5%\", \"0.5%\", \"0.16999999999999998%\", \"0.16999999999999998%\"], \"textposition\": \"auto\", \"x\": [\"3.0\", \"7.0\", \"6.0\", \"5.0\", \"1.0\", \"4.0\", \"2.0\"], \"y\": [71.39999999999999, 22.58, 4.68, 0.5, 0.5, 0.16999999999999998, 0.16999999999999998], \"type\": \"bar\", \"uid\": \"b7295dd0-6ed6-4ae1-a6e6-2730b011ace2\"}], {\"autosize\": false, \"font\": {\"color\": \"white\", \"family\": \"Courier New, monospace\", \"size\": 12}, \"height\": 600, \"title\": {\"font\": {\"color\": \"black\", \"family\": \"Courier New, monospace\", \"size\": 14}, \"text\": \"Distribution of thalassemia column\"}, \"width\": 800, \"xaxis\": {\"tickfont\": {\"color\": \"black\", \"family\": \"Courier New, monospace\", \"size\": 14}}, \"yaxis\": {\"tickfont\": {\"color\": \"black\", \"family\": \"Courier New, monospace\", \"size\": 14}, \"title\": {\"font\": {\"color\": \"black\", \"size\": 14}, \"text\": \"Percentage\"}}}, {\"showLink\": false, \"linkText\": \"Export to plot.ly\", \"plotlyServerURL\": \"https://plot.ly\"})});</script>"
      ]
     },
     "metadata": {},
     "output_type": "display_data"
    },
    {
     "name": "stdout",
     "output_type": "stream",
     "text": [
      "########################################################################################\n",
      "1.0      593\n",
      "2.0       35\n",
      "162.0      1\n",
      "0.0        1\n",
      "Name: LeftMaintrunk, dtype: int64\n",
      "\n",
      " total =  630\n",
      "\n",
      " Percentages =  [94.13  5.56  0.16  0.16]\n",
      "########################################################################################\n"
     ]
    },
    {
     "data": {
      "application/vnd.plotly.v1+json": {
       "config": {
        "linkText": "Export to plot.ly",
        "plotlyServerURL": "https://plot.ly",
        "showLink": false
       },
       "data": [
        {
         "marker": {
          "color": "#0047AB"
         },
         "text": [
          "94.13%",
          "5.56%",
          "0.16%",
          "0.16%"
         ],
         "textposition": "auto",
         "type": "bar",
         "uid": "ae735ed1-cc99-44b0-9578-8de571bce0b3",
         "x": [
          "1.0",
          "2.0",
          "162.0",
          "0.0"
         ],
         "y": [
          94.13,
          5.56,
          0.16,
          0.16
         ]
        }
       ],
       "layout": {
        "autosize": false,
        "font": {
         "color": "white",
         "family": "Courier New, monospace",
         "size": 12
        },
        "height": 600,
        "title": {
         "font": {
          "color": "black",
          "family": "Courier New, monospace",
          "size": 14
         },
         "text": "Distribution of LeftMaintrunk column"
        },
        "width": 800,
        "xaxis": {
         "tickfont": {
          "color": "black",
          "family": "Courier New, monospace",
          "size": 14
         }
        },
        "yaxis": {
         "tickfont": {
          "color": "black",
          "family": "Courier New, monospace",
          "size": 14
         },
         "title": {
          "font": {
           "color": "black",
           "size": 14
          },
          "text": "Percentage"
         }
        }
       }
      },
      "text/html": [
       "<div id=\"2f919880-92b3-4b0f-a6b9-71a3e1df4327\" style=\"height: 600px; width: 800px;\" class=\"plotly-graph-div\"></div><script type=\"text/javascript\">require([\"plotly\"], function(Plotly) { window.PLOTLYENV=window.PLOTLYENV || {};window.PLOTLYENV.BASE_URL=\"https://plot.ly\";Plotly.newPlot(\"2f919880-92b3-4b0f-a6b9-71a3e1df4327\", [{\"marker\": {\"color\": \"#0047AB\"}, \"text\": [\"94.13%\", \"5.56%\", \"0.16%\", \"0.16%\"], \"textposition\": \"auto\", \"x\": [\"1.0\", \"2.0\", \"162.0\", \"0.0\"], \"y\": [94.13, 5.56, 0.16, 0.16], \"type\": \"bar\", \"uid\": \"ae735ed1-cc99-44b0-9578-8de571bce0b3\"}], {\"autosize\": false, \"font\": {\"color\": \"white\", \"family\": \"Courier New, monospace\", \"size\": 12}, \"height\": 600, \"title\": {\"font\": {\"color\": \"black\", \"family\": \"Courier New, monospace\", \"size\": 14}, \"text\": \"Distribution of LeftMaintrunk column\"}, \"width\": 800, \"xaxis\": {\"tickfont\": {\"color\": \"black\", \"family\": \"Courier New, monospace\", \"size\": 14}}, \"yaxis\": {\"tickfont\": {\"color\": \"black\", \"family\": \"Courier New, monospace\", \"size\": 14}, \"title\": {\"font\": {\"color\": \"black\", \"size\": 14}, \"text\": \"Percentage\"}}}, {\"showLink\": false, \"linkText\": \"Export to plot.ly\", \"plotlyServerURL\": \"https://plot.ly\"})});</script>"
      ],
      "text/vnd.plotly.v1+html": [
       "<div id=\"2f919880-92b3-4b0f-a6b9-71a3e1df4327\" style=\"height: 600px; width: 800px;\" class=\"plotly-graph-div\"></div><script type=\"text/javascript\">require([\"plotly\"], function(Plotly) { window.PLOTLYENV=window.PLOTLYENV || {};window.PLOTLYENV.BASE_URL=\"https://plot.ly\";Plotly.newPlot(\"2f919880-92b3-4b0f-a6b9-71a3e1df4327\", [{\"marker\": {\"color\": \"#0047AB\"}, \"text\": [\"94.13%\", \"5.56%\", \"0.16%\", \"0.16%\"], \"textposition\": \"auto\", \"x\": [\"1.0\", \"2.0\", \"162.0\", \"0.0\"], \"y\": [94.13, 5.56, 0.16, 0.16], \"type\": \"bar\", \"uid\": \"ae735ed1-cc99-44b0-9578-8de571bce0b3\"}], {\"autosize\": false, \"font\": {\"color\": \"white\", \"family\": \"Courier New, monospace\", \"size\": 12}, \"height\": 600, \"title\": {\"font\": {\"color\": \"black\", \"family\": \"Courier New, monospace\", \"size\": 14}, \"text\": \"Distribution of LeftMaintrunk column\"}, \"width\": 800, \"xaxis\": {\"tickfont\": {\"color\": \"black\", \"family\": \"Courier New, monospace\", \"size\": 14}}, \"yaxis\": {\"tickfont\": {\"color\": \"black\", \"family\": \"Courier New, monospace\", \"size\": 14}, \"title\": {\"font\": {\"color\": \"black\", \"size\": 14}, \"text\": \"Percentage\"}}}, {\"showLink\": false, \"linkText\": \"Export to plot.ly\", \"plotlyServerURL\": \"https://plot.ly\"})});</script>"
      ]
     },
     "metadata": {},
     "output_type": "display_data"
    },
    {
     "name": "stdout",
     "output_type": "stream",
     "text": [
      "########################################################################################\n",
      "1.0    472\n",
      "2.0    167\n",
      "Name: ladproximation, dtype: int64\n",
      "\n",
      " total =  639\n",
      "\n",
      " Percentages =  [73.87 26.13]\n",
      "########################################################################################\n"
     ]
    },
    {
     "data": {
      "application/vnd.plotly.v1+json": {
       "config": {
        "linkText": "Export to plot.ly",
        "plotlyServerURL": "https://plot.ly",
        "showLink": false
       },
       "data": [
        {
         "marker": {
          "color": "#0047AB"
         },
         "text": [
          "73.87%",
          "26.13%"
         ],
         "textposition": "auto",
         "type": "bar",
         "uid": "3f4afdd7-11d9-4dfb-801f-950dcbef874f",
         "x": [
          "1.0",
          "2.0"
         ],
         "y": [
          73.87,
          26.13
         ]
        }
       ],
       "layout": {
        "autosize": false,
        "font": {
         "color": "white",
         "family": "Courier New, monospace",
         "size": 12
        },
        "height": 600,
        "title": {
         "font": {
          "color": "black",
          "family": "Courier New, monospace",
          "size": 14
         },
         "text": "Distribution of ladproximation column"
        },
        "width": 800,
        "xaxis": {
         "tickfont": {
          "color": "black",
          "family": "Courier New, monospace",
          "size": 14
         }
        },
        "yaxis": {
         "tickfont": {
          "color": "black",
          "family": "Courier New, monospace",
          "size": 14
         },
         "title": {
          "font": {
           "color": "black",
           "size": 14
          },
          "text": "Percentage"
         }
        }
       }
      },
      "text/html": [
       "<div id=\"6088f5c9-c242-4a40-9d2e-9510f6bdc76f\" style=\"height: 600px; width: 800px;\" class=\"plotly-graph-div\"></div><script type=\"text/javascript\">require([\"plotly\"], function(Plotly) { window.PLOTLYENV=window.PLOTLYENV || {};window.PLOTLYENV.BASE_URL=\"https://plot.ly\";Plotly.newPlot(\"6088f5c9-c242-4a40-9d2e-9510f6bdc76f\", [{\"marker\": {\"color\": \"#0047AB\"}, \"text\": [\"73.87%\", \"26.13%\"], \"textposition\": \"auto\", \"x\": [\"1.0\", \"2.0\"], \"y\": [73.87, 26.13], \"type\": \"bar\", \"uid\": \"3f4afdd7-11d9-4dfb-801f-950dcbef874f\"}], {\"autosize\": false, \"font\": {\"color\": \"white\", \"family\": \"Courier New, monospace\", \"size\": 12}, \"height\": 600, \"title\": {\"font\": {\"color\": \"black\", \"family\": \"Courier New, monospace\", \"size\": 14}, \"text\": \"Distribution of ladproximation column\"}, \"width\": 800, \"xaxis\": {\"tickfont\": {\"color\": \"black\", \"family\": \"Courier New, monospace\", \"size\": 14}}, \"yaxis\": {\"tickfont\": {\"color\": \"black\", \"family\": \"Courier New, monospace\", \"size\": 14}, \"title\": {\"font\": {\"color\": \"black\", \"size\": 14}, \"text\": \"Percentage\"}}}, {\"showLink\": false, \"linkText\": \"Export to plot.ly\", \"plotlyServerURL\": \"https://plot.ly\"})});</script>"
      ],
      "text/vnd.plotly.v1+html": [
       "<div id=\"6088f5c9-c242-4a40-9d2e-9510f6bdc76f\" style=\"height: 600px; width: 800px;\" class=\"plotly-graph-div\"></div><script type=\"text/javascript\">require([\"plotly\"], function(Plotly) { window.PLOTLYENV=window.PLOTLYENV || {};window.PLOTLYENV.BASE_URL=\"https://plot.ly\";Plotly.newPlot(\"6088f5c9-c242-4a40-9d2e-9510f6bdc76f\", [{\"marker\": {\"color\": \"#0047AB\"}, \"text\": [\"73.87%\", \"26.13%\"], \"textposition\": \"auto\", \"x\": [\"1.0\", \"2.0\"], \"y\": [73.87, 26.13], \"type\": \"bar\", \"uid\": \"3f4afdd7-11d9-4dfb-801f-950dcbef874f\"}], {\"autosize\": false, \"font\": {\"color\": \"white\", \"family\": \"Courier New, monospace\", \"size\": 12}, \"height\": 600, \"title\": {\"font\": {\"color\": \"black\", \"family\": \"Courier New, monospace\", \"size\": 14}, \"text\": \"Distribution of ladproximation column\"}, \"width\": 800, \"xaxis\": {\"tickfont\": {\"color\": \"black\", \"family\": \"Courier New, monospace\", \"size\": 14}}, \"yaxis\": {\"tickfont\": {\"color\": \"black\", \"family\": \"Courier New, monospace\", \"size\": 14}, \"title\": {\"font\": {\"color\": \"black\", \"size\": 14}, \"text\": \"Percentage\"}}}, {\"showLink\": false, \"linkText\": \"Export to plot.ly\", \"plotlyServerURL\": \"https://plot.ly\"})});</script>"
      ]
     },
     "metadata": {},
     "output_type": "display_data"
    },
    {
     "name": "stdout",
     "output_type": "stream",
     "text": [
      "########################################################################################\n",
      "1.0    514\n",
      "2.0    123\n",
      "Name: laddistance, dtype: int64\n",
      "\n",
      " total =  637\n",
      "\n",
      " Percentages =  [80.69 19.31]\n",
      "########################################################################################\n"
     ]
    },
    {
     "data": {
      "application/vnd.plotly.v1+json": {
       "config": {
        "linkText": "Export to plot.ly",
        "plotlyServerURL": "https://plot.ly",
        "showLink": false
       },
       "data": [
        {
         "marker": {
          "color": "#0047AB"
         },
         "text": [
          "80.69%",
          "19.31%"
         ],
         "textposition": "auto",
         "type": "bar",
         "uid": "e167a711-eb07-485d-a78b-c7354b62e2db",
         "x": [
          "1.0",
          "2.0"
         ],
         "y": [
          80.69,
          19.31
         ]
        }
       ],
       "layout": {
        "autosize": false,
        "font": {
         "color": "white",
         "family": "Courier New, monospace",
         "size": 12
        },
        "height": 600,
        "title": {
         "font": {
          "color": "black",
          "family": "Courier New, monospace",
          "size": 14
         },
         "text": "Distribution of laddistance column"
        },
        "width": 800,
        "xaxis": {
         "tickfont": {
          "color": "black",
          "family": "Courier New, monospace",
          "size": 14
         }
        },
        "yaxis": {
         "tickfont": {
          "color": "black",
          "family": "Courier New, monospace",
          "size": 14
         },
         "title": {
          "font": {
           "color": "black",
           "size": 14
          },
          "text": "Percentage"
         }
        }
       }
      },
      "text/html": [
       "<div id=\"c8872f40-d792-44d2-90be-13341493b7e5\" style=\"height: 600px; width: 800px;\" class=\"plotly-graph-div\"></div><script type=\"text/javascript\">require([\"plotly\"], function(Plotly) { window.PLOTLYENV=window.PLOTLYENV || {};window.PLOTLYENV.BASE_URL=\"https://plot.ly\";Plotly.newPlot(\"c8872f40-d792-44d2-90be-13341493b7e5\", [{\"marker\": {\"color\": \"#0047AB\"}, \"text\": [\"80.69%\", \"19.31%\"], \"textposition\": \"auto\", \"x\": [\"1.0\", \"2.0\"], \"y\": [80.69, 19.31], \"type\": \"bar\", \"uid\": \"e167a711-eb07-485d-a78b-c7354b62e2db\"}], {\"autosize\": false, \"font\": {\"color\": \"white\", \"family\": \"Courier New, monospace\", \"size\": 12}, \"height\": 600, \"title\": {\"font\": {\"color\": \"black\", \"family\": \"Courier New, monospace\", \"size\": 14}, \"text\": \"Distribution of laddistance column\"}, \"width\": 800, \"xaxis\": {\"tickfont\": {\"color\": \"black\", \"family\": \"Courier New, monospace\", \"size\": 14}}, \"yaxis\": {\"tickfont\": {\"color\": \"black\", \"family\": \"Courier New, monospace\", \"size\": 14}, \"title\": {\"font\": {\"color\": \"black\", \"size\": 14}, \"text\": \"Percentage\"}}}, {\"showLink\": false, \"linkText\": \"Export to plot.ly\", \"plotlyServerURL\": \"https://plot.ly\"})});</script>"
      ],
      "text/vnd.plotly.v1+html": [
       "<div id=\"c8872f40-d792-44d2-90be-13341493b7e5\" style=\"height: 600px; width: 800px;\" class=\"plotly-graph-div\"></div><script type=\"text/javascript\">require([\"plotly\"], function(Plotly) { window.PLOTLYENV=window.PLOTLYENV || {};window.PLOTLYENV.BASE_URL=\"https://plot.ly\";Plotly.newPlot(\"c8872f40-d792-44d2-90be-13341493b7e5\", [{\"marker\": {\"color\": \"#0047AB\"}, \"text\": [\"80.69%\", \"19.31%\"], \"textposition\": \"auto\", \"x\": [\"1.0\", \"2.0\"], \"y\": [80.69, 19.31], \"type\": \"bar\", \"uid\": \"e167a711-eb07-485d-a78b-c7354b62e2db\"}], {\"autosize\": false, \"font\": {\"color\": \"white\", \"family\": \"Courier New, monospace\", \"size\": 12}, \"height\": 600, \"title\": {\"font\": {\"color\": \"black\", \"family\": \"Courier New, monospace\", \"size\": 14}, \"text\": \"Distribution of laddistance column\"}, \"width\": 800, \"xaxis\": {\"tickfont\": {\"color\": \"black\", \"family\": \"Courier New, monospace\", \"size\": 14}}, \"yaxis\": {\"tickfont\": {\"color\": \"black\", \"family\": \"Courier New, monospace\", \"size\": 14}, \"title\": {\"font\": {\"color\": \"black\", \"size\": 14}, \"text\": \"Percentage\"}}}, {\"showLink\": false, \"linkText\": \"Export to plot.ly\", \"plotlyServerURL\": \"https://plot.ly\"})});</script>"
      ]
     },
     "metadata": {},
     "output_type": "display_data"
    },
    {
     "name": "stdout",
     "output_type": "stream",
     "text": [
      "########################################################################################\n",
      "1.0    492\n",
      "2.0    146\n",
      "Name: cxmain, dtype: int64\n",
      "\n",
      " total =  638\n",
      "\n",
      " Percentages =  [77.12 22.88]\n",
      "########################################################################################\n"
     ]
    },
    {
     "data": {
      "application/vnd.plotly.v1+json": {
       "config": {
        "linkText": "Export to plot.ly",
        "plotlyServerURL": "https://plot.ly",
        "showLink": false
       },
       "data": [
        {
         "marker": {
          "color": "#0047AB"
         },
         "text": [
          "77.12%",
          "22.88%"
         ],
         "textposition": "auto",
         "type": "bar",
         "uid": "63f0d0b0-2603-4423-85b7-fcd922d27210",
         "x": [
          "1.0",
          "2.0"
         ],
         "y": [
          77.12,
          22.88
         ]
        }
       ],
       "layout": {
        "autosize": false,
        "font": {
         "color": "white",
         "family": "Courier New, monospace",
         "size": 12
        },
        "height": 600,
        "title": {
         "font": {
          "color": "black",
          "family": "Courier New, monospace",
          "size": 14
         },
         "text": "Distribution of cxmain column"
        },
        "width": 800,
        "xaxis": {
         "tickfont": {
          "color": "black",
          "family": "Courier New, monospace",
          "size": 14
         }
        },
        "yaxis": {
         "tickfont": {
          "color": "black",
          "family": "Courier New, monospace",
          "size": 14
         },
         "title": {
          "font": {
           "color": "black",
           "size": 14
          },
          "text": "Percentage"
         }
        }
       }
      },
      "text/html": [
       "<div id=\"a2fbad88-873e-4c28-a483-3319a98e9ec0\" style=\"height: 600px; width: 800px;\" class=\"plotly-graph-div\"></div><script type=\"text/javascript\">require([\"plotly\"], function(Plotly) { window.PLOTLYENV=window.PLOTLYENV || {};window.PLOTLYENV.BASE_URL=\"https://plot.ly\";Plotly.newPlot(\"a2fbad88-873e-4c28-a483-3319a98e9ec0\", [{\"marker\": {\"color\": \"#0047AB\"}, \"text\": [\"77.12%\", \"22.88%\"], \"textposition\": \"auto\", \"x\": [\"1.0\", \"2.0\"], \"y\": [77.12, 22.88], \"type\": \"bar\", \"uid\": \"63f0d0b0-2603-4423-85b7-fcd922d27210\"}], {\"autosize\": false, \"font\": {\"color\": \"white\", \"family\": \"Courier New, monospace\", \"size\": 12}, \"height\": 600, \"title\": {\"font\": {\"color\": \"black\", \"family\": \"Courier New, monospace\", \"size\": 14}, \"text\": \"Distribution of cxmain column\"}, \"width\": 800, \"xaxis\": {\"tickfont\": {\"color\": \"black\", \"family\": \"Courier New, monospace\", \"size\": 14}}, \"yaxis\": {\"tickfont\": {\"color\": \"black\", \"family\": \"Courier New, monospace\", \"size\": 14}, \"title\": {\"font\": {\"color\": \"black\", \"size\": 14}, \"text\": \"Percentage\"}}}, {\"showLink\": false, \"linkText\": \"Export to plot.ly\", \"plotlyServerURL\": \"https://plot.ly\"})});</script>"
      ],
      "text/vnd.plotly.v1+html": [
       "<div id=\"a2fbad88-873e-4c28-a483-3319a98e9ec0\" style=\"height: 600px; width: 800px;\" class=\"plotly-graph-div\"></div><script type=\"text/javascript\">require([\"plotly\"], function(Plotly) { window.PLOTLYENV=window.PLOTLYENV || {};window.PLOTLYENV.BASE_URL=\"https://plot.ly\";Plotly.newPlot(\"a2fbad88-873e-4c28-a483-3319a98e9ec0\", [{\"marker\": {\"color\": \"#0047AB\"}, \"text\": [\"77.12%\", \"22.88%\"], \"textposition\": \"auto\", \"x\": [\"1.0\", \"2.0\"], \"y\": [77.12, 22.88], \"type\": \"bar\", \"uid\": \"63f0d0b0-2603-4423-85b7-fcd922d27210\"}], {\"autosize\": false, \"font\": {\"color\": \"white\", \"family\": \"Courier New, monospace\", \"size\": 12}, \"height\": 600, \"title\": {\"font\": {\"color\": \"black\", \"family\": \"Courier New, monospace\", \"size\": 14}, \"text\": \"Distribution of cxmain column\"}, \"width\": 800, \"xaxis\": {\"tickfont\": {\"color\": \"black\", \"family\": \"Courier New, monospace\", \"size\": 14}}, \"yaxis\": {\"tickfont\": {\"color\": \"black\", \"family\": \"Courier New, monospace\", \"size\": 14}, \"title\": {\"font\": {\"color\": \"black\", \"size\": 14}, \"text\": \"Percentage\"}}}, {\"showLink\": false, \"linkText\": \"Export to plot.ly\", \"plotlyServerURL\": \"https://plot.ly\"})});</script>"
      ]
     },
     "metadata": {},
     "output_type": "display_data"
    },
    {
     "name": "stdout",
     "output_type": "stream",
     "text": [
      "########################################################################################\n",
      "1.0    559\n",
      "2.0     28\n",
      "Name: ramus, dtype: int64\n",
      "\n",
      " total =  587\n",
      "\n",
      " Percentages =  [95.23  4.77]\n",
      "########################################################################################\n"
     ]
    },
    {
     "data": {
      "application/vnd.plotly.v1+json": {
       "config": {
        "linkText": "Export to plot.ly",
        "plotlyServerURL": "https://plot.ly",
        "showLink": false
       },
       "data": [
        {
         "marker": {
          "color": "#0047AB"
         },
         "text": [
          "95.23%",
          "4.77%"
         ],
         "textposition": "auto",
         "type": "bar",
         "uid": "0b131817-9a0d-4d5d-a932-0bfb79faebde",
         "x": [
          "1.0",
          "2.0"
         ],
         "y": [
          95.23,
          4.77
         ]
        }
       ],
       "layout": {
        "autosize": false,
        "font": {
         "color": "white",
         "family": "Courier New, monospace",
         "size": 12
        },
        "height": 600,
        "title": {
         "font": {
          "color": "black",
          "family": "Courier New, monospace",
          "size": 14
         },
         "text": "Distribution of ramus column"
        },
        "width": 800,
        "xaxis": {
         "tickfont": {
          "color": "black",
          "family": "Courier New, monospace",
          "size": 14
         }
        },
        "yaxis": {
         "tickfont": {
          "color": "black",
          "family": "Courier New, monospace",
          "size": 14
         },
         "title": {
          "font": {
           "color": "black",
           "size": 14
          },
          "text": "Percentage"
         }
        }
       }
      },
      "text/html": [
       "<div id=\"2a531abb-3cff-476d-ade6-46a34e72f7c8\" style=\"height: 600px; width: 800px;\" class=\"plotly-graph-div\"></div><script type=\"text/javascript\">require([\"plotly\"], function(Plotly) { window.PLOTLYENV=window.PLOTLYENV || {};window.PLOTLYENV.BASE_URL=\"https://plot.ly\";Plotly.newPlot(\"2a531abb-3cff-476d-ade6-46a34e72f7c8\", [{\"marker\": {\"color\": \"#0047AB\"}, \"text\": [\"95.23%\", \"4.77%\"], \"textposition\": \"auto\", \"x\": [\"1.0\", \"2.0\"], \"y\": [95.23, 4.77], \"type\": \"bar\", \"uid\": \"0b131817-9a0d-4d5d-a932-0bfb79faebde\"}], {\"autosize\": false, \"font\": {\"color\": \"white\", \"family\": \"Courier New, monospace\", \"size\": 12}, \"height\": 600, \"title\": {\"font\": {\"color\": \"black\", \"family\": \"Courier New, monospace\", \"size\": 14}, \"text\": \"Distribution of ramus column\"}, \"width\": 800, \"xaxis\": {\"tickfont\": {\"color\": \"black\", \"family\": \"Courier New, monospace\", \"size\": 14}}, \"yaxis\": {\"tickfont\": {\"color\": \"black\", \"family\": \"Courier New, monospace\", \"size\": 14}, \"title\": {\"font\": {\"color\": \"black\", \"size\": 14}, \"text\": \"Percentage\"}}}, {\"showLink\": false, \"linkText\": \"Export to plot.ly\", \"plotlyServerURL\": \"https://plot.ly\"})});</script>"
      ],
      "text/vnd.plotly.v1+html": [
       "<div id=\"2a531abb-3cff-476d-ade6-46a34e72f7c8\" style=\"height: 600px; width: 800px;\" class=\"plotly-graph-div\"></div><script type=\"text/javascript\">require([\"plotly\"], function(Plotly) { window.PLOTLYENV=window.PLOTLYENV || {};window.PLOTLYENV.BASE_URL=\"https://plot.ly\";Plotly.newPlot(\"2a531abb-3cff-476d-ade6-46a34e72f7c8\", [{\"marker\": {\"color\": \"#0047AB\"}, \"text\": [\"95.23%\", \"4.77%\"], \"textposition\": \"auto\", \"x\": [\"1.0\", \"2.0\"], \"y\": [95.23, 4.77], \"type\": \"bar\", \"uid\": \"0b131817-9a0d-4d5d-a932-0bfb79faebde\"}], {\"autosize\": false, \"font\": {\"color\": \"white\", \"family\": \"Courier New, monospace\", \"size\": 12}, \"height\": 600, \"title\": {\"font\": {\"color\": \"black\", \"family\": \"Courier New, monospace\", \"size\": 14}, \"text\": \"Distribution of ramus column\"}, \"width\": 800, \"xaxis\": {\"tickfont\": {\"color\": \"black\", \"family\": \"Courier New, monospace\", \"size\": 14}}, \"yaxis\": {\"tickfont\": {\"color\": \"black\", \"family\": \"Courier New, monospace\", \"size\": 14}, \"title\": {\"font\": {\"color\": \"black\", \"size\": 14}, \"text\": \"Percentage\"}}}, {\"showLink\": false, \"linkText\": \"Export to plot.ly\", \"plotlyServerURL\": \"https://plot.ly\"})});</script>"
      ]
     },
     "metadata": {},
     "output_type": "display_data"
    },
    {
     "name": "stdout",
     "output_type": "stream",
     "text": [
      "########################################################################################\n",
      "1.0    549\n",
      "2.0     88\n",
      "Name: obtuseMarginal1, dtype: int64\n",
      "\n",
      " total =  637\n",
      "\n",
      " Percentages =  [86.19 13.81]\n",
      "########################################################################################\n"
     ]
    },
    {
     "data": {
      "application/vnd.plotly.v1+json": {
       "config": {
        "linkText": "Export to plot.ly",
        "plotlyServerURL": "https://plot.ly",
        "showLink": false
       },
       "data": [
        {
         "marker": {
          "color": "#0047AB"
         },
         "text": [
          "86.19%",
          "13.81%"
         ],
         "textposition": "auto",
         "type": "bar",
         "uid": "362487df-e176-4f28-95cd-c319d7660ae5",
         "x": [
          "1.0",
          "2.0"
         ],
         "y": [
          86.19,
          13.81
         ]
        }
       ],
       "layout": {
        "autosize": false,
        "font": {
         "color": "white",
         "family": "Courier New, monospace",
         "size": 12
        },
        "height": 600,
        "title": {
         "font": {
          "color": "black",
          "family": "Courier New, monospace",
          "size": 14
         },
         "text": "Distribution of obtuseMarginal1 column"
        },
        "width": 800,
        "xaxis": {
         "tickfont": {
          "color": "black",
          "family": "Courier New, monospace",
          "size": 14
         }
        },
        "yaxis": {
         "tickfont": {
          "color": "black",
          "family": "Courier New, monospace",
          "size": 14
         },
         "title": {
          "font": {
           "color": "black",
           "size": 14
          },
          "text": "Percentage"
         }
        }
       }
      },
      "text/html": [
       "<div id=\"a383641b-e8d0-454e-96ef-b7fa2a7eb27a\" style=\"height: 600px; width: 800px;\" class=\"plotly-graph-div\"></div><script type=\"text/javascript\">require([\"plotly\"], function(Plotly) { window.PLOTLYENV=window.PLOTLYENV || {};window.PLOTLYENV.BASE_URL=\"https://plot.ly\";Plotly.newPlot(\"a383641b-e8d0-454e-96ef-b7fa2a7eb27a\", [{\"marker\": {\"color\": \"#0047AB\"}, \"text\": [\"86.19%\", \"13.81%\"], \"textposition\": \"auto\", \"x\": [\"1.0\", \"2.0\"], \"y\": [86.19, 13.81], \"type\": \"bar\", \"uid\": \"362487df-e176-4f28-95cd-c319d7660ae5\"}], {\"autosize\": false, \"font\": {\"color\": \"white\", \"family\": \"Courier New, monospace\", \"size\": 12}, \"height\": 600, \"title\": {\"font\": {\"color\": \"black\", \"family\": \"Courier New, monospace\", \"size\": 14}, \"text\": \"Distribution of obtuseMarginal1 column\"}, \"width\": 800, \"xaxis\": {\"tickfont\": {\"color\": \"black\", \"family\": \"Courier New, monospace\", \"size\": 14}}, \"yaxis\": {\"tickfont\": {\"color\": \"black\", \"family\": \"Courier New, monospace\", \"size\": 14}, \"title\": {\"font\": {\"color\": \"black\", \"size\": 14}, \"text\": \"Percentage\"}}}, {\"showLink\": false, \"linkText\": \"Export to plot.ly\", \"plotlyServerURL\": \"https://plot.ly\"})});</script>"
      ],
      "text/vnd.plotly.v1+html": [
       "<div id=\"a383641b-e8d0-454e-96ef-b7fa2a7eb27a\" style=\"height: 600px; width: 800px;\" class=\"plotly-graph-div\"></div><script type=\"text/javascript\">require([\"plotly\"], function(Plotly) { window.PLOTLYENV=window.PLOTLYENV || {};window.PLOTLYENV.BASE_URL=\"https://plot.ly\";Plotly.newPlot(\"a383641b-e8d0-454e-96ef-b7fa2a7eb27a\", [{\"marker\": {\"color\": \"#0047AB\"}, \"text\": [\"86.19%\", \"13.81%\"], \"textposition\": \"auto\", \"x\": [\"1.0\", \"2.0\"], \"y\": [86.19, 13.81], \"type\": \"bar\", \"uid\": \"362487df-e176-4f28-95cd-c319d7660ae5\"}], {\"autosize\": false, \"font\": {\"color\": \"white\", \"family\": \"Courier New, monospace\", \"size\": 12}, \"height\": 600, \"title\": {\"font\": {\"color\": \"black\", \"family\": \"Courier New, monospace\", \"size\": 14}, \"text\": \"Distribution of obtuseMarginal1 column\"}, \"width\": 800, \"xaxis\": {\"tickfont\": {\"color\": \"black\", \"family\": \"Courier New, monospace\", \"size\": 14}}, \"yaxis\": {\"tickfont\": {\"color\": \"black\", \"family\": \"Courier New, monospace\", \"size\": 14}, \"title\": {\"font\": {\"color\": \"black\", \"size\": 14}, \"text\": \"Percentage\"}}}, {\"showLink\": false, \"linkText\": \"Export to plot.ly\", \"plotlyServerURL\": \"https://plot.ly\"})});</script>"
      ]
     },
     "metadata": {},
     "output_type": "display_data"
    },
    {
     "name": "stdout",
     "output_type": "stream",
     "text": [
      "########################################################################################\n",
      "1.0    570\n",
      "2.0     16\n",
      "Name: obtuseMarginal2, dtype: int64\n",
      "\n",
      " total =  586\n",
      "\n",
      " Percentages =  [97.27  2.73]\n",
      "########################################################################################\n"
     ]
    },
    {
     "data": {
      "application/vnd.plotly.v1+json": {
       "config": {
        "linkText": "Export to plot.ly",
        "plotlyServerURL": "https://plot.ly",
        "showLink": false
       },
       "data": [
        {
         "marker": {
          "color": "#0047AB"
         },
         "text": [
          "97.27%",
          "2.73%"
         ],
         "textposition": "auto",
         "type": "bar",
         "uid": "9e5c660e-4f00-4fc6-a9cb-9974b23648ca",
         "x": [
          "1.0",
          "2.0"
         ],
         "y": [
          97.27,
          2.73
         ]
        }
       ],
       "layout": {
        "autosize": false,
        "font": {
         "color": "white",
         "family": "Courier New, monospace",
         "size": 12
        },
        "height": 600,
        "title": {
         "font": {
          "color": "black",
          "family": "Courier New, monospace",
          "size": 14
         },
         "text": "Distribution of obtuseMarginal2 column"
        },
        "width": 800,
        "xaxis": {
         "tickfont": {
          "color": "black",
          "family": "Courier New, monospace",
          "size": 14
         }
        },
        "yaxis": {
         "tickfont": {
          "color": "black",
          "family": "Courier New, monospace",
          "size": 14
         },
         "title": {
          "font": {
           "color": "black",
           "size": 14
          },
          "text": "Percentage"
         }
        }
       }
      },
      "text/html": [
       "<div id=\"2f06c612-d2f3-4d48-98fb-704b8fce50da\" style=\"height: 600px; width: 800px;\" class=\"plotly-graph-div\"></div><script type=\"text/javascript\">require([\"plotly\"], function(Plotly) { window.PLOTLYENV=window.PLOTLYENV || {};window.PLOTLYENV.BASE_URL=\"https://plot.ly\";Plotly.newPlot(\"2f06c612-d2f3-4d48-98fb-704b8fce50da\", [{\"marker\": {\"color\": \"#0047AB\"}, \"text\": [\"97.27%\", \"2.73%\"], \"textposition\": \"auto\", \"x\": [\"1.0\", \"2.0\"], \"y\": [97.27, 2.73], \"type\": \"bar\", \"uid\": \"9e5c660e-4f00-4fc6-a9cb-9974b23648ca\"}], {\"autosize\": false, \"font\": {\"color\": \"white\", \"family\": \"Courier New, monospace\", \"size\": 12}, \"height\": 600, \"title\": {\"font\": {\"color\": \"black\", \"family\": \"Courier New, monospace\", \"size\": 14}, \"text\": \"Distribution of obtuseMarginal2 column\"}, \"width\": 800, \"xaxis\": {\"tickfont\": {\"color\": \"black\", \"family\": \"Courier New, monospace\", \"size\": 14}}, \"yaxis\": {\"tickfont\": {\"color\": \"black\", \"family\": \"Courier New, monospace\", \"size\": 14}, \"title\": {\"font\": {\"color\": \"black\", \"size\": 14}, \"text\": \"Percentage\"}}}, {\"showLink\": false, \"linkText\": \"Export to plot.ly\", \"plotlyServerURL\": \"https://plot.ly\"})});</script>"
      ],
      "text/vnd.plotly.v1+html": [
       "<div id=\"2f06c612-d2f3-4d48-98fb-704b8fce50da\" style=\"height: 600px; width: 800px;\" class=\"plotly-graph-div\"></div><script type=\"text/javascript\">require([\"plotly\"], function(Plotly) { window.PLOTLYENV=window.PLOTLYENV || {};window.PLOTLYENV.BASE_URL=\"https://plot.ly\";Plotly.newPlot(\"2f06c612-d2f3-4d48-98fb-704b8fce50da\", [{\"marker\": {\"color\": \"#0047AB\"}, \"text\": [\"97.27%\", \"2.73%\"], \"textposition\": \"auto\", \"x\": [\"1.0\", \"2.0\"], \"y\": [97.27, 2.73], \"type\": \"bar\", \"uid\": \"9e5c660e-4f00-4fc6-a9cb-9974b23648ca\"}], {\"autosize\": false, \"font\": {\"color\": \"white\", \"family\": \"Courier New, monospace\", \"size\": 12}, \"height\": 600, \"title\": {\"font\": {\"color\": \"black\", \"family\": \"Courier New, monospace\", \"size\": 14}, \"text\": \"Distribution of obtuseMarginal2 column\"}, \"width\": 800, \"xaxis\": {\"tickfont\": {\"color\": \"black\", \"family\": \"Courier New, monospace\", \"size\": 14}}, \"yaxis\": {\"tickfont\": {\"color\": \"black\", \"family\": \"Courier New, monospace\", \"size\": 14}, \"title\": {\"font\": {\"color\": \"black\", \"size\": 14}, \"text\": \"Percentage\"}}}, {\"showLink\": false, \"linkText\": \"Export to plot.ly\", \"plotlyServerURL\": \"https://plot.ly\"})});</script>"
      ]
     },
     "metadata": {},
     "output_type": "display_data"
    },
    {
     "name": "stdout",
     "output_type": "stream",
     "text": [
      "########################################################################################\n",
      "1.0    471\n",
      "2.0    166\n",
      "Name: rcaproximation, dtype: int64\n",
      "\n",
      " total =  637\n",
      "\n",
      " Percentages =  [73.94 26.06]\n",
      "########################################################################################\n"
     ]
    },
    {
     "data": {
      "application/vnd.plotly.v1+json": {
       "config": {
        "linkText": "Export to plot.ly",
        "plotlyServerURL": "https://plot.ly",
        "showLink": false
       },
       "data": [
        {
         "marker": {
          "color": "#0047AB"
         },
         "text": [
          "73.94%",
          "26.06%"
         ],
         "textposition": "auto",
         "type": "bar",
         "uid": "b7d15167-03ff-4759-81af-19ea071e68a7",
         "x": [
          "1.0",
          "2.0"
         ],
         "y": [
          73.94,
          26.06
         ]
        }
       ],
       "layout": {
        "autosize": false,
        "font": {
         "color": "white",
         "family": "Courier New, monospace",
         "size": 12
        },
        "height": 600,
        "title": {
         "font": {
          "color": "black",
          "family": "Courier New, monospace",
          "size": 14
         },
         "text": "Distribution of rcaproximation column"
        },
        "width": 800,
        "xaxis": {
         "tickfont": {
          "color": "black",
          "family": "Courier New, monospace",
          "size": 14
         }
        },
        "yaxis": {
         "tickfont": {
          "color": "black",
          "family": "Courier New, monospace",
          "size": 14
         },
         "title": {
          "font": {
           "color": "black",
           "size": 14
          },
          "text": "Percentage"
         }
        }
       }
      },
      "text/html": [
       "<div id=\"69849b9c-2351-444e-8bbc-61276e614f13\" style=\"height: 600px; width: 800px;\" class=\"plotly-graph-div\"></div><script type=\"text/javascript\">require([\"plotly\"], function(Plotly) { window.PLOTLYENV=window.PLOTLYENV || {};window.PLOTLYENV.BASE_URL=\"https://plot.ly\";Plotly.newPlot(\"69849b9c-2351-444e-8bbc-61276e614f13\", [{\"marker\": {\"color\": \"#0047AB\"}, \"text\": [\"73.94%\", \"26.06%\"], \"textposition\": \"auto\", \"x\": [\"1.0\", \"2.0\"], \"y\": [73.94, 26.06], \"type\": \"bar\", \"uid\": \"b7d15167-03ff-4759-81af-19ea071e68a7\"}], {\"autosize\": false, \"font\": {\"color\": \"white\", \"family\": \"Courier New, monospace\", \"size\": 12}, \"height\": 600, \"title\": {\"font\": {\"color\": \"black\", \"family\": \"Courier New, monospace\", \"size\": 14}, \"text\": \"Distribution of rcaproximation column\"}, \"width\": 800, \"xaxis\": {\"tickfont\": {\"color\": \"black\", \"family\": \"Courier New, monospace\", \"size\": 14}}, \"yaxis\": {\"tickfont\": {\"color\": \"black\", \"family\": \"Courier New, monospace\", \"size\": 14}, \"title\": {\"font\": {\"color\": \"black\", \"size\": 14}, \"text\": \"Percentage\"}}}, {\"showLink\": false, \"linkText\": \"Export to plot.ly\", \"plotlyServerURL\": \"https://plot.ly\"})});</script>"
      ],
      "text/vnd.plotly.v1+html": [
       "<div id=\"69849b9c-2351-444e-8bbc-61276e614f13\" style=\"height: 600px; width: 800px;\" class=\"plotly-graph-div\"></div><script type=\"text/javascript\">require([\"plotly\"], function(Plotly) { window.PLOTLYENV=window.PLOTLYENV || {};window.PLOTLYENV.BASE_URL=\"https://plot.ly\";Plotly.newPlot(\"69849b9c-2351-444e-8bbc-61276e614f13\", [{\"marker\": {\"color\": \"#0047AB\"}, \"text\": [\"73.94%\", \"26.06%\"], \"textposition\": \"auto\", \"x\": [\"1.0\", \"2.0\"], \"y\": [73.94, 26.06], \"type\": \"bar\", \"uid\": \"b7d15167-03ff-4759-81af-19ea071e68a7\"}], {\"autosize\": false, \"font\": {\"color\": \"white\", \"family\": \"Courier New, monospace\", \"size\": 12}, \"height\": 600, \"title\": {\"font\": {\"color\": \"black\", \"family\": \"Courier New, monospace\", \"size\": 14}, \"text\": \"Distribution of rcaproximation column\"}, \"width\": 800, \"xaxis\": {\"tickfont\": {\"color\": \"black\", \"family\": \"Courier New, monospace\", \"size\": 14}}, \"yaxis\": {\"tickfont\": {\"color\": \"black\", \"family\": \"Courier New, monospace\", \"size\": 14}, \"title\": {\"font\": {\"color\": \"black\", \"size\": 14}, \"text\": \"Percentage\"}}}, {\"showLink\": false, \"linkText\": \"Export to plot.ly\", \"plotlyServerURL\": \"https://plot.ly\"})});</script>"
      ]
     },
     "metadata": {},
     "output_type": "display_data"
    },
    {
     "name": "stdout",
     "output_type": "stream",
     "text": [
      "########################################################################################\n",
      "1.0    553\n",
      "2.0     81\n",
      "Name: rcadistance, dtype: int64\n",
      "\n",
      " total =  634\n",
      "\n",
      " Percentages =  [87.22 12.78]\n",
      "########################################################################################\n"
     ]
    },
    {
     "data": {
      "application/vnd.plotly.v1+json": {
       "config": {
        "linkText": "Export to plot.ly",
        "plotlyServerURL": "https://plot.ly",
        "showLink": false
       },
       "data": [
        {
         "marker": {
          "color": "#0047AB"
         },
         "text": [
          "87.22%",
          "12.78%"
         ],
         "textposition": "auto",
         "type": "bar",
         "uid": "a85ce26a-e473-4150-ab98-53e8fe58158d",
         "x": [
          "1.0",
          "2.0"
         ],
         "y": [
          87.22,
          12.78
         ]
        }
       ],
       "layout": {
        "autosize": false,
        "font": {
         "color": "white",
         "family": "Courier New, monospace",
         "size": 12
        },
        "height": 600,
        "title": {
         "font": {
          "color": "black",
          "family": "Courier New, monospace",
          "size": 14
         },
         "text": "Distribution of rcadistance column"
        },
        "width": 800,
        "xaxis": {
         "tickfont": {
          "color": "black",
          "family": "Courier New, monospace",
          "size": 14
         }
        },
        "yaxis": {
         "tickfont": {
          "color": "black",
          "family": "Courier New, monospace",
          "size": 14
         },
         "title": {
          "font": {
           "color": "black",
           "size": 14
          },
          "text": "Percentage"
         }
        }
       }
      },
      "text/html": [
       "<div id=\"5edc6a4e-7c20-4d49-b1b0-4a4774eb0bbf\" style=\"height: 600px; width: 800px;\" class=\"plotly-graph-div\"></div><script type=\"text/javascript\">require([\"plotly\"], function(Plotly) { window.PLOTLYENV=window.PLOTLYENV || {};window.PLOTLYENV.BASE_URL=\"https://plot.ly\";Plotly.newPlot(\"5edc6a4e-7c20-4d49-b1b0-4a4774eb0bbf\", [{\"marker\": {\"color\": \"#0047AB\"}, \"text\": [\"87.22%\", \"12.78%\"], \"textposition\": \"auto\", \"x\": [\"1.0\", \"2.0\"], \"y\": [87.22, 12.78], \"type\": \"bar\", \"uid\": \"a85ce26a-e473-4150-ab98-53e8fe58158d\"}], {\"autosize\": false, \"font\": {\"color\": \"white\", \"family\": \"Courier New, monospace\", \"size\": 12}, \"height\": 600, \"title\": {\"font\": {\"color\": \"black\", \"family\": \"Courier New, monospace\", \"size\": 14}, \"text\": \"Distribution of rcadistance column\"}, \"width\": 800, \"xaxis\": {\"tickfont\": {\"color\": \"black\", \"family\": \"Courier New, monospace\", \"size\": 14}}, \"yaxis\": {\"tickfont\": {\"color\": \"black\", \"family\": \"Courier New, monospace\", \"size\": 14}, \"title\": {\"font\": {\"color\": \"black\", \"size\": 14}, \"text\": \"Percentage\"}}}, {\"showLink\": false, \"linkText\": \"Export to plot.ly\", \"plotlyServerURL\": \"https://plot.ly\"})});</script>"
      ],
      "text/vnd.plotly.v1+html": [
       "<div id=\"5edc6a4e-7c20-4d49-b1b0-4a4774eb0bbf\" style=\"height: 600px; width: 800px;\" class=\"plotly-graph-div\"></div><script type=\"text/javascript\">require([\"plotly\"], function(Plotly) { window.PLOTLYENV=window.PLOTLYENV || {};window.PLOTLYENV.BASE_URL=\"https://plot.ly\";Plotly.newPlot(\"5edc6a4e-7c20-4d49-b1b0-4a4774eb0bbf\", [{\"marker\": {\"color\": \"#0047AB\"}, \"text\": [\"87.22%\", \"12.78%\"], \"textposition\": \"auto\", \"x\": [\"1.0\", \"2.0\"], \"y\": [87.22, 12.78], \"type\": \"bar\", \"uid\": \"a85ce26a-e473-4150-ab98-53e8fe58158d\"}], {\"autosize\": false, \"font\": {\"color\": \"white\", \"family\": \"Courier New, monospace\", \"size\": 12}, \"height\": 600, \"title\": {\"font\": {\"color\": \"black\", \"family\": \"Courier New, monospace\", \"size\": 14}, \"text\": \"Distribution of rcadistance column\"}, \"width\": 800, \"xaxis\": {\"tickfont\": {\"color\": \"black\", \"family\": \"Courier New, monospace\", \"size\": 14}}, \"yaxis\": {\"tickfont\": {\"color\": \"black\", \"family\": \"Courier New, monospace\", \"size\": 14}, \"title\": {\"font\": {\"color\": \"black\", \"size\": 14}, \"text\": \"Percentage\"}}}, {\"showLink\": false, \"linkText\": \"Export to plot.ly\", \"plotlyServerURL\": \"https://plot.ly\"})});</script>"
      ]
     },
     "metadata": {},
     "output_type": "display_data"
    },
    {
     "name": "stdout",
     "output_type": "stream",
     "text": [
      "########################################################################################\n",
      "name    674\n",
      "Name: nameOfPatient, dtype: int64\n",
      "\n",
      " total =  674\n",
      "\n",
      " Percentages =  [100.]\n",
      "########################################################################################\n"
     ]
    },
    {
     "data": {
      "application/vnd.plotly.v1+json": {
       "config": {
        "linkText": "Export to plot.ly",
        "plotlyServerURL": "https://plot.ly",
        "showLink": false
       },
       "data": [
        {
         "marker": {
          "color": "#0047AB"
         },
         "text": [
          "100.0%"
         ],
         "textposition": "auto",
         "type": "bar",
         "uid": "9b8d4399-9522-4f2b-acf6-f4242eed0fd1",
         "x": [
          "name"
         ],
         "y": [
          100
         ]
        }
       ],
       "layout": {
        "autosize": false,
        "font": {
         "color": "white",
         "family": "Courier New, monospace",
         "size": 12
        },
        "height": 600,
        "title": {
         "font": {
          "color": "black",
          "family": "Courier New, monospace",
          "size": 14
         },
         "text": "Distribution of nameOfPatient column"
        },
        "width": 800,
        "xaxis": {
         "tickfont": {
          "color": "black",
          "family": "Courier New, monospace",
          "size": 14
         }
        },
        "yaxis": {
         "tickfont": {
          "color": "black",
          "family": "Courier New, monospace",
          "size": 14
         },
         "title": {
          "font": {
           "color": "black",
           "size": 14
          },
          "text": "Percentage"
         }
        }
       }
      },
      "text/html": [
       "<div id=\"1617da3f-b834-44ad-af57-4350c7770d64\" style=\"height: 600px; width: 800px;\" class=\"plotly-graph-div\"></div><script type=\"text/javascript\">require([\"plotly\"], function(Plotly) { window.PLOTLYENV=window.PLOTLYENV || {};window.PLOTLYENV.BASE_URL=\"https://plot.ly\";Plotly.newPlot(\"1617da3f-b834-44ad-af57-4350c7770d64\", [{\"marker\": {\"color\": \"#0047AB\"}, \"text\": [\"100.0%\"], \"textposition\": \"auto\", \"x\": [\"name\"], \"y\": [100.0], \"type\": \"bar\", \"uid\": \"9b8d4399-9522-4f2b-acf6-f4242eed0fd1\"}], {\"autosize\": false, \"font\": {\"color\": \"white\", \"family\": \"Courier New, monospace\", \"size\": 12}, \"height\": 600, \"title\": {\"font\": {\"color\": \"black\", \"family\": \"Courier New, monospace\", \"size\": 14}, \"text\": \"Distribution of nameOfPatient column\"}, \"width\": 800, \"xaxis\": {\"tickfont\": {\"color\": \"black\", \"family\": \"Courier New, monospace\", \"size\": 14}}, \"yaxis\": {\"tickfont\": {\"color\": \"black\", \"family\": \"Courier New, monospace\", \"size\": 14}, \"title\": {\"font\": {\"color\": \"black\", \"size\": 14}, \"text\": \"Percentage\"}}}, {\"showLink\": false, \"linkText\": \"Export to plot.ly\", \"plotlyServerURL\": \"https://plot.ly\"})});</script>"
      ],
      "text/vnd.plotly.v1+html": [
       "<div id=\"1617da3f-b834-44ad-af57-4350c7770d64\" style=\"height: 600px; width: 800px;\" class=\"plotly-graph-div\"></div><script type=\"text/javascript\">require([\"plotly\"], function(Plotly) { window.PLOTLYENV=window.PLOTLYENV || {};window.PLOTLYENV.BASE_URL=\"https://plot.ly\";Plotly.newPlot(\"1617da3f-b834-44ad-af57-4350c7770d64\", [{\"marker\": {\"color\": \"#0047AB\"}, \"text\": [\"100.0%\"], \"textposition\": \"auto\", \"x\": [\"name\"], \"y\": [100.0], \"type\": \"bar\", \"uid\": \"9b8d4399-9522-4f2b-acf6-f4242eed0fd1\"}], {\"autosize\": false, \"font\": {\"color\": \"white\", \"family\": \"Courier New, monospace\", \"size\": 12}, \"height\": 600, \"title\": {\"font\": {\"color\": \"black\", \"family\": \"Courier New, monospace\", \"size\": 14}, \"text\": \"Distribution of nameOfPatient column\"}, \"width\": 800, \"xaxis\": {\"tickfont\": {\"color\": \"black\", \"family\": \"Courier New, monospace\", \"size\": 14}}, \"yaxis\": {\"tickfont\": {\"color\": \"black\", \"family\": \"Courier New, monospace\", \"size\": 14}, \"title\": {\"font\": {\"color\": \"black\", \"size\": 14}, \"text\": \"Percentage\"}}}, {\"showLink\": false, \"linkText\": \"Export to plot.ly\", \"plotlyServerURL\": \"https://plot.ly\"})});</script>"
      ]
     },
     "metadata": {},
     "output_type": "display_data"
    },
    {
     "name": "stdout",
     "output_type": "stream",
     "text": [
      "########################################################################################\n",
      "Hungarian      222\n",
      "Cleveland      219\n",
      "Va             145\n",
      "Switzerland     88\n",
      "Name: Location, dtype: int64\n",
      "\n",
      " total =  674\n",
      "\n",
      " Percentages =  [32.94 32.49 21.51 13.06]\n",
      "########################################################################################\n"
     ]
    },
    {
     "data": {
      "application/vnd.plotly.v1+json": {
       "config": {
        "linkText": "Export to plot.ly",
        "plotlyServerURL": "https://plot.ly",
        "showLink": false
       },
       "data": [
        {
         "marker": {
          "color": "#0047AB"
         },
         "text": [
          "32.940000000000005%",
          "32.49%",
          "21.51%",
          "13.059999999999999%"
         ],
         "textposition": "auto",
         "type": "bar",
         "uid": "d6f60c03-fec5-4635-a575-ceaeedf23b14",
         "x": [
          "Hungarian",
          "Cleveland",
          "Va",
          "Switzerland"
         ],
         "y": [
          32.940000000000005,
          32.49,
          21.51,
          13.059999999999999
         ]
        }
       ],
       "layout": {
        "autosize": false,
        "font": {
         "color": "white",
         "family": "Courier New, monospace",
         "size": 12
        },
        "height": 600,
        "title": {
         "font": {
          "color": "black",
          "family": "Courier New, monospace",
          "size": 14
         },
         "text": "Distribution of Location column"
        },
        "width": 800,
        "xaxis": {
         "tickfont": {
          "color": "black",
          "family": "Courier New, monospace",
          "size": 14
         }
        },
        "yaxis": {
         "tickfont": {
          "color": "black",
          "family": "Courier New, monospace",
          "size": 14
         },
         "title": {
          "font": {
           "color": "black",
           "size": 14
          },
          "text": "Percentage"
         }
        }
       }
      },
      "text/html": [
       "<div id=\"505f0b56-3894-451a-b4b0-493a9672845c\" style=\"height: 600px; width: 800px;\" class=\"plotly-graph-div\"></div><script type=\"text/javascript\">require([\"plotly\"], function(Plotly) { window.PLOTLYENV=window.PLOTLYENV || {};window.PLOTLYENV.BASE_URL=\"https://plot.ly\";Plotly.newPlot(\"505f0b56-3894-451a-b4b0-493a9672845c\", [{\"marker\": {\"color\": \"#0047AB\"}, \"text\": [\"32.940000000000005%\", \"32.49%\", \"21.51%\", \"13.059999999999999%\"], \"textposition\": \"auto\", \"x\": [\"Hungarian\", \"Cleveland\", \"Va\", \"Switzerland\"], \"y\": [32.940000000000005, 32.49, 21.51, 13.059999999999999], \"type\": \"bar\", \"uid\": \"d6f60c03-fec5-4635-a575-ceaeedf23b14\"}], {\"autosize\": false, \"font\": {\"color\": \"white\", \"family\": \"Courier New, monospace\", \"size\": 12}, \"height\": 600, \"title\": {\"font\": {\"color\": \"black\", \"family\": \"Courier New, monospace\", \"size\": 14}, \"text\": \"Distribution of Location column\"}, \"width\": 800, \"xaxis\": {\"tickfont\": {\"color\": \"black\", \"family\": \"Courier New, monospace\", \"size\": 14}}, \"yaxis\": {\"tickfont\": {\"color\": \"black\", \"family\": \"Courier New, monospace\", \"size\": 14}, \"title\": {\"font\": {\"color\": \"black\", \"size\": 14}, \"text\": \"Percentage\"}}}, {\"showLink\": false, \"linkText\": \"Export to plot.ly\", \"plotlyServerURL\": \"https://plot.ly\"})});</script>"
      ],
      "text/vnd.plotly.v1+html": [
       "<div id=\"505f0b56-3894-451a-b4b0-493a9672845c\" style=\"height: 600px; width: 800px;\" class=\"plotly-graph-div\"></div><script type=\"text/javascript\">require([\"plotly\"], function(Plotly) { window.PLOTLYENV=window.PLOTLYENV || {};window.PLOTLYENV.BASE_URL=\"https://plot.ly\";Plotly.newPlot(\"505f0b56-3894-451a-b4b0-493a9672845c\", [{\"marker\": {\"color\": \"#0047AB\"}, \"text\": [\"32.940000000000005%\", \"32.49%\", \"21.51%\", \"13.059999999999999%\"], \"textposition\": \"auto\", \"x\": [\"Hungarian\", \"Cleveland\", \"Va\", \"Switzerland\"], \"y\": [32.940000000000005, 32.49, 21.51, 13.059999999999999], \"type\": \"bar\", \"uid\": \"d6f60c03-fec5-4635-a575-ceaeedf23b14\"}], {\"autosize\": false, \"font\": {\"color\": \"white\", \"family\": \"Courier New, monospace\", \"size\": 12}, \"height\": 600, \"title\": {\"font\": {\"color\": \"black\", \"family\": \"Courier New, monospace\", \"size\": 14}, \"text\": \"Distribution of Location column\"}, \"width\": 800, \"xaxis\": {\"tickfont\": {\"color\": \"black\", \"family\": \"Courier New, monospace\", \"size\": 14}}, \"yaxis\": {\"tickfont\": {\"color\": \"black\", \"family\": \"Courier New, monospace\", \"size\": 14}, \"title\": {\"font\": {\"color\": \"black\", \"size\": 14}, \"text\": \"Percentage\"}}}, {\"showLink\": false, \"linkText\": \"Export to plot.ly\", \"plotlyServerURL\": \"https://plot.ly\"})});</script>"
      ]
     },
     "metadata": {},
     "output_type": "display_data"
    }
   ],
   "source": [
    "for i in cat_cols:\n",
    "    plots=plot_bar(heart_train,i)"
   ]
  },
  {
   "cell_type": "markdown",
   "metadata": {},
   "source": [
    "###From the bar plots we decided to drop some columns:-xhypo\n",
    "ecgspecs\n",
    "restwallmotion\n",
    "exerwall\n",
    "nameof"
   ]
  },
  {
   "cell_type": "code",
   "execution_count": 894,
   "metadata": {},
   "outputs": [
    {
     "data": {
      "text/plain": [
       "age                     float64\n",
       "gender                 category\n",
       "chestpainloc           category\n",
       "painexertion           category\n",
       "reliefbyrest           category\n",
       "chestpaintype          category\n",
       "restingBP               float64\n",
       "serumcholesterol        float64\n",
       "IsSmoker               category\n",
       "NumCigs                 float64\n",
       "SmokingPeriod           float64\n",
       "FastingBS              category\n",
       "FamHistory             category\n",
       "restingECGRes          category\n",
       "ECGspecsDigitalis      category\n",
       "ECGspecsBetaBlocker    category\n",
       "ECGspecsNitrates       category\n",
       "ECGspecsCalci          category\n",
       "ECGspecsdiuretic       category\n",
       "ExTestDuration          float64\n",
       "TimeSTNoted             float64\n",
       "Metabolism              float64\n",
       "MaxHR                   float64\n",
       "RestHRGen               float64\n",
       "PeakExBP1               float64\n",
       "PeakExBP2               float64\n",
       "restingBPGen            float64\n",
       "ExInducedAngina        category\n",
       "xhypo                  category\n",
       "Stdepression            float64\n",
       "Slope                  category\n",
       "HeightatRest            float64\n",
       "heightatPeakEx          float64\n",
       "NumMajVessels           float64\n",
       "restRaidonuclid         float64\n",
       "restwallmotion         category\n",
       "exerRadinalid           float64\n",
       "ExerWallmotion         category\n",
       "thalassemia            category\n",
       "thalsev                 float64\n",
       "thalpul                 float64\n",
       "earlobe                 float64\n",
       "LeftMaintrunk          category\n",
       "ladproximation         category\n",
       "laddistance            category\n",
       "cxmain                 category\n",
       "ramus                  category\n",
       "obtuseMarginal1        category\n",
       "obtuseMarginal2        category\n",
       "rcaproximation         category\n",
       "rcadistance            category\n",
       "nameOfPatient          category\n",
       "Location               category\n",
       "Severity                 object\n",
       "dtype: object"
      ]
     },
     "execution_count": 894,
     "metadata": {},
     "output_type": "execute_result"
    }
   ],
   "source": [
    "heart_train.dtypes"
   ]
  },
  {
   "cell_type": "code",
   "execution_count": 895,
   "metadata": {},
   "outputs": [],
   "source": [
    "cols=[\"ECGspecsDigitalis\",\"xhypo\",\"restwallmotion\",\"ExerWallmotion\",\"nameOfPatient\"]"
   ]
  },
  {
   "cell_type": "code",
   "execution_count": 896,
   "metadata": {},
   "outputs": [],
   "source": [
    "drop_fun(heart_train,cols)\n",
    "drop_fun(heart_test,cols)"
   ]
  },
  {
   "cell_type": "code",
   "execution_count": 897,
   "metadata": {},
   "outputs": [],
   "source": [
    "cat_cols = [i for i in heart_train.columns.values if i not in num_cols]\n",
    "cat_cols.remove('Severity')"
   ]
  },
  {
   "cell_type": "code",
   "execution_count": 898,
   "metadata": {},
   "outputs": [
    {
     "data": {
      "text/plain": [
       "Index(['age', 'gender', 'chestpainloc', 'painexertion', 'reliefbyrest',\n",
       "       'chestpaintype', 'restingBP', 'serumcholesterol', 'IsSmoker', 'NumCigs',\n",
       "       'SmokingPeriod', 'FastingBS', 'FamHistory', 'restingECGRes',\n",
       "       'ECGspecsBetaBlocker', 'ECGspecsNitrates', 'ECGspecsCalci',\n",
       "       'ECGspecsdiuretic', 'ExTestDuration', 'TimeSTNoted', 'Metabolism',\n",
       "       'MaxHR', 'RestHRGen', 'PeakExBP1', 'PeakExBP2', 'restingBPGen',\n",
       "       'ExInducedAngina', 'Stdepression', 'Slope', 'HeightatRest',\n",
       "       'heightatPeakEx', 'NumMajVessels', 'restRaidonuclid', 'exerRadinalid',\n",
       "       'thalassemia', 'thalsev', 'thalpul', 'earlobe', 'LeftMaintrunk',\n",
       "       'ladproximation', 'laddistance', 'cxmain', 'ramus', 'obtuseMarginal1',\n",
       "       'obtuseMarginal2', 'rcaproximation', 'rcadistance', 'Location',\n",
       "       'Severity'],\n",
       "      dtype='object')"
      ]
     },
     "execution_count": 898,
     "metadata": {},
     "output_type": "execute_result"
    }
   ],
   "source": [
    "heart_train.columns"
   ]
  },
  {
   "cell_type": "code",
   "execution_count": 899,
   "metadata": {},
   "outputs": [
    {
     "data": {
      "text/plain": [
       "Index(['age', 'gender', 'chestpainloc', 'painexertion', 'reliefbyrest',\n",
       "       'chestpaintype', 'restingBP', 'serumcholesterol', 'IsSmoker', 'NumCigs',\n",
       "       'SmokingPeriod', 'FastingBS', 'FamHistory', 'restingECGRes',\n",
       "       'ECGspecsBetaBlocker', 'ECGspecsNitrates', 'ECGspecsCalci',\n",
       "       'ECGspecsdiuretic', 'ExTestDuration', 'TimeSTNoted', 'Metabolism',\n",
       "       'MaxHR', 'RestHRGen', 'PeakExBP1', 'PeakExBP2', 'restingBPGen',\n",
       "       'ExInducedAngina', 'Stdepression', 'Slope', 'HeightatRest',\n",
       "       'heightatPeakEx', 'NumMajVessels', 'restRaidonuclid', 'exerRadinalid',\n",
       "       'thalassemia', 'thalsev', 'thalpul', 'earlobe', 'LeftMaintrunk',\n",
       "       'ladproximation', 'laddistance', 'cxmain', 'ramus', 'obtuseMarginal1',\n",
       "       'obtuseMarginal2', 'rcaproximation', 'rcadistance', 'Location'],\n",
       "      dtype='object')"
      ]
     },
     "execution_count": 899,
     "metadata": {},
     "output_type": "execute_result"
    }
   ],
   "source": [
    "heart_test.columns"
   ]
  },
  {
   "cell_type": "code",
   "execution_count": 900,
   "metadata": {},
   "outputs": [
    {
     "data": {
      "text/plain": [
       "<matplotlib.axes._subplots.AxesSubplot at 0x225fc45cbe0>"
      ]
     },
     "execution_count": 900,
     "metadata": {},
     "output_type": "execute_result"
    },
    {
     "data": {
      "image/png": "[encoded data removed]",
      "text/plain": [
       "<Figure size 432x288 with 2 Axes>"
      ]
     },
     "metadata": {},
     "output_type": "display_data"
    }
   ],
   "source": [
    "import seaborn as sns\n",
    "corr = heart_train.corr()\n",
    "sns.heatmap(corr, \n",
    "            xticklabels=corr.columns.values,\n",
    "            yticklabels=corr.columns.values,\n",
    "            linewidths=4,vmin = 0.95,vmax=0.9,\n",
    "           annot =False)"
   ]
  },
  {
   "cell_type": "markdown",
   "metadata": {},
   "source": [
    "#observation:-Numerical values are highly corelated"
   ]
  },
  {
   "cell_type": "code",
   "execution_count": 901,
   "metadata": {},
   "outputs": [
    {
     "data": {
      "text/html": [
       "<div>\n",
       "<style scoped>\n",
       "    .dataframe tbody tr th:only-of-type {\n",
       "        vertical-align: middle;\n",
       "    }\n",
       "\n",
       "    .dataframe tbody tr th {\n",
       "        vertical-align: top;\n",
       "    }\n",
       "\n",
       "    .dataframe thead th {\n",
       "        text-align: right;\n",
       "    }\n",
       "</style>\n",
       "<table border=\"1\" class=\"dataframe\">\n",
       "  <thead>\n",
       "    <tr style=\"text-align: right;\">\n",
       "      <th></th>\n",
       "      <th>age</th>\n",
       "      <th>restingBP</th>\n",
       "      <th>serumcholesterol</th>\n",
       "      <th>NumCigs</th>\n",
       "      <th>SmokingPeriod</th>\n",
       "      <th>ExTestDuration</th>\n",
       "      <th>TimeSTNoted</th>\n",
       "      <th>Metabolism</th>\n",
       "      <th>MaxHR</th>\n",
       "      <th>RestHRGen</th>\n",
       "      <th>...</th>\n",
       "      <th>restingBPGen</th>\n",
       "      <th>Stdepression</th>\n",
       "      <th>HeightatRest</th>\n",
       "      <th>heightatPeakEx</th>\n",
       "      <th>NumMajVessels</th>\n",
       "      <th>restRaidonuclid</th>\n",
       "      <th>exerRadinalid</th>\n",
       "      <th>thalsev</th>\n",
       "      <th>thalpul</th>\n",
       "      <th>earlobe</th>\n",
       "    </tr>\n",
       "  </thead>\n",
       "  <tbody>\n",
       "    <tr>\n",
       "      <th>age</th>\n",
       "      <td>True</td>\n",
       "      <td>False</td>\n",
       "      <td>False</td>\n",
       "      <td>False</td>\n",
       "      <td>False</td>\n",
       "      <td>False</td>\n",
       "      <td>False</td>\n",
       "      <td>False</td>\n",
       "      <td>False</td>\n",
       "      <td>False</td>\n",
       "      <td>...</td>\n",
       "      <td>False</td>\n",
       "      <td>False</td>\n",
       "      <td>False</td>\n",
       "      <td>False</td>\n",
       "      <td>False</td>\n",
       "      <td>False</td>\n",
       "      <td>False</td>\n",
       "      <td>False</td>\n",
       "      <td>False</td>\n",
       "      <td>False</td>\n",
       "    </tr>\n",
       "    <tr>\n",
       "      <th>restingBP</th>\n",
       "      <td>False</td>\n",
       "      <td>True</td>\n",
       "      <td>False</td>\n",
       "      <td>False</td>\n",
       "      <td>False</td>\n",
       "      <td>False</td>\n",
       "      <td>False</td>\n",
       "      <td>False</td>\n",
       "      <td>False</td>\n",
       "      <td>False</td>\n",
       "      <td>...</td>\n",
       "      <td>False</td>\n",
       "      <td>False</td>\n",
       "      <td>False</td>\n",
       "      <td>False</td>\n",
       "      <td>False</td>\n",
       "      <td>False</td>\n",
       "      <td>False</td>\n",
       "      <td>False</td>\n",
       "      <td>False</td>\n",
       "      <td>False</td>\n",
       "    </tr>\n",
       "    <tr>\n",
       "      <th>serumcholesterol</th>\n",
       "      <td>False</td>\n",
       "      <td>False</td>\n",
       "      <td>True</td>\n",
       "      <td>False</td>\n",
       "      <td>False</td>\n",
       "      <td>False</td>\n",
       "      <td>False</td>\n",
       "      <td>False</td>\n",
       "      <td>False</td>\n",
       "      <td>False</td>\n",
       "      <td>...</td>\n",
       "      <td>False</td>\n",
       "      <td>False</td>\n",
       "      <td>False</td>\n",
       "      <td>False</td>\n",
       "      <td>False</td>\n",
       "      <td>False</td>\n",
       "      <td>False</td>\n",
       "      <td>False</td>\n",
       "      <td>False</td>\n",
       "      <td>False</td>\n",
       "    </tr>\n",
       "    <tr>\n",
       "      <th>NumCigs</th>\n",
       "      <td>False</td>\n",
       "      <td>False</td>\n",
       "      <td>False</td>\n",
       "      <td>True</td>\n",
       "      <td>False</td>\n",
       "      <td>False</td>\n",
       "      <td>False</td>\n",
       "      <td>False</td>\n",
       "      <td>False</td>\n",
       "      <td>False</td>\n",
       "      <td>...</td>\n",
       "      <td>False</td>\n",
       "      <td>False</td>\n",
       "      <td>False</td>\n",
       "      <td>False</td>\n",
       "      <td>False</td>\n",
       "      <td>False</td>\n",
       "      <td>False</td>\n",
       "      <td>False</td>\n",
       "      <td>False</td>\n",
       "      <td>False</td>\n",
       "    </tr>\n",
       "    <tr>\n",
       "      <th>SmokingPeriod</th>\n",
       "      <td>False</td>\n",
       "      <td>False</td>\n",
       "      <td>False</td>\n",
       "      <td>False</td>\n",
       "      <td>True</td>\n",
       "      <td>False</td>\n",
       "      <td>False</td>\n",
       "      <td>False</td>\n",
       "      <td>False</td>\n",
       "      <td>False</td>\n",
       "      <td>...</td>\n",
       "      <td>False</td>\n",
       "      <td>False</td>\n",
       "      <td>False</td>\n",
       "      <td>False</td>\n",
       "      <td>False</td>\n",
       "      <td>False</td>\n",
       "      <td>False</td>\n",
       "      <td>False</td>\n",
       "      <td>False</td>\n",
       "      <td>False</td>\n",
       "    </tr>\n",
       "    <tr>\n",
       "      <th>ExTestDuration</th>\n",
       "      <td>False</td>\n",
       "      <td>False</td>\n",
       "      <td>False</td>\n",
       "      <td>False</td>\n",
       "      <td>False</td>\n",
       "      <td>True</td>\n",
       "      <td>False</td>\n",
       "      <td>False</td>\n",
       "      <td>False</td>\n",
       "      <td>False</td>\n",
       "      <td>...</td>\n",
       "      <td>False</td>\n",
       "      <td>False</td>\n",
       "      <td>False</td>\n",
       "      <td>False</td>\n",
       "      <td>False</td>\n",
       "      <td>False</td>\n",
       "      <td>False</td>\n",
       "      <td>False</td>\n",
       "      <td>False</td>\n",
       "      <td>False</td>\n",
       "    </tr>\n",
       "    <tr>\n",
       "      <th>TimeSTNoted</th>\n",
       "      <td>False</td>\n",
       "      <td>False</td>\n",
       "      <td>False</td>\n",
       "      <td>False</td>\n",
       "      <td>False</td>\n",
       "      <td>False</td>\n",
       "      <td>True</td>\n",
       "      <td>False</td>\n",
       "      <td>False</td>\n",
       "      <td>False</td>\n",
       "      <td>...</td>\n",
       "      <td>False</td>\n",
       "      <td>False</td>\n",
       "      <td>False</td>\n",
       "      <td>False</td>\n",
       "      <td>False</td>\n",
       "      <td>False</td>\n",
       "      <td>False</td>\n",
       "      <td>False</td>\n",
       "      <td>False</td>\n",
       "      <td>False</td>\n",
       "    </tr>\n",
       "    <tr>\n",
       "      <th>Metabolism</th>\n",
       "      <td>False</td>\n",
       "      <td>False</td>\n",
       "      <td>False</td>\n",
       "      <td>False</td>\n",
       "      <td>False</td>\n",
       "      <td>False</td>\n",
       "      <td>False</td>\n",
       "      <td>True</td>\n",
       "      <td>False</td>\n",
       "      <td>False</td>\n",
       "      <td>...</td>\n",
       "      <td>False</td>\n",
       "      <td>False</td>\n",
       "      <td>False</td>\n",
       "      <td>False</td>\n",
       "      <td>False</td>\n",
       "      <td>False</td>\n",
       "      <td>False</td>\n",
       "      <td>False</td>\n",
       "      <td>False</td>\n",
       "      <td>False</td>\n",
       "    </tr>\n",
       "    <tr>\n",
       "      <th>MaxHR</th>\n",
       "      <td>False</td>\n",
       "      <td>False</td>\n",
       "      <td>False</td>\n",
       "      <td>False</td>\n",
       "      <td>False</td>\n",
       "      <td>False</td>\n",
       "      <td>False</td>\n",
       "      <td>False</td>\n",
       "      <td>True</td>\n",
       "      <td>False</td>\n",
       "      <td>...</td>\n",
       "      <td>False</td>\n",
       "      <td>False</td>\n",
       "      <td>False</td>\n",
       "      <td>False</td>\n",
       "      <td>False</td>\n",
       "      <td>False</td>\n",
       "      <td>False</td>\n",
       "      <td>False</td>\n",
       "      <td>False</td>\n",
       "      <td>False</td>\n",
       "    </tr>\n",
       "    <tr>\n",
       "      <th>RestHRGen</th>\n",
       "      <td>False</td>\n",
       "      <td>False</td>\n",
       "      <td>False</td>\n",
       "      <td>False</td>\n",
       "      <td>False</td>\n",
       "      <td>False</td>\n",
       "      <td>False</td>\n",
       "      <td>False</td>\n",
       "      <td>False</td>\n",
       "      <td>True</td>\n",
       "      <td>...</td>\n",
       "      <td>False</td>\n",
       "      <td>False</td>\n",
       "      <td>False</td>\n",
       "      <td>False</td>\n",
       "      <td>False</td>\n",
       "      <td>False</td>\n",
       "      <td>False</td>\n",
       "      <td>False</td>\n",
       "      <td>False</td>\n",
       "      <td>False</td>\n",
       "    </tr>\n",
       "    <tr>\n",
       "      <th>PeakExBP1</th>\n",
       "      <td>False</td>\n",
       "      <td>False</td>\n",
       "      <td>False</td>\n",
       "      <td>False</td>\n",
       "      <td>False</td>\n",
       "      <td>False</td>\n",
       "      <td>False</td>\n",
       "      <td>False</td>\n",
       "      <td>False</td>\n",
       "      <td>False</td>\n",
       "      <td>...</td>\n",
       "      <td>False</td>\n",
       "      <td>False</td>\n",
       "      <td>False</td>\n",
       "      <td>False</td>\n",
       "      <td>False</td>\n",
       "      <td>False</td>\n",
       "      <td>False</td>\n",
       "      <td>False</td>\n",
       "      <td>False</td>\n",
       "      <td>False</td>\n",
       "    </tr>\n",
       "    <tr>\n",
       "      <th>PeakExBP2</th>\n",
       "      <td>False</td>\n",
       "      <td>False</td>\n",
       "      <td>False</td>\n",
       "      <td>False</td>\n",
       "      <td>False</td>\n",
       "      <td>False</td>\n",
       "      <td>False</td>\n",
       "      <td>False</td>\n",
       "      <td>False</td>\n",
       "      <td>False</td>\n",
       "      <td>...</td>\n",
       "      <td>False</td>\n",
       "      <td>False</td>\n",
       "      <td>False</td>\n",
       "      <td>False</td>\n",
       "      <td>False</td>\n",
       "      <td>False</td>\n",
       "      <td>False</td>\n",
       "      <td>False</td>\n",
       "      <td>False</td>\n",
       "      <td>False</td>\n",
       "    </tr>\n",
       "    <tr>\n",
       "      <th>restingBPGen</th>\n",
       "      <td>False</td>\n",
       "      <td>False</td>\n",
       "      <td>False</td>\n",
       "      <td>False</td>\n",
       "      <td>False</td>\n",
       "      <td>False</td>\n",
       "      <td>False</td>\n",
       "      <td>False</td>\n",
       "      <td>False</td>\n",
       "      <td>False</td>\n",
       "      <td>...</td>\n",
       "      <td>True</td>\n",
       "      <td>False</td>\n",
       "      <td>False</td>\n",
       "      <td>False</td>\n",
       "      <td>False</td>\n",
       "      <td>False</td>\n",
       "      <td>False</td>\n",
       "      <td>False</td>\n",
       "      <td>False</td>\n",
       "      <td>False</td>\n",
       "    </tr>\n",
       "    <tr>\n",
       "      <th>Stdepression</th>\n",
       "      <td>False</td>\n",
       "      <td>False</td>\n",
       "      <td>False</td>\n",
       "      <td>False</td>\n",
       "      <td>False</td>\n",
       "      <td>False</td>\n",
       "      <td>False</td>\n",
       "      <td>False</td>\n",
       "      <td>False</td>\n",
       "      <td>False</td>\n",
       "      <td>...</td>\n",
       "      <td>False</td>\n",
       "      <td>True</td>\n",
       "      <td>False</td>\n",
       "      <td>False</td>\n",
       "      <td>False</td>\n",
       "      <td>False</td>\n",
       "      <td>False</td>\n",
       "      <td>False</td>\n",
       "      <td>False</td>\n",
       "      <td>False</td>\n",
       "    </tr>\n",
       "    <tr>\n",
       "      <th>HeightatRest</th>\n",
       "      <td>False</td>\n",
       "      <td>False</td>\n",
       "      <td>False</td>\n",
       "      <td>False</td>\n",
       "      <td>False</td>\n",
       "      <td>False</td>\n",
       "      <td>False</td>\n",
       "      <td>False</td>\n",
       "      <td>False</td>\n",
       "      <td>False</td>\n",
       "      <td>...</td>\n",
       "      <td>False</td>\n",
       "      <td>False</td>\n",
       "      <td>True</td>\n",
       "      <td>False</td>\n",
       "      <td>False</td>\n",
       "      <td>False</td>\n",
       "      <td>False</td>\n",
       "      <td>False</td>\n",
       "      <td>False</td>\n",
       "      <td>False</td>\n",
       "    </tr>\n",
       "    <tr>\n",
       "      <th>heightatPeakEx</th>\n",
       "      <td>False</td>\n",
       "      <td>False</td>\n",
       "      <td>False</td>\n",
       "      <td>False</td>\n",
       "      <td>False</td>\n",
       "      <td>False</td>\n",
       "      <td>False</td>\n",
       "      <td>False</td>\n",
       "      <td>False</td>\n",
       "      <td>False</td>\n",
       "      <td>...</td>\n",
       "      <td>False</td>\n",
       "      <td>False</td>\n",
       "      <td>False</td>\n",
       "      <td>True</td>\n",
       "      <td>False</td>\n",
       "      <td>False</td>\n",
       "      <td>False</td>\n",
       "      <td>False</td>\n",
       "      <td>False</td>\n",
       "      <td>False</td>\n",
       "    </tr>\n",
       "    <tr>\n",
       "      <th>NumMajVessels</th>\n",
       "      <td>False</td>\n",
       "      <td>False</td>\n",
       "      <td>False</td>\n",
       "      <td>False</td>\n",
       "      <td>False</td>\n",
       "      <td>False</td>\n",
       "      <td>False</td>\n",
       "      <td>False</td>\n",
       "      <td>False</td>\n",
       "      <td>False</td>\n",
       "      <td>...</td>\n",
       "      <td>False</td>\n",
       "      <td>False</td>\n",
       "      <td>False</td>\n",
       "      <td>False</td>\n",
       "      <td>True</td>\n",
       "      <td>False</td>\n",
       "      <td>False</td>\n",
       "      <td>False</td>\n",
       "      <td>False</td>\n",
       "      <td>False</td>\n",
       "    </tr>\n",
       "    <tr>\n",
       "      <th>restRaidonuclid</th>\n",
       "      <td>False</td>\n",
       "      <td>False</td>\n",
       "      <td>False</td>\n",
       "      <td>False</td>\n",
       "      <td>False</td>\n",
       "      <td>False</td>\n",
       "      <td>False</td>\n",
       "      <td>False</td>\n",
       "      <td>False</td>\n",
       "      <td>False</td>\n",
       "      <td>...</td>\n",
       "      <td>False</td>\n",
       "      <td>False</td>\n",
       "      <td>False</td>\n",
       "      <td>False</td>\n",
       "      <td>False</td>\n",
       "      <td>True</td>\n",
       "      <td>False</td>\n",
       "      <td>False</td>\n",
       "      <td>False</td>\n",
       "      <td>False</td>\n",
       "    </tr>\n",
       "    <tr>\n",
       "      <th>exerRadinalid</th>\n",
       "      <td>False</td>\n",
       "      <td>False</td>\n",
       "      <td>False</td>\n",
       "      <td>False</td>\n",
       "      <td>False</td>\n",
       "      <td>False</td>\n",
       "      <td>False</td>\n",
       "      <td>False</td>\n",
       "      <td>False</td>\n",
       "      <td>False</td>\n",
       "      <td>...</td>\n",
       "      <td>False</td>\n",
       "      <td>False</td>\n",
       "      <td>False</td>\n",
       "      <td>False</td>\n",
       "      <td>False</td>\n",
       "      <td>False</td>\n",
       "      <td>True</td>\n",
       "      <td>False</td>\n",
       "      <td>False</td>\n",
       "      <td>False</td>\n",
       "    </tr>\n",
       "    <tr>\n",
       "      <th>thalsev</th>\n",
       "      <td>False</td>\n",
       "      <td>False</td>\n",
       "      <td>False</td>\n",
       "      <td>False</td>\n",
       "      <td>False</td>\n",
       "      <td>False</td>\n",
       "      <td>False</td>\n",
       "      <td>False</td>\n",
       "      <td>False</td>\n",
       "      <td>False</td>\n",
       "      <td>...</td>\n",
       "      <td>False</td>\n",
       "      <td>False</td>\n",
       "      <td>False</td>\n",
       "      <td>False</td>\n",
       "      <td>False</td>\n",
       "      <td>False</td>\n",
       "      <td>False</td>\n",
       "      <td>True</td>\n",
       "      <td>False</td>\n",
       "      <td>False</td>\n",
       "    </tr>\n",
       "    <tr>\n",
       "      <th>thalpul</th>\n",
       "      <td>False</td>\n",
       "      <td>False</td>\n",
       "      <td>False</td>\n",
       "      <td>False</td>\n",
       "      <td>False</td>\n",
       "      <td>False</td>\n",
       "      <td>False</td>\n",
       "      <td>False</td>\n",
       "      <td>False</td>\n",
       "      <td>False</td>\n",
       "      <td>...</td>\n",
       "      <td>False</td>\n",
       "      <td>False</td>\n",
       "      <td>False</td>\n",
       "      <td>False</td>\n",
       "      <td>False</td>\n",
       "      <td>False</td>\n",
       "      <td>False</td>\n",
       "      <td>False</td>\n",
       "      <td>True</td>\n",
       "      <td>False</td>\n",
       "    </tr>\n",
       "    <tr>\n",
       "      <th>earlobe</th>\n",
       "      <td>False</td>\n",
       "      <td>False</td>\n",
       "      <td>False</td>\n",
       "      <td>False</td>\n",
       "      <td>False</td>\n",
       "      <td>False</td>\n",
       "      <td>False</td>\n",
       "      <td>False</td>\n",
       "      <td>False</td>\n",
       "      <td>False</td>\n",
       "      <td>...</td>\n",
       "      <td>False</td>\n",
       "      <td>False</td>\n",
       "      <td>False</td>\n",
       "      <td>False</td>\n",
       "      <td>False</td>\n",
       "      <td>False</td>\n",
       "      <td>False</td>\n",
       "      <td>False</td>\n",
       "      <td>False</td>\n",
       "      <td>False</td>\n",
       "    </tr>\n",
       "  </tbody>\n",
       "</table>\n",
       "<p>22 rows × 22 columns</p>\n",
       "</div>"
      ],
      "text/plain": [
       "                    age  restingBP  serumcholesterol  NumCigs  SmokingPeriod  \\\n",
       "age                True      False             False    False          False   \n",
       "restingBP         False       True             False    False          False   \n",
       "serumcholesterol  False      False              True    False          False   \n",
       "NumCigs           False      False             False     True          False   \n",
       "SmokingPeriod     False      False             False    False           True   \n",
       "ExTestDuration    False      False             False    False          False   \n",
       "TimeSTNoted       False      False             False    False          False   \n",
       "Metabolism        False      False             False    False          False   \n",
       "MaxHR             False      False             False    False          False   \n",
       "RestHRGen         False      False             False    False          False   \n",
       "PeakExBP1         False      False             False    False          False   \n",
       "PeakExBP2         False      False             False    False          False   \n",
       "restingBPGen      False      False             False    False          False   \n",
       "Stdepression      False      False             False    False          False   \n",
       "HeightatRest      False      False             False    False          False   \n",
       "heightatPeakEx    False      False             False    False          False   \n",
       "NumMajVessels     False      False             False    False          False   \n",
       "restRaidonuclid   False      False             False    False          False   \n",
       "exerRadinalid     False      False             False    False          False   \n",
       "thalsev           False      False             False    False          False   \n",
       "thalpul           False      False             False    False          False   \n",
       "earlobe           False      False             False    False          False   \n",
       "\n",
       "                  ExTestDuration  TimeSTNoted  Metabolism  MaxHR  RestHRGen  \\\n",
       "age                        False        False       False  False      False   \n",
       "restingBP                  False        False       False  False      False   \n",
       "serumcholesterol           False        False       False  False      False   \n",
       "NumCigs                    False        False       False  False      False   \n",
       "SmokingPeriod              False        False       False  False      False   \n",
       "ExTestDuration              True        False       False  False      False   \n",
       "TimeSTNoted                False         True       False  False      False   \n",
       "Metabolism                 False        False        True  False      False   \n",
       "MaxHR                      False        False       False   True      False   \n",
       "RestHRGen                  False        False       False  False       True   \n",
       "PeakExBP1                  False        False       False  False      False   \n",
       "PeakExBP2                  False        False       False  False      False   \n",
       "restingBPGen               False        False       False  False      False   \n",
       "Stdepression               False        False       False  False      False   \n",
       "HeightatRest               False        False       False  False      False   \n",
       "heightatPeakEx             False        False       False  False      False   \n",
       "NumMajVessels              False        False       False  False      False   \n",
       "restRaidonuclid            False        False       False  False      False   \n",
       "exerRadinalid              False        False       False  False      False   \n",
       "thalsev                    False        False       False  False      False   \n",
       "thalpul                    False        False       False  False      False   \n",
       "earlobe                    False        False       False  False      False   \n",
       "\n",
       "                   ...     restingBPGen  Stdepression  HeightatRest  \\\n",
       "age                ...            False         False         False   \n",
       "restingBP          ...            False         False         False   \n",
       "serumcholesterol   ...            False         False         False   \n",
       "NumCigs            ...            False         False         False   \n",
       "SmokingPeriod      ...            False         False         False   \n",
       "ExTestDuration     ...            False         False         False   \n",
       "TimeSTNoted        ...            False         False         False   \n",
       "Metabolism         ...            False         False         False   \n",
       "MaxHR              ...            False         False         False   \n",
       "RestHRGen          ...            False         False         False   \n",
       "PeakExBP1          ...            False         False         False   \n",
       "PeakExBP2          ...            False         False         False   \n",
       "restingBPGen       ...             True         False         False   \n",
       "Stdepression       ...            False          True         False   \n",
       "HeightatRest       ...            False         False          True   \n",
       "heightatPeakEx     ...            False         False         False   \n",
       "NumMajVessels      ...            False         False         False   \n",
       "restRaidonuclid    ...            False         False         False   \n",
       "exerRadinalid      ...            False         False         False   \n",
       "thalsev            ...            False         False         False   \n",
       "thalpul            ...            False         False         False   \n",
       "earlobe            ...            False         False         False   \n",
       "\n",
       "                  heightatPeakEx  NumMajVessels  restRaidonuclid  \\\n",
       "age                        False          False            False   \n",
       "restingBP                  False          False            False   \n",
       "serumcholesterol           False          False            False   \n",
       "NumCigs                    False          False            False   \n",
       "SmokingPeriod              False          False            False   \n",
       "ExTestDuration             False          False            False   \n",
       "TimeSTNoted                False          False            False   \n",
       "Metabolism                 False          False            False   \n",
       "MaxHR                      False          False            False   \n",
       "RestHRGen                  False          False            False   \n",
       "PeakExBP1                  False          False            False   \n",
       "PeakExBP2                  False          False            False   \n",
       "restingBPGen               False          False            False   \n",
       "Stdepression               False          False            False   \n",
       "HeightatRest               False          False            False   \n",
       "heightatPeakEx              True          False            False   \n",
       "NumMajVessels              False           True            False   \n",
       "restRaidonuclid            False          False             True   \n",
       "exerRadinalid              False          False            False   \n",
       "thalsev                    False          False            False   \n",
       "thalpul                    False          False            False   \n",
       "earlobe                    False          False            False   \n",
       "\n",
       "                  exerRadinalid  thalsev  thalpul  earlobe  \n",
       "age                       False    False    False    False  \n",
       "restingBP                 False    False    False    False  \n",
       "serumcholesterol          False    False    False    False  \n",
       "NumCigs                   False    False    False    False  \n",
       "SmokingPeriod             False    False    False    False  \n",
       "ExTestDuration            False    False    False    False  \n",
       "TimeSTNoted               False    False    False    False  \n",
       "Metabolism                False    False    False    False  \n",
       "MaxHR                     False    False    False    False  \n",
       "RestHRGen                 False    False    False    False  \n",
       "PeakExBP1                 False    False    False    False  \n",
       "PeakExBP2                 False    False    False    False  \n",
       "restingBPGen              False    False    False    False  \n",
       "Stdepression              False    False    False    False  \n",
       "HeightatRest              False    False    False    False  \n",
       "heightatPeakEx            False    False    False    False  \n",
       "NumMajVessels             False    False    False    False  \n",
       "restRaidonuclid           False    False    False    False  \n",
       "exerRadinalid              True    False    False    False  \n",
       "thalsev                   False     True    False    False  \n",
       "thalpul                   False    False     True    False  \n",
       "earlobe                   False    False    False    False  \n",
       "\n",
       "[22 rows x 22 columns]"
      ]
     },
     "execution_count": 901,
     "metadata": {},
     "output_type": "execute_result"
    }
   ],
   "source": [
    "heart_train.corr()>0.9"
   ]
  },
  {
   "cell_type": "markdown",
   "metadata": {},
   "source": [
    "#Outliers handling:-"
   ]
  },
  {
   "cell_type": "code",
   "execution_count": 902,
   "metadata": {},
   "outputs": [],
   "source": [
    "def outliers_iqr(ys):\n",
    "    quartile_1, quartile_3 = np.percentile(ys, [25, 75])\n",
    "    iqr = quartile_3 - quartile_1\n",
    "    lower_bound = quartile_1 - (iqr * 1.5)\n",
    "    upper_bound = quartile_3 + (iqr * 1.5)\n",
    "    return np.where((ys > upper_bound) | (ys < lower_bound))"
   ]
  },
  {
   "cell_type": "code",
   "execution_count": 903,
   "metadata": {},
   "outputs": [
    {
     "data": {
      "text/plain": [
       "age                 ([],)\n",
       "restingBP           ([],)\n",
       "serumcholesterol    ([],)\n",
       "NumCigs             ([],)\n",
       "SmokingPeriod       ([],)\n",
       "ExTestDuration      ([],)\n",
       "TimeSTNoted         ([],)\n",
       "Metabolism          ([],)\n",
       "MaxHR               ([],)\n",
       "RestHRGen           ([],)\n",
       "PeakExBP1           ([],)\n",
       "PeakExBP2           ([],)\n",
       "restingBPGen        ([],)\n",
       "Stdepression        ([],)\n",
       "HeightatRest        ([],)\n",
       "heightatPeakEx      ([],)\n",
       "NumMajVessels       ([],)\n",
       "restRaidonuclid     ([],)\n",
       "exerRadinalid       ([],)\n",
       "thalsev             ([],)\n",
       "thalpul             ([],)\n",
       "earlobe             ([],)\n",
       "dtype: object"
      ]
     },
     "execution_count": 903,
     "metadata": {},
     "output_type": "execute_result"
    }
   ],
   "source": [
    "heart_train.loc[:,num_cols].apply(outliers_iqr)\n",
    "heart_test.loc[:,num_cols].apply(outliers_iqr)"
   ]
  },
  {
   "cell_type": "markdown",
   "metadata": {},
   "source": [
    "#Null value handling"
   ]
  },
  {
   "cell_type": "code",
   "execution_count": 904,
   "metadata": {},
   "outputs": [
    {
     "name": "stdout",
     "output_type": "stream",
     "text": [
      "age                      0\n",
      "gender                   0\n",
      "chestpainloc            46\n",
      "painexertion            43\n",
      "reliefbyrest            38\n",
      "chestpaintype            0\n",
      "restingBP               45\n",
      "serumcholesterol        20\n",
      "IsSmoker               101\n",
      "NumCigs                 19\n",
      "SmokingPeriod           20\n",
      "FastingBS               62\n",
      "FamHistory              60\n",
      "restingECGRes            1\n",
      "ECGspecsBetaBlocker     51\n",
      "ECGspecsNitrates        50\n",
      "ECGspecsCalci           49\n",
      "ECGspecsdiuretic        62\n",
      "ExTestDuration          44\n",
      "TimeSTNoted             17\n",
      "Metabolism              80\n",
      "MaxHR                   43\n",
      "RestHRGen               43\n",
      "PeakExBP1               47\n",
      "PeakExBP2               47\n",
      "restingBPGen            45\n",
      "ExInducedAngina         43\n",
      "Stdepression            46\n",
      "Slope                   40\n",
      "HeightatRest            18\n",
      "heightatPeakEx           6\n",
      "NumMajVessels           20\n",
      "restRaidonuclid         33\n",
      "exerRadinalid           33\n",
      "thalassemia             76\n",
      "thalsev                 30\n",
      "thalpul                 32\n",
      "earlobe                 36\n",
      "LeftMaintrunk           44\n",
      "ladproximation          35\n",
      "laddistance             37\n",
      "cxmain                  36\n",
      "ramus                   87\n",
      "obtuseMarginal1         37\n",
      "obtuseMarginal2         88\n",
      "rcaproximation          37\n",
      "rcadistance             40\n",
      "Location                 0\n",
      "Severity                 0\n",
      "dtype: int64\n",
      "age                     0\n",
      "gender                  0\n",
      "chestpainloc           10\n",
      "painexertion           13\n",
      "reliefbyrest           19\n",
      "chestpaintype           0\n",
      "restingBP              14\n",
      "serumcholesterol       10\n",
      "IsSmoker               33\n",
      "NumCigs                 2\n",
      "SmokingPeriod           2\n",
      "FastingBS              28\n",
      "FamHistory             24\n",
      "restingECGRes           1\n",
      "ECGspecsBetaBlocker    15\n",
      "ECGspecsNitrates       15\n",
      "ECGspecsCalci          14\n",
      "ECGspecsdiuretic       20\n",
      "ExTestDuration         12\n",
      "TimeSTNoted             6\n",
      "Metabolism             25\n",
      "MaxHR                  12\n",
      "RestHRGen              13\n",
      "PeakExBP1              16\n",
      "PeakExBP2              16\n",
      "restingBPGen           14\n",
      "ExInducedAngina        12\n",
      "Stdepression           16\n",
      "Slope                  22\n",
      "HeightatRest            3\n",
      "heightatPeakEx          1\n",
      "NumMajVessels          10\n",
      "restRaidonuclid        11\n",
      "exerRadinalid          12\n",
      "thalassemia            19\n",
      "thalsev                 8\n",
      "thalpul                11\n",
      "earlobe                 9\n",
      "LeftMaintrunk          11\n",
      "ladproximation         12\n",
      "laddistance            12\n",
      "cxmain                 11\n",
      "ramus                  26\n",
      "obtuseMarginal1        17\n",
      "obtuseMarginal2        26\n",
      "rcaproximation         12\n",
      "rcadistance            14\n",
      "Location                0\n",
      "dtype: int64\n"
     ]
    }
   ],
   "source": [
    "print(heart_train.isnull().sum())\n",
    "print(heart_test.isnull().sum())"
   ]
  },
  {
   "cell_type": "code",
   "execution_count": 905,
   "metadata": {},
   "outputs": [
    {
     "data": {
      "text/plain": [
       "49"
      ]
     },
     "execution_count": 905,
     "metadata": {},
     "output_type": "execute_result"
    }
   ],
   "source": [
    "heart_train.shape[1]"
   ]
  },
  {
   "cell_type": "code",
   "execution_count": 906,
   "metadata": {},
   "outputs": [],
   "source": [
    "def impute(df,num_cols,cat_cols):\n",
    "    imp_num = Imputer(missing_values='NaN', strategy='median', axis=0)\n",
    "    df[num_cols] = pd.DataFrame(imp_num.fit_transform(df[num_cols]), columns=num_cols)\n",
    "    df[cat_cols] = df[cat_cols].replace('nan',np.NaN)\n",
    "    df[cat_cols] =pd.DataFrame(df[cat_cols].apply(lambda x:x.fillna(x.value_counts().index[0])))"
   ]
  },
  {
   "cell_type": "code",
   "execution_count": 907,
   "metadata": {},
   "outputs": [],
   "source": [
    "impute(heart_train,num_cols,cat_cols)\n",
    "impute(heart_test,num_cols,cat_cols)"
   ]
  },
  {
   "cell_type": "code",
   "execution_count": 908,
   "metadata": {},
   "outputs": [
    {
     "name": "stdout",
     "output_type": "stream",
     "text": [
      "age                    0\n",
      "gender                 0\n",
      "chestpainloc           0\n",
      "painexertion           0\n",
      "reliefbyrest           0\n",
      "chestpaintype          0\n",
      "restingBP              0\n",
      "serumcholesterol       0\n",
      "IsSmoker               0\n",
      "NumCigs                0\n",
      "SmokingPeriod          0\n",
      "FastingBS              0\n",
      "FamHistory             0\n",
      "restingECGRes          0\n",
      "ECGspecsBetaBlocker    0\n",
      "ECGspecsNitrates       0\n",
      "ECGspecsCalci          0\n",
      "ECGspecsdiuretic       0\n",
      "ExTestDuration         0\n",
      "TimeSTNoted            0\n",
      "Metabolism             0\n",
      "MaxHR                  0\n",
      "RestHRGen              0\n",
      "PeakExBP1              0\n",
      "PeakExBP2              0\n",
      "restingBPGen           0\n",
      "ExInducedAngina        0\n",
      "Stdepression           0\n",
      "Slope                  0\n",
      "HeightatRest           0\n",
      "heightatPeakEx         0\n",
      "NumMajVessels          0\n",
      "restRaidonuclid        0\n",
      "exerRadinalid          0\n",
      "thalassemia            0\n",
      "thalsev                0\n",
      "thalpul                0\n",
      "earlobe                0\n",
      "LeftMaintrunk          0\n",
      "ladproximation         0\n",
      "laddistance            0\n",
      "cxmain                 0\n",
      "ramus                  0\n",
      "obtuseMarginal1        0\n",
      "obtuseMarginal2        0\n",
      "rcaproximation         0\n",
      "rcadistance            0\n",
      "Location               0\n",
      "Severity               0\n",
      "dtype: int64\n",
      "age                    0\n",
      "gender                 0\n",
      "chestpainloc           0\n",
      "painexertion           0\n",
      "reliefbyrest           0\n",
      "chestpaintype          0\n",
      "restingBP              0\n",
      "serumcholesterol       0\n",
      "IsSmoker               0\n",
      "NumCigs                0\n",
      "SmokingPeriod          0\n",
      "FastingBS              0\n",
      "FamHistory             0\n",
      "restingECGRes          0\n",
      "ECGspecsBetaBlocker    0\n",
      "ECGspecsNitrates       0\n",
      "ECGspecsCalci          0\n",
      "ECGspecsdiuretic       0\n",
      "ExTestDuration         0\n",
      "TimeSTNoted            0\n",
      "Metabolism             0\n",
      "MaxHR                  0\n",
      "RestHRGen              0\n",
      "PeakExBP1              0\n",
      "PeakExBP2              0\n",
      "restingBPGen           0\n",
      "ExInducedAngina        0\n",
      "Stdepression           0\n",
      "Slope                  0\n",
      "HeightatRest           0\n",
      "heightatPeakEx         0\n",
      "NumMajVessels          0\n",
      "restRaidonuclid        0\n",
      "exerRadinalid          0\n",
      "thalassemia            0\n",
      "thalsev                0\n",
      "thalpul                0\n",
      "earlobe                0\n",
      "LeftMaintrunk          0\n",
      "ladproximation         0\n",
      "laddistance            0\n",
      "cxmain                 0\n",
      "ramus                  0\n",
      "obtuseMarginal1        0\n",
      "obtuseMarginal2        0\n",
      "rcaproximation         0\n",
      "rcadistance            0\n",
      "Location               0\n",
      "dtype: int64\n"
     ]
    }
   ],
   "source": [
    "print(heart_train.isnull().sum())\n",
    "print(heart_test.isnull().sum())"
   ]
  },
  {
   "cell_type": "markdown",
   "metadata": {},
   "source": [
    "#Dummy"
   ]
  },
  {
   "cell_type": "code",
   "execution_count": 911,
   "metadata": {},
   "outputs": [],
   "source": [
    "heart_train = pd.get_dummies(columns=cat_cols, data=heart_train, \n",
    "                      prefix=cat_cols, prefix_sep=\"_\", drop_first=True)"
   ]
  },
  {
   "cell_type": "code",
   "execution_count": 912,
   "metadata": {},
   "outputs": [],
   "source": [
    "heart_test =pd.get_dummies(columns=cat_cols, data=heart_test, \n",
    "                      prefix=cat_cols, prefix_sep=\"_\", drop_first=True)"
   ]
  },
  {
   "cell_type": "code",
   "execution_count": 915,
   "metadata": {},
   "outputs": [
    {
     "data": {
      "text/plain": [
       "{'LeftMaintrunk_1.0',\n",
       " 'LeftMaintrunk_162.0',\n",
       " 'Severity',\n",
       " 'Slope_1.0',\n",
       " 'thalassemia_2.0',\n",
       " 'thalassemia_4.0',\n",
       " 'thalassemia_5.0'}"
      ]
     },
     "execution_count": 915,
     "metadata": {},
     "output_type": "execute_result"
    }
   ],
   "source": [
    "set(heart_train.columns).difference(set(heart_test.columns))"
   ]
  },
  {
   "cell_type": "code",
   "execution_count": 916,
   "metadata": {},
   "outputs": [],
   "source": [
    "d_cols=['LeftMaintrunk_1.0','LeftMaintrunk_162.0','Slope_1.0','thalassemia_4.0','thalassemia_2.0','thalassemia_5.0']\n",
    "drop_fun(heart_train,d_cols)"
   ]
  },
  {
   "cell_type": "code",
   "execution_count": 917,
   "metadata": {},
   "outputs": [
    {
     "data": {
      "text/plain": [
       "{'Severity'}"
      ]
     },
     "execution_count": 917,
     "metadata": {},
     "output_type": "execute_result"
    }
   ],
   "source": [
    "set(heart_train.columns).difference(set(heart_test.columns))"
   ]
  },
  {
   "cell_type": "code",
   "execution_count": 918,
   "metadata": {},
   "outputs": [
    {
     "data": {
      "text/plain": [
       "Index(['age', 'restingBP', 'serumcholesterol', 'NumCigs', 'SmokingPeriod',\n",
       "       'ExTestDuration', 'TimeSTNoted', 'Metabolism', 'MaxHR', 'RestHRGen',\n",
       "       'PeakExBP1', 'PeakExBP2', 'restingBPGen', 'Stdepression',\n",
       "       'HeightatRest', 'heightatPeakEx', 'NumMajVessels', 'restRaidonuclid',\n",
       "       'exerRadinalid', 'thalsev', 'thalpul', 'earlobe', 'gender_1',\n",
       "       'chestpainloc_1.0', 'painexertion_1.0', 'reliefbyrest_1.0',\n",
       "       'chestpaintype_2', 'chestpaintype_3', 'chestpaintype_4', 'IsSmoker_1.0',\n",
       "       'FastingBS_1.0', 'FamHistory_1.0', 'restingECGRes_1.0',\n",
       "       'restingECGRes_2.0', 'ECGspecsBetaBlocker_1.0', 'ECGspecsNitrates_1.0',\n",
       "       'ECGspecsCalci_1.0', 'ECGspecsdiuretic_1.0', 'ExInducedAngina_1.0',\n",
       "       'Slope_2.0', 'Slope_3.0', 'thalassemia_3.0', 'thalassemia_6.0',\n",
       "       'thalassemia_7.0', 'LeftMaintrunk_2.0', 'ladproximation_2.0',\n",
       "       'laddistance_2.0', 'cxmain_2.0', 'ramus_2.0', 'obtuseMarginal1_2.0',\n",
       "       'obtuseMarginal2_2.0', 'rcaproximation_2.0', 'rcadistance_2.0',\n",
       "       'Location_Hungarian', 'Location_Switzerland', 'Location_Va'],\n",
       "      dtype='object')"
      ]
     },
     "execution_count": 918,
     "metadata": {},
     "output_type": "execute_result"
    }
   ],
   "source": [
    "heart_test.columns"
   ]
  },
  {
   "cell_type": "code",
   "execution_count": 919,
   "metadata": {},
   "outputs": [
    {
     "data": {
      "text/plain": [
       "age                         float64\n",
       "restingBP                   float64\n",
       "serumcholesterol            float64\n",
       "NumCigs                     float64\n",
       "SmokingPeriod               float64\n",
       "ExTestDuration              float64\n",
       "TimeSTNoted                 float64\n",
       "Metabolism                  float64\n",
       "MaxHR                       float64\n",
       "RestHRGen                   float64\n",
       "PeakExBP1                   float64\n",
       "PeakExBP2                   float64\n",
       "restingBPGen                float64\n",
       "Stdepression                float64\n",
       "HeightatRest                float64\n",
       "heightatPeakEx              float64\n",
       "NumMajVessels               float64\n",
       "restRaidonuclid             float64\n",
       "exerRadinalid               float64\n",
       "thalsev                     float64\n",
       "thalpul                     float64\n",
       "earlobe                     float64\n",
       "Severity                   category\n",
       "gender_1                      uint8\n",
       "chestpainloc_1.0              uint8\n",
       "painexertion_1.0              uint8\n",
       "reliefbyrest_1.0              uint8\n",
       "chestpaintype_2               uint8\n",
       "chestpaintype_3               uint8\n",
       "chestpaintype_4               uint8\n",
       "IsSmoker_1.0                  uint8\n",
       "FastingBS_1.0                 uint8\n",
       "FamHistory_1.0                uint8\n",
       "restingECGRes_1.0             uint8\n",
       "restingECGRes_2.0             uint8\n",
       "ECGspecsBetaBlocker_1.0       uint8\n",
       "ECGspecsNitrates_1.0          uint8\n",
       "ECGspecsCalci_1.0             uint8\n",
       "ECGspecsdiuretic_1.0          uint8\n",
       "ExInducedAngina_1.0           uint8\n",
       "Slope_2.0                     uint8\n",
       "Slope_3.0                     uint8\n",
       "thalassemia_3.0               uint8\n",
       "thalassemia_6.0               uint8\n",
       "thalassemia_7.0               uint8\n",
       "LeftMaintrunk_2.0             uint8\n",
       "ladproximation_2.0            uint8\n",
       "laddistance_2.0               uint8\n",
       "cxmain_2.0                    uint8\n",
       "ramus_2.0                     uint8\n",
       "obtuseMarginal1_2.0           uint8\n",
       "obtuseMarginal2_2.0           uint8\n",
       "rcaproximation_2.0            uint8\n",
       "rcadistance_2.0               uint8\n",
       "Location_Hungarian            uint8\n",
       "Location_Switzerland          uint8\n",
       "Location_Va                   uint8\n",
       "dtype: object"
      ]
     },
     "execution_count": 919,
     "metadata": {},
     "output_type": "execute_result"
    }
   ],
   "source": [
    "heart_train[\"Severity\"] = heart_train[\"Severity\"].astype('category')\n",
    "heart_train.dtypes"
   ]
  },
  {
   "cell_type": "code",
   "execution_count": 923,
   "metadata": {},
   "outputs": [
    {
     "data": {
      "text/plain": [
       "57"
      ]
     },
     "execution_count": 923,
     "metadata": {},
     "output_type": "execute_result"
    }
   ],
   "source": [
    "heart_train.shape[1]"
   ]
  },
  {
   "cell_type": "code",
   "execution_count": 924,
   "metadata": {},
   "outputs": [
    {
     "data": {
      "text/plain": [
       "56"
      ]
     },
     "execution_count": 924,
     "metadata": {},
     "output_type": "execute_result"
    }
   ],
   "source": [
    "heart_test.shape[1]"
   ]
  },
  {
   "cell_type": "markdown",
   "metadata": {},
   "source": [
    "#Standardise"
   ]
  },
  {
   "cell_type": "code",
   "execution_count": 925,
   "metadata": {},
   "outputs": [
    {
     "data": {
      "text/html": [
       "<div>\n",
       "<style scoped>\n",
       "    .dataframe tbody tr th:only-of-type {\n",
       "        vertical-align: middle;\n",
       "    }\n",
       "\n",
       "    .dataframe tbody tr th {\n",
       "        vertical-align: top;\n",
       "    }\n",
       "\n",
       "    .dataframe thead th {\n",
       "        text-align: right;\n",
       "    }\n",
       "</style>\n",
       "<table border=\"1\" class=\"dataframe\">\n",
       "  <thead>\n",
       "    <tr style=\"text-align: right;\">\n",
       "      <th></th>\n",
       "      <th>age</th>\n",
       "      <th>restingBP</th>\n",
       "      <th>serumcholesterol</th>\n",
       "      <th>NumCigs</th>\n",
       "      <th>SmokingPeriod</th>\n",
       "      <th>ExTestDuration</th>\n",
       "      <th>TimeSTNoted</th>\n",
       "      <th>Metabolism</th>\n",
       "      <th>MaxHR</th>\n",
       "      <th>RestHRGen</th>\n",
       "      <th>...</th>\n",
       "      <th>laddistance_2.0</th>\n",
       "      <th>cxmain_2.0</th>\n",
       "      <th>ramus_2.0</th>\n",
       "      <th>obtuseMarginal1_2.0</th>\n",
       "      <th>obtuseMarginal2_2.0</th>\n",
       "      <th>rcaproximation_2.0</th>\n",
       "      <th>rcadistance_2.0</th>\n",
       "      <th>Location_Hungarian</th>\n",
       "      <th>Location_Switzerland</th>\n",
       "      <th>Location_Va</th>\n",
       "    </tr>\n",
       "  </thead>\n",
       "  <tbody>\n",
       "    <tr>\n",
       "      <th>0</th>\n",
       "      <td>37.0</td>\n",
       "      <td>118.0</td>\n",
       "      <td>240.0</td>\n",
       "      <td>19.0</td>\n",
       "      <td>19.0</td>\n",
       "      <td>12.0</td>\n",
       "      <td>6.0</td>\n",
       "      <td>13.0</td>\n",
       "      <td>165.0</td>\n",
       "      <td>63.0</td>\n",
       "      <td>...</td>\n",
       "      <td>0</td>\n",
       "      <td>0</td>\n",
       "      <td>0</td>\n",
       "      <td>0</td>\n",
       "      <td>0</td>\n",
       "      <td>0</td>\n",
       "      <td>0</td>\n",
       "      <td>0</td>\n",
       "      <td>0</td>\n",
       "      <td>1</td>\n",
       "    </tr>\n",
       "    <tr>\n",
       "      <th>1</th>\n",
       "      <td>41.0</td>\n",
       "      <td>126.0</td>\n",
       "      <td>306.0</td>\n",
       "      <td>0.0</td>\n",
       "      <td>0.0</td>\n",
       "      <td>7.0</td>\n",
       "      <td>6.0</td>\n",
       "      <td>8.0</td>\n",
       "      <td>163.0</td>\n",
       "      <td>94.0</td>\n",
       "      <td>...</td>\n",
       "      <td>0</td>\n",
       "      <td>0</td>\n",
       "      <td>0</td>\n",
       "      <td>0</td>\n",
       "      <td>0</td>\n",
       "      <td>0</td>\n",
       "      <td>0</td>\n",
       "      <td>0</td>\n",
       "      <td>0</td>\n",
       "      <td>0</td>\n",
       "    </tr>\n",
       "    <tr>\n",
       "      <th>2</th>\n",
       "      <td>54.0</td>\n",
       "      <td>120.0</td>\n",
       "      <td>171.0</td>\n",
       "      <td>19.0</td>\n",
       "      <td>19.0</td>\n",
       "      <td>13.0</td>\n",
       "      <td>10.0</td>\n",
       "      <td>7.0</td>\n",
       "      <td>137.0</td>\n",
       "      <td>68.0</td>\n",
       "      <td>...</td>\n",
       "      <td>0</td>\n",
       "      <td>0</td>\n",
       "      <td>0</td>\n",
       "      <td>0</td>\n",
       "      <td>0</td>\n",
       "      <td>0</td>\n",
       "      <td>0</td>\n",
       "      <td>1</td>\n",
       "      <td>0</td>\n",
       "      <td>0</td>\n",
       "    </tr>\n",
       "    <tr>\n",
       "      <th>3</th>\n",
       "      <td>44.0</td>\n",
       "      <td>130.0</td>\n",
       "      <td>215.0</td>\n",
       "      <td>19.0</td>\n",
       "      <td>19.0</td>\n",
       "      <td>5.0</td>\n",
       "      <td>6.0</td>\n",
       "      <td>3.0</td>\n",
       "      <td>135.0</td>\n",
       "      <td>82.0</td>\n",
       "      <td>...</td>\n",
       "      <td>0</td>\n",
       "      <td>0</td>\n",
       "      <td>0</td>\n",
       "      <td>0</td>\n",
       "      <td>0</td>\n",
       "      <td>0</td>\n",
       "      <td>0</td>\n",
       "      <td>1</td>\n",
       "      <td>0</td>\n",
       "      <td>0</td>\n",
       "    </tr>\n",
       "    <tr>\n",
       "      <th>4</th>\n",
       "      <td>58.0</td>\n",
       "      <td>130.0</td>\n",
       "      <td>251.0</td>\n",
       "      <td>19.0</td>\n",
       "      <td>19.0</td>\n",
       "      <td>12.0</td>\n",
       "      <td>6.0</td>\n",
       "      <td>5.0</td>\n",
       "      <td>110.0</td>\n",
       "      <td>58.0</td>\n",
       "      <td>...</td>\n",
       "      <td>0</td>\n",
       "      <td>0</td>\n",
       "      <td>0</td>\n",
       "      <td>0</td>\n",
       "      <td>0</td>\n",
       "      <td>0</td>\n",
       "      <td>0</td>\n",
       "      <td>1</td>\n",
       "      <td>0</td>\n",
       "      <td>0</td>\n",
       "    </tr>\n",
       "    <tr>\n",
       "      <th>5</th>\n",
       "      <td>63.0</td>\n",
       "      <td>130.0</td>\n",
       "      <td>0.0</td>\n",
       "      <td>50.0</td>\n",
       "      <td>19.0</td>\n",
       "      <td>5.2</td>\n",
       "      <td>6.0</td>\n",
       "      <td>5.0</td>\n",
       "      <td>111.0</td>\n",
       "      <td>71.0</td>\n",
       "      <td>...</td>\n",
       "      <td>0</td>\n",
       "      <td>1</td>\n",
       "      <td>0</td>\n",
       "      <td>1</td>\n",
       "      <td>1</td>\n",
       "      <td>1</td>\n",
       "      <td>0</td>\n",
       "      <td>0</td>\n",
       "      <td>0</td>\n",
       "      <td>1</td>\n",
       "    </tr>\n",
       "    <tr>\n",
       "      <th>6</th>\n",
       "      <td>42.0</td>\n",
       "      <td>120.0</td>\n",
       "      <td>295.0</td>\n",
       "      <td>40.0</td>\n",
       "      <td>20.0</td>\n",
       "      <td>10.5</td>\n",
       "      <td>6.0</td>\n",
       "      <td>11.0</td>\n",
       "      <td>162.0</td>\n",
       "      <td>77.0</td>\n",
       "      <td>...</td>\n",
       "      <td>0</td>\n",
       "      <td>0</td>\n",
       "      <td>0</td>\n",
       "      <td>0</td>\n",
       "      <td>0</td>\n",
       "      <td>0</td>\n",
       "      <td>0</td>\n",
       "      <td>0</td>\n",
       "      <td>0</td>\n",
       "      <td>0</td>\n",
       "    </tr>\n",
       "    <tr>\n",
       "      <th>7</th>\n",
       "      <td>66.0</td>\n",
       "      <td>120.0</td>\n",
       "      <td>302.0</td>\n",
       "      <td>20.0</td>\n",
       "      <td>30.0</td>\n",
       "      <td>8.0</td>\n",
       "      <td>0.0</td>\n",
       "      <td>9.0</td>\n",
       "      <td>151.0</td>\n",
       "      <td>73.0</td>\n",
       "      <td>...</td>\n",
       "      <td>0</td>\n",
       "      <td>0</td>\n",
       "      <td>0</td>\n",
       "      <td>0</td>\n",
       "      <td>0</td>\n",
       "      <td>0</td>\n",
       "      <td>0</td>\n",
       "      <td>0</td>\n",
       "      <td>0</td>\n",
       "      <td>0</td>\n",
       "    </tr>\n",
       "    <tr>\n",
       "      <th>8</th>\n",
       "      <td>52.0</td>\n",
       "      <td>140.0</td>\n",
       "      <td>100.0</td>\n",
       "      <td>19.0</td>\n",
       "      <td>19.0</td>\n",
       "      <td>7.5</td>\n",
       "      <td>6.0</td>\n",
       "      <td>6.0</td>\n",
       "      <td>138.0</td>\n",
       "      <td>100.0</td>\n",
       "      <td>...</td>\n",
       "      <td>0</td>\n",
       "      <td>0</td>\n",
       "      <td>0</td>\n",
       "      <td>0</td>\n",
       "      <td>0</td>\n",
       "      <td>0</td>\n",
       "      <td>0</td>\n",
       "      <td>1</td>\n",
       "      <td>0</td>\n",
       "      <td>0</td>\n",
       "    </tr>\n",
       "    <tr>\n",
       "      <th>9</th>\n",
       "      <td>56.0</td>\n",
       "      <td>125.0</td>\n",
       "      <td>0.0</td>\n",
       "      <td>19.0</td>\n",
       "      <td>19.0</td>\n",
       "      <td>6.5</td>\n",
       "      <td>6.0</td>\n",
       "      <td>100.0</td>\n",
       "      <td>103.0</td>\n",
       "      <td>55.0</td>\n",
       "      <td>...</td>\n",
       "      <td>0</td>\n",
       "      <td>1</td>\n",
       "      <td>0</td>\n",
       "      <td>0</td>\n",
       "      <td>0</td>\n",
       "      <td>1</td>\n",
       "      <td>0</td>\n",
       "      <td>0</td>\n",
       "      <td>1</td>\n",
       "      <td>0</td>\n",
       "    </tr>\n",
       "  </tbody>\n",
       "</table>\n",
       "<p>10 rows × 57 columns</p>\n",
       "</div>"
      ],
      "text/plain": [
       "    age  restingBP  serumcholesterol  NumCigs  SmokingPeriod  ExTestDuration  \\\n",
       "0  37.0      118.0             240.0     19.0           19.0            12.0   \n",
       "1  41.0      126.0             306.0      0.0            0.0             7.0   \n",
       "2  54.0      120.0             171.0     19.0           19.0            13.0   \n",
       "3  44.0      130.0             215.0     19.0           19.0             5.0   \n",
       "4  58.0      130.0             251.0     19.0           19.0            12.0   \n",
       "5  63.0      130.0               0.0     50.0           19.0             5.2   \n",
       "6  42.0      120.0             295.0     40.0           20.0            10.5   \n",
       "7  66.0      120.0             302.0     20.0           30.0             8.0   \n",
       "8  52.0      140.0             100.0     19.0           19.0             7.5   \n",
       "9  56.0      125.0               0.0     19.0           19.0             6.5   \n",
       "\n",
       "   TimeSTNoted  Metabolism  MaxHR  RestHRGen     ...       laddistance_2.0  \\\n",
       "0          6.0        13.0  165.0       63.0     ...                     0   \n",
       "1          6.0         8.0  163.0       94.0     ...                     0   \n",
       "2         10.0         7.0  137.0       68.0     ...                     0   \n",
       "3          6.0         3.0  135.0       82.0     ...                     0   \n",
       "4          6.0         5.0  110.0       58.0     ...                     0   \n",
       "5          6.0         5.0  111.0       71.0     ...                     0   \n",
       "6          6.0        11.0  162.0       77.0     ...                     0   \n",
       "7          0.0         9.0  151.0       73.0     ...                     0   \n",
       "8          6.0         6.0  138.0      100.0     ...                     0   \n",
       "9          6.0       100.0  103.0       55.0     ...                     0   \n",
       "\n",
       "   cxmain_2.0  ramus_2.0  obtuseMarginal1_2.0  obtuseMarginal2_2.0  \\\n",
       "0           0          0                    0                    0   \n",
       "1           0          0                    0                    0   \n",
       "2           0          0                    0                    0   \n",
       "3           0          0                    0                    0   \n",
       "4           0          0                    0                    0   \n",
       "5           1          0                    1                    1   \n",
       "6           0          0                    0                    0   \n",
       "7           0          0                    0                    0   \n",
       "8           0          0                    0                    0   \n",
       "9           1          0                    0                    0   \n",
       "\n",
       "   rcaproximation_2.0  rcadistance_2.0  Location_Hungarian  \\\n",
       "0                   0                0                   0   \n",
       "1                   0                0                   0   \n",
       "2                   0                0                   1   \n",
       "3                   0                0                   1   \n",
       "4                   0                0                   1   \n",
       "5                   1                0                   0   \n",
       "6                   0                0                   0   \n",
       "7                   0                0                   0   \n",
       "8                   0                0                   1   \n",
       "9                   1                0                   0   \n",
       "\n",
       "   Location_Switzerland  Location_Va  \n",
       "0                     0            1  \n",
       "1                     0            0  \n",
       "2                     0            0  \n",
       "3                     0            0  \n",
       "4                     0            0  \n",
       "5                     0            1  \n",
       "6                     0            0  \n",
       "7                     0            0  \n",
       "8                     0            0  \n",
       "9                     1            0  \n",
       "\n",
       "[10 rows x 57 columns]"
      ]
     },
     "execution_count": 925,
     "metadata": {},
     "output_type": "execute_result"
    }
   ],
   "source": [
    "heart_train.head(10)"
   ]
  },
  {
   "cell_type": "code",
   "execution_count": 926,
   "metadata": {},
   "outputs": [
    {
     "data": {
      "text/html": [
       "<div>\n",
       "<style scoped>\n",
       "    .dataframe tbody tr th:only-of-type {\n",
       "        vertical-align: middle;\n",
       "    }\n",
       "\n",
       "    .dataframe tbody tr th {\n",
       "        vertical-align: top;\n",
       "    }\n",
       "\n",
       "    .dataframe thead th {\n",
       "        text-align: right;\n",
       "    }\n",
       "</style>\n",
       "<table border=\"1\" class=\"dataframe\">\n",
       "  <thead>\n",
       "    <tr style=\"text-align: right;\">\n",
       "      <th></th>\n",
       "      <th>age</th>\n",
       "      <th>restingBP</th>\n",
       "      <th>serumcholesterol</th>\n",
       "      <th>NumCigs</th>\n",
       "      <th>SmokingPeriod</th>\n",
       "      <th>ExTestDuration</th>\n",
       "      <th>TimeSTNoted</th>\n",
       "      <th>Metabolism</th>\n",
       "      <th>MaxHR</th>\n",
       "      <th>RestHRGen</th>\n",
       "      <th>...</th>\n",
       "      <th>laddistance_2.0</th>\n",
       "      <th>cxmain_2.0</th>\n",
       "      <th>ramus_2.0</th>\n",
       "      <th>obtuseMarginal1_2.0</th>\n",
       "      <th>obtuseMarginal2_2.0</th>\n",
       "      <th>rcaproximation_2.0</th>\n",
       "      <th>rcadistance_2.0</th>\n",
       "      <th>Location_Hungarian</th>\n",
       "      <th>Location_Switzerland</th>\n",
       "      <th>Location_Va</th>\n",
       "    </tr>\n",
       "  </thead>\n",
       "  <tbody>\n",
       "    <tr>\n",
       "      <th>0</th>\n",
       "      <td>71.0</td>\n",
       "      <td>160.0</td>\n",
       "      <td>302.0</td>\n",
       "      <td>40.0</td>\n",
       "      <td>50.0</td>\n",
       "      <td>5.5</td>\n",
       "      <td>5.5</td>\n",
       "      <td>5.0</td>\n",
       "      <td>162.0</td>\n",
       "      <td>93.0</td>\n",
       "      <td>...</td>\n",
       "      <td>0</td>\n",
       "      <td>0</td>\n",
       "      <td>0</td>\n",
       "      <td>0</td>\n",
       "      <td>0</td>\n",
       "      <td>0</td>\n",
       "      <td>0</td>\n",
       "      <td>0</td>\n",
       "      <td>0</td>\n",
       "      <td>0</td>\n",
       "    </tr>\n",
       "    <tr>\n",
       "      <th>1</th>\n",
       "      <td>60.0</td>\n",
       "      <td>140.0</td>\n",
       "      <td>293.0</td>\n",
       "      <td>30.0</td>\n",
       "      <td>48.0</td>\n",
       "      <td>6.0</td>\n",
       "      <td>3.0</td>\n",
       "      <td>8.0</td>\n",
       "      <td>170.0</td>\n",
       "      <td>94.0</td>\n",
       "      <td>...</td>\n",
       "      <td>1</td>\n",
       "      <td>0</td>\n",
       "      <td>0</td>\n",
       "      <td>0</td>\n",
       "      <td>0</td>\n",
       "      <td>1</td>\n",
       "      <td>0</td>\n",
       "      <td>0</td>\n",
       "      <td>0</td>\n",
       "      <td>0</td>\n",
       "    </tr>\n",
       "    <tr>\n",
       "      <th>2</th>\n",
       "      <td>53.0</td>\n",
       "      <td>120.0</td>\n",
       "      <td>0.0</td>\n",
       "      <td>19.0</td>\n",
       "      <td>19.0</td>\n",
       "      <td>10.0</td>\n",
       "      <td>0.0</td>\n",
       "      <td>125.0</td>\n",
       "      <td>95.0</td>\n",
       "      <td>56.0</td>\n",
       "      <td>...</td>\n",
       "      <td>1</td>\n",
       "      <td>0</td>\n",
       "      <td>1</td>\n",
       "      <td>1</td>\n",
       "      <td>0</td>\n",
       "      <td>1</td>\n",
       "      <td>1</td>\n",
       "      <td>0</td>\n",
       "      <td>1</td>\n",
       "      <td>0</td>\n",
       "    </tr>\n",
       "    <tr>\n",
       "      <th>3</th>\n",
       "      <td>37.0</td>\n",
       "      <td>130.0</td>\n",
       "      <td>283.0</td>\n",
       "      <td>19.0</td>\n",
       "      <td>19.0</td>\n",
       "      <td>10.0</td>\n",
       "      <td>6.0</td>\n",
       "      <td>5.0</td>\n",
       "      <td>98.0</td>\n",
       "      <td>58.0</td>\n",
       "      <td>...</td>\n",
       "      <td>0</td>\n",
       "      <td>0</td>\n",
       "      <td>0</td>\n",
       "      <td>0</td>\n",
       "      <td>0</td>\n",
       "      <td>0</td>\n",
       "      <td>0</td>\n",
       "      <td>1</td>\n",
       "      <td>0</td>\n",
       "      <td>0</td>\n",
       "    </tr>\n",
       "    <tr>\n",
       "      <th>4</th>\n",
       "      <td>51.0</td>\n",
       "      <td>130.0</td>\n",
       "      <td>0.0</td>\n",
       "      <td>40.0</td>\n",
       "      <td>30.0</td>\n",
       "      <td>8.0</td>\n",
       "      <td>6.0</td>\n",
       "      <td>7.0</td>\n",
       "      <td>138.0</td>\n",
       "      <td>74.0</td>\n",
       "      <td>...</td>\n",
       "      <td>0</td>\n",
       "      <td>1</td>\n",
       "      <td>0</td>\n",
       "      <td>0</td>\n",
       "      <td>0</td>\n",
       "      <td>1</td>\n",
       "      <td>0</td>\n",
       "      <td>0</td>\n",
       "      <td>0</td>\n",
       "      <td>1</td>\n",
       "    </tr>\n",
       "    <tr>\n",
       "      <th>5</th>\n",
       "      <td>55.0</td>\n",
       "      <td>130.0</td>\n",
       "      <td>245.0</td>\n",
       "      <td>30.0</td>\n",
       "      <td>18.0</td>\n",
       "      <td>8.0</td>\n",
       "      <td>6.0</td>\n",
       "      <td>7.0</td>\n",
       "      <td>138.0</td>\n",
       "      <td>74.0</td>\n",
       "      <td>...</td>\n",
       "      <td>0</td>\n",
       "      <td>0</td>\n",
       "      <td>0</td>\n",
       "      <td>0</td>\n",
       "      <td>0</td>\n",
       "      <td>1</td>\n",
       "      <td>0</td>\n",
       "      <td>0</td>\n",
       "      <td>0</td>\n",
       "      <td>1</td>\n",
       "    </tr>\n",
       "    <tr>\n",
       "      <th>6</th>\n",
       "      <td>64.0</td>\n",
       "      <td>130.0</td>\n",
       "      <td>258.0</td>\n",
       "      <td>0.0</td>\n",
       "      <td>0.0</td>\n",
       "      <td>9.0</td>\n",
       "      <td>6.0</td>\n",
       "      <td>9.0</td>\n",
       "      <td>130.0</td>\n",
       "      <td>72.0</td>\n",
       "      <td>...</td>\n",
       "      <td>0</td>\n",
       "      <td>0</td>\n",
       "      <td>0</td>\n",
       "      <td>0</td>\n",
       "      <td>0</td>\n",
       "      <td>1</td>\n",
       "      <td>0</td>\n",
       "      <td>0</td>\n",
       "      <td>0</td>\n",
       "      <td>1</td>\n",
       "    </tr>\n",
       "    <tr>\n",
       "      <th>7</th>\n",
       "      <td>54.0</td>\n",
       "      <td>125.0</td>\n",
       "      <td>273.0</td>\n",
       "      <td>50.0</td>\n",
       "      <td>30.0</td>\n",
       "      <td>10.5</td>\n",
       "      <td>6.0</td>\n",
       "      <td>13.0</td>\n",
       "      <td>152.0</td>\n",
       "      <td>67.0</td>\n",
       "      <td>...</td>\n",
       "      <td>0</td>\n",
       "      <td>0</td>\n",
       "      <td>0</td>\n",
       "      <td>0</td>\n",
       "      <td>0</td>\n",
       "      <td>0</td>\n",
       "      <td>0</td>\n",
       "      <td>0</td>\n",
       "      <td>0</td>\n",
       "      <td>0</td>\n",
       "    </tr>\n",
       "    <tr>\n",
       "      <th>8</th>\n",
       "      <td>55.0</td>\n",
       "      <td>110.0</td>\n",
       "      <td>214.0</td>\n",
       "      <td>0.0</td>\n",
       "      <td>0.0</td>\n",
       "      <td>4.0</td>\n",
       "      <td>6.0</td>\n",
       "      <td>4.0</td>\n",
       "      <td>180.0</td>\n",
       "      <td>139.0</td>\n",
       "      <td>...</td>\n",
       "      <td>0</td>\n",
       "      <td>0</td>\n",
       "      <td>0</td>\n",
       "      <td>0</td>\n",
       "      <td>0</td>\n",
       "      <td>0</td>\n",
       "      <td>0</td>\n",
       "      <td>0</td>\n",
       "      <td>0</td>\n",
       "      <td>1</td>\n",
       "    </tr>\n",
       "    <tr>\n",
       "      <th>9</th>\n",
       "      <td>50.0</td>\n",
       "      <td>160.0</td>\n",
       "      <td>0.0</td>\n",
       "      <td>19.0</td>\n",
       "      <td>19.0</td>\n",
       "      <td>6.0</td>\n",
       "      <td>6.0</td>\n",
       "      <td>75.0</td>\n",
       "      <td>110.0</td>\n",
       "      <td>74.0</td>\n",
       "      <td>...</td>\n",
       "      <td>0</td>\n",
       "      <td>0</td>\n",
       "      <td>0</td>\n",
       "      <td>0</td>\n",
       "      <td>0</td>\n",
       "      <td>1</td>\n",
       "      <td>0</td>\n",
       "      <td>0</td>\n",
       "      <td>1</td>\n",
       "      <td>0</td>\n",
       "    </tr>\n",
       "  </tbody>\n",
       "</table>\n",
       "<p>10 rows × 56 columns</p>\n",
       "</div>"
      ],
      "text/plain": [
       "    age  restingBP  serumcholesterol  NumCigs  SmokingPeriod  ExTestDuration  \\\n",
       "0  71.0      160.0             302.0     40.0           50.0             5.5   \n",
       "1  60.0      140.0             293.0     30.0           48.0             6.0   \n",
       "2  53.0      120.0               0.0     19.0           19.0            10.0   \n",
       "3  37.0      130.0             283.0     19.0           19.0            10.0   \n",
       "4  51.0      130.0               0.0     40.0           30.0             8.0   \n",
       "5  55.0      130.0             245.0     30.0           18.0             8.0   \n",
       "6  64.0      130.0             258.0      0.0            0.0             9.0   \n",
       "7  54.0      125.0             273.0     50.0           30.0            10.5   \n",
       "8  55.0      110.0             214.0      0.0            0.0             4.0   \n",
       "9  50.0      160.0               0.0     19.0           19.0             6.0   \n",
       "\n",
       "   TimeSTNoted  Metabolism  MaxHR  RestHRGen     ...       laddistance_2.0  \\\n",
       "0          5.5         5.0  162.0       93.0     ...                     0   \n",
       "1          3.0         8.0  170.0       94.0     ...                     1   \n",
       "2          0.0       125.0   95.0       56.0     ...                     1   \n",
       "3          6.0         5.0   98.0       58.0     ...                     0   \n",
       "4          6.0         7.0  138.0       74.0     ...                     0   \n",
       "5          6.0         7.0  138.0       74.0     ...                     0   \n",
       "6          6.0         9.0  130.0       72.0     ...                     0   \n",
       "7          6.0        13.0  152.0       67.0     ...                     0   \n",
       "8          6.0         4.0  180.0      139.0     ...                     0   \n",
       "9          6.0        75.0  110.0       74.0     ...                     0   \n",
       "\n",
       "   cxmain_2.0  ramus_2.0  obtuseMarginal1_2.0  obtuseMarginal2_2.0  \\\n",
       "0           0          0                    0                    0   \n",
       "1           0          0                    0                    0   \n",
       "2           0          1                    1                    0   \n",
       "3           0          0                    0                    0   \n",
       "4           1          0                    0                    0   \n",
       "5           0          0                    0                    0   \n",
       "6           0          0                    0                    0   \n",
       "7           0          0                    0                    0   \n",
       "8           0          0                    0                    0   \n",
       "9           0          0                    0                    0   \n",
       "\n",
       "   rcaproximation_2.0  rcadistance_2.0  Location_Hungarian  \\\n",
       "0                   0                0                   0   \n",
       "1                   1                0                   0   \n",
       "2                   1                1                   0   \n",
       "3                   0                0                   1   \n",
       "4                   1                0                   0   \n",
       "5                   1                0                   0   \n",
       "6                   1                0                   0   \n",
       "7                   0                0                   0   \n",
       "8                   0                0                   0   \n",
       "9                   1                0                   0   \n",
       "\n",
       "   Location_Switzerland  Location_Va  \n",
       "0                     0            0  \n",
       "1                     0            0  \n",
       "2                     1            0  \n",
       "3                     0            0  \n",
       "4                     0            1  \n",
       "5                     0            1  \n",
       "6                     0            1  \n",
       "7                     0            0  \n",
       "8                     0            1  \n",
       "9                     1            0  \n",
       "\n",
       "[10 rows x 56 columns]"
      ]
     },
     "execution_count": 926,
     "metadata": {},
     "output_type": "execute_result"
    }
   ],
   "source": [
    "heart_test.head(10)"
   ]
  },
  {
   "cell_type": "code",
   "execution_count": 927,
   "metadata": {},
   "outputs": [],
   "source": [
    "from sklearn.preprocessing import  StandardScaler\n",
    "def Standardize(df,num_cols):\n",
    "    scaler = StandardScaler(with_mean=True, with_std=True).fit(df[num_cols])\n",
    "    df = pd.DataFrame(scaler.transform(df[num_cols]),columns=num_cols)\n",
    "    return df"
   ]
  },
  {
   "cell_type": "code",
   "execution_count": 928,
   "metadata": {},
   "outputs": [],
   "source": [
    "heart_train[num_cols]=Standardize(heart_train,num_cols)\n",
    "heart_test[num_cols]=Standardize(heart_test,num_cols)"
   ]
  },
  {
   "cell_type": "code",
   "execution_count": 929,
   "metadata": {},
   "outputs": [
    {
     "data": {
      "text/html": [
       "<div>\n",
       "<style scoped>\n",
       "    .dataframe tbody tr th:only-of-type {\n",
       "        vertical-align: middle;\n",
       "    }\n",
       "\n",
       "    .dataframe tbody tr th {\n",
       "        vertical-align: top;\n",
       "    }\n",
       "\n",
       "    .dataframe thead th {\n",
       "        text-align: right;\n",
       "    }\n",
       "</style>\n",
       "<table border=\"1\" class=\"dataframe\">\n",
       "  <thead>\n",
       "    <tr style=\"text-align: right;\">\n",
       "      <th></th>\n",
       "      <th>age</th>\n",
       "      <th>restingBP</th>\n",
       "      <th>serumcholesterol</th>\n",
       "      <th>NumCigs</th>\n",
       "      <th>SmokingPeriod</th>\n",
       "      <th>ExTestDuration</th>\n",
       "      <th>TimeSTNoted</th>\n",
       "      <th>Metabolism</th>\n",
       "      <th>MaxHR</th>\n",
       "      <th>RestHRGen</th>\n",
       "      <th>...</th>\n",
       "      <th>laddistance_2.0</th>\n",
       "      <th>cxmain_2.0</th>\n",
       "      <th>ramus_2.0</th>\n",
       "      <th>obtuseMarginal1_2.0</th>\n",
       "      <th>obtuseMarginal2_2.0</th>\n",
       "      <th>rcaproximation_2.0</th>\n",
       "      <th>rcadistance_2.0</th>\n",
       "      <th>Location_Hungarian</th>\n",
       "      <th>Location_Switzerland</th>\n",
       "      <th>Location_Va</th>\n",
       "    </tr>\n",
       "  </thead>\n",
       "  <tbody>\n",
       "    <tr>\n",
       "      <th>0</th>\n",
       "      <td>-1.767553</td>\n",
       "      <td>-0.738326</td>\n",
       "      <td>0.341249</td>\n",
       "      <td>0.032066</td>\n",
       "      <td>0.041774</td>\n",
       "      <td>0.924170</td>\n",
       "      <td>0.057176</td>\n",
       "      <td>-0.061750</td>\n",
       "      <td>1.100886</td>\n",
       "      <td>-0.869086</td>\n",
       "      <td>...</td>\n",
       "      <td>0</td>\n",
       "      <td>0</td>\n",
       "      <td>0</td>\n",
       "      <td>0</td>\n",
       "      <td>0</td>\n",
       "      <td>0</td>\n",
       "      <td>0</td>\n",
       "      <td>0</td>\n",
       "      <td>0</td>\n",
       "      <td>1</td>\n",
       "    </tr>\n",
       "    <tr>\n",
       "      <th>1</th>\n",
       "      <td>-1.344983</td>\n",
       "      <td>-0.299594</td>\n",
       "      <td>0.948431</td>\n",
       "      <td>-1.418937</td>\n",
       "      <td>-1.574428</td>\n",
       "      <td>-0.469570</td>\n",
       "      <td>0.057176</td>\n",
       "      <td>-0.240252</td>\n",
       "      <td>1.020331</td>\n",
       "      <td>1.391425</td>\n",
       "      <td>...</td>\n",
       "      <td>0</td>\n",
       "      <td>0</td>\n",
       "      <td>0</td>\n",
       "      <td>0</td>\n",
       "      <td>0</td>\n",
       "      <td>0</td>\n",
       "      <td>0</td>\n",
       "      <td>0</td>\n",
       "      <td>0</td>\n",
       "      <td>0</td>\n",
       "    </tr>\n",
       "    <tr>\n",
       "      <th>2</th>\n",
       "      <td>0.028370</td>\n",
       "      <td>-0.628643</td>\n",
       "      <td>-0.293531</td>\n",
       "      <td>0.032066</td>\n",
       "      <td>0.041774</td>\n",
       "      <td>1.202917</td>\n",
       "      <td>1.438425</td>\n",
       "      <td>-0.275953</td>\n",
       "      <td>-0.026892</td>\n",
       "      <td>-0.504487</td>\n",
       "      <td>...</td>\n",
       "      <td>0</td>\n",
       "      <td>0</td>\n",
       "      <td>0</td>\n",
       "      <td>0</td>\n",
       "      <td>0</td>\n",
       "      <td>0</td>\n",
       "      <td>0</td>\n",
       "      <td>1</td>\n",
       "      <td>0</td>\n",
       "      <td>0</td>\n",
       "    </tr>\n",
       "    <tr>\n",
       "      <th>3</th>\n",
       "      <td>-1.028056</td>\n",
       "      <td>-0.080228</td>\n",
       "      <td>0.111257</td>\n",
       "      <td>0.032066</td>\n",
       "      <td>0.041774</td>\n",
       "      <td>-1.027066</td>\n",
       "      <td>0.057176</td>\n",
       "      <td>-0.418755</td>\n",
       "      <td>-0.107447</td>\n",
       "      <td>0.516388</td>\n",
       "      <td>...</td>\n",
       "      <td>0</td>\n",
       "      <td>0</td>\n",
       "      <td>0</td>\n",
       "      <td>0</td>\n",
       "      <td>0</td>\n",
       "      <td>0</td>\n",
       "      <td>0</td>\n",
       "      <td>1</td>\n",
       "      <td>0</td>\n",
       "      <td>0</td>\n",
       "    </tr>\n",
       "    <tr>\n",
       "      <th>4</th>\n",
       "      <td>0.450940</td>\n",
       "      <td>-0.080228</td>\n",
       "      <td>0.442446</td>\n",
       "      <td>0.032066</td>\n",
       "      <td>0.041774</td>\n",
       "      <td>0.924170</td>\n",
       "      <td>0.057176</td>\n",
       "      <td>-0.347354</td>\n",
       "      <td>-1.114392</td>\n",
       "      <td>-1.233684</td>\n",
       "      <td>...</td>\n",
       "      <td>0</td>\n",
       "      <td>0</td>\n",
       "      <td>0</td>\n",
       "      <td>0</td>\n",
       "      <td>0</td>\n",
       "      <td>0</td>\n",
       "      <td>0</td>\n",
       "      <td>1</td>\n",
       "      <td>0</td>\n",
       "      <td>0</td>\n",
       "    </tr>\n",
       "    <tr>\n",
       "      <th>5</th>\n",
       "      <td>0.979153</td>\n",
       "      <td>-0.080228</td>\n",
       "      <td>-1.866683</td>\n",
       "      <td>2.399491</td>\n",
       "      <td>0.041774</td>\n",
       "      <td>-0.971317</td>\n",
       "      <td>0.057176</td>\n",
       "      <td>-0.347354</td>\n",
       "      <td>-1.074114</td>\n",
       "      <td>-0.285728</td>\n",
       "      <td>...</td>\n",
       "      <td>0</td>\n",
       "      <td>1</td>\n",
       "      <td>0</td>\n",
       "      <td>1</td>\n",
       "      <td>1</td>\n",
       "      <td>1</td>\n",
       "      <td>0</td>\n",
       "      <td>0</td>\n",
       "      <td>0</td>\n",
       "      <td>1</td>\n",
       "    </tr>\n",
       "    <tr>\n",
       "      <th>6</th>\n",
       "      <td>-1.239341</td>\n",
       "      <td>-0.628643</td>\n",
       "      <td>0.847234</td>\n",
       "      <td>1.635805</td>\n",
       "      <td>0.126838</td>\n",
       "      <td>0.506048</td>\n",
       "      <td>0.057176</td>\n",
       "      <td>-0.133151</td>\n",
       "      <td>0.980053</td>\n",
       "      <td>0.151790</td>\n",
       "      <td>...</td>\n",
       "      <td>0</td>\n",
       "      <td>0</td>\n",
       "      <td>0</td>\n",
       "      <td>0</td>\n",
       "      <td>0</td>\n",
       "      <td>0</td>\n",
       "      <td>0</td>\n",
       "      <td>0</td>\n",
       "      <td>0</td>\n",
       "      <td>0</td>\n",
       "    </tr>\n",
       "    <tr>\n",
       "      <th>7</th>\n",
       "      <td>1.296080</td>\n",
       "      <td>-0.628643</td>\n",
       "      <td>0.911632</td>\n",
       "      <td>0.108434</td>\n",
       "      <td>0.977471</td>\n",
       "      <td>-0.190822</td>\n",
       "      <td>-2.014697</td>\n",
       "      <td>-0.204552</td>\n",
       "      <td>0.536997</td>\n",
       "      <td>-0.139889</td>\n",
       "      <td>...</td>\n",
       "      <td>0</td>\n",
       "      <td>0</td>\n",
       "      <td>0</td>\n",
       "      <td>0</td>\n",
       "      <td>0</td>\n",
       "      <td>0</td>\n",
       "      <td>0</td>\n",
       "      <td>0</td>\n",
       "      <td>0</td>\n",
       "      <td>0</td>\n",
       "    </tr>\n",
       "    <tr>\n",
       "      <th>8</th>\n",
       "      <td>-0.182915</td>\n",
       "      <td>0.468187</td>\n",
       "      <td>-0.946711</td>\n",
       "      <td>0.032066</td>\n",
       "      <td>0.041774</td>\n",
       "      <td>-0.330196</td>\n",
       "      <td>0.057176</td>\n",
       "      <td>-0.311653</td>\n",
       "      <td>0.013386</td>\n",
       "      <td>1.828943</td>\n",
       "      <td>...</td>\n",
       "      <td>0</td>\n",
       "      <td>0</td>\n",
       "      <td>0</td>\n",
       "      <td>0</td>\n",
       "      <td>0</td>\n",
       "      <td>0</td>\n",
       "      <td>0</td>\n",
       "      <td>1</td>\n",
       "      <td>0</td>\n",
       "      <td>0</td>\n",
       "    </tr>\n",
       "    <tr>\n",
       "      <th>9</th>\n",
       "      <td>0.239655</td>\n",
       "      <td>-0.354436</td>\n",
       "      <td>-1.866683</td>\n",
       "      <td>0.032066</td>\n",
       "      <td>0.041774</td>\n",
       "      <td>-0.608944</td>\n",
       "      <td>0.057176</td>\n",
       "      <td>3.044189</td>\n",
       "      <td>-1.396336</td>\n",
       "      <td>-1.452443</td>\n",
       "      <td>...</td>\n",
       "      <td>0</td>\n",
       "      <td>1</td>\n",
       "      <td>0</td>\n",
       "      <td>0</td>\n",
       "      <td>0</td>\n",
       "      <td>1</td>\n",
       "      <td>0</td>\n",
       "      <td>0</td>\n",
       "      <td>1</td>\n",
       "      <td>0</td>\n",
       "    </tr>\n",
       "  </tbody>\n",
       "</table>\n",
       "<p>10 rows × 57 columns</p>\n",
       "</div>"
      ],
      "text/plain": [
       "        age  restingBP  serumcholesterol   NumCigs  SmokingPeriod  \\\n",
       "0 -1.767553  -0.738326          0.341249  0.032066       0.041774   \n",
       "1 -1.344983  -0.299594          0.948431 -1.418937      -1.574428   \n",
       "2  0.028370  -0.628643         -0.293531  0.032066       0.041774   \n",
       "3 -1.028056  -0.080228          0.111257  0.032066       0.041774   \n",
       "4  0.450940  -0.080228          0.442446  0.032066       0.041774   \n",
       "5  0.979153  -0.080228         -1.866683  2.399491       0.041774   \n",
       "6 -1.239341  -0.628643          0.847234  1.635805       0.126838   \n",
       "7  1.296080  -0.628643          0.911632  0.108434       0.977471   \n",
       "8 -0.182915   0.468187         -0.946711  0.032066       0.041774   \n",
       "9  0.239655  -0.354436         -1.866683  0.032066       0.041774   \n",
       "\n",
       "   ExTestDuration  TimeSTNoted  Metabolism     MaxHR  RestHRGen     ...       \\\n",
       "0        0.924170     0.057176   -0.061750  1.100886  -0.869086     ...        \n",
       "1       -0.469570     0.057176   -0.240252  1.020331   1.391425     ...        \n",
       "2        1.202917     1.438425   -0.275953 -0.026892  -0.504487     ...        \n",
       "3       -1.027066     0.057176   -0.418755 -0.107447   0.516388     ...        \n",
       "4        0.924170     0.057176   -0.347354 -1.114392  -1.233684     ...        \n",
       "5       -0.971317     0.057176   -0.347354 -1.074114  -0.285728     ...        \n",
       "6        0.506048     0.057176   -0.133151  0.980053   0.151790     ...        \n",
       "7       -0.190822    -2.014697   -0.204552  0.536997  -0.139889     ...        \n",
       "8       -0.330196     0.057176   -0.311653  0.013386   1.828943     ...        \n",
       "9       -0.608944     0.057176    3.044189 -1.396336  -1.452443     ...        \n",
       "\n",
       "   laddistance_2.0  cxmain_2.0  ramus_2.0  obtuseMarginal1_2.0  \\\n",
       "0                0           0          0                    0   \n",
       "1                0           0          0                    0   \n",
       "2                0           0          0                    0   \n",
       "3                0           0          0                    0   \n",
       "4                0           0          0                    0   \n",
       "5                0           1          0                    1   \n",
       "6                0           0          0                    0   \n",
       "7                0           0          0                    0   \n",
       "8                0           0          0                    0   \n",
       "9                0           1          0                    0   \n",
       "\n",
       "   obtuseMarginal2_2.0  rcaproximation_2.0  rcadistance_2.0  \\\n",
       "0                    0                   0                0   \n",
       "1                    0                   0                0   \n",
       "2                    0                   0                0   \n",
       "3                    0                   0                0   \n",
       "4                    0                   0                0   \n",
       "5                    1                   1                0   \n",
       "6                    0                   0                0   \n",
       "7                    0                   0                0   \n",
       "8                    0                   0                0   \n",
       "9                    0                   1                0   \n",
       "\n",
       "   Location_Hungarian  Location_Switzerland  Location_Va  \n",
       "0                   0                     0            1  \n",
       "1                   0                     0            0  \n",
       "2                   1                     0            0  \n",
       "3                   1                     0            0  \n",
       "4                   1                     0            0  \n",
       "5                   0                     0            1  \n",
       "6                   0                     0            0  \n",
       "7                   0                     0            0  \n",
       "8                   1                     0            0  \n",
       "9                   0                     1            0  \n",
       "\n",
       "[10 rows x 57 columns]"
      ]
     },
     "execution_count": 929,
     "metadata": {},
     "output_type": "execute_result"
    }
   ],
   "source": [
    "heart_train.head(10)"
   ]
  },
  {
   "cell_type": "code",
   "execution_count": 930,
   "metadata": {},
   "outputs": [
    {
     "data": {
      "text/html": [
       "<div>\n",
       "<style scoped>\n",
       "    .dataframe tbody tr th:only-of-type {\n",
       "        vertical-align: middle;\n",
       "    }\n",
       "\n",
       "    .dataframe tbody tr th {\n",
       "        vertical-align: top;\n",
       "    }\n",
       "\n",
       "    .dataframe thead th {\n",
       "        text-align: right;\n",
       "    }\n",
       "</style>\n",
       "<table border=\"1\" class=\"dataframe\">\n",
       "  <thead>\n",
       "    <tr style=\"text-align: right;\">\n",
       "      <th></th>\n",
       "      <th>age</th>\n",
       "      <th>restingBP</th>\n",
       "      <th>serumcholesterol</th>\n",
       "      <th>NumCigs</th>\n",
       "      <th>SmokingPeriod</th>\n",
       "      <th>ExTestDuration</th>\n",
       "      <th>TimeSTNoted</th>\n",
       "      <th>Metabolism</th>\n",
       "      <th>MaxHR</th>\n",
       "      <th>RestHRGen</th>\n",
       "      <th>...</th>\n",
       "      <th>laddistance_2.0</th>\n",
       "      <th>cxmain_2.0</th>\n",
       "      <th>ramus_2.0</th>\n",
       "      <th>obtuseMarginal1_2.0</th>\n",
       "      <th>obtuseMarginal2_2.0</th>\n",
       "      <th>rcaproximation_2.0</th>\n",
       "      <th>rcadistance_2.0</th>\n",
       "      <th>Location_Hungarian</th>\n",
       "      <th>Location_Switzerland</th>\n",
       "      <th>Location_Va</th>\n",
       "    </tr>\n",
       "  </thead>\n",
       "  <tbody>\n",
       "    <tr>\n",
       "      <th>0</th>\n",
       "      <td>1.972133</td>\n",
       "      <td>1.383473</td>\n",
       "      <td>0.986935</td>\n",
       "      <td>1.388518</td>\n",
       "      <td>2.541073</td>\n",
       "      <td>-0.804406</td>\n",
       "      <td>-0.148473</td>\n",
       "      <td>-0.386936</td>\n",
       "      <td>0.961767</td>\n",
       "      <td>1.027721</td>\n",
       "      <td>...</td>\n",
       "      <td>0</td>\n",
       "      <td>0</td>\n",
       "      <td>0</td>\n",
       "      <td>0</td>\n",
       "      <td>0</td>\n",
       "      <td>0</td>\n",
       "      <td>0</td>\n",
       "      <td>0</td>\n",
       "      <td>0</td>\n",
       "      <td>0</td>\n",
       "    </tr>\n",
       "    <tr>\n",
       "      <th>1</th>\n",
       "      <td>0.789046</td>\n",
       "      <td>0.343829</td>\n",
       "      <td>0.907236</td>\n",
       "      <td>0.674240</td>\n",
       "      <td>2.371643</td>\n",
       "      <td>-0.671135</td>\n",
       "      <td>-1.122278</td>\n",
       "      <td>-0.293343</td>\n",
       "      <td>1.267831</td>\n",
       "      <td>1.091347</td>\n",
       "      <td>...</td>\n",
       "      <td>1</td>\n",
       "      <td>0</td>\n",
       "      <td>0</td>\n",
       "      <td>0</td>\n",
       "      <td>0</td>\n",
       "      <td>1</td>\n",
       "      <td>0</td>\n",
       "      <td>0</td>\n",
       "      <td>0</td>\n",
       "      <td>0</td>\n",
       "    </tr>\n",
       "    <tr>\n",
       "      <th>2</th>\n",
       "      <td>0.036173</td>\n",
       "      <td>-0.695816</td>\n",
       "      <td>-1.687436</td>\n",
       "      <td>-0.111466</td>\n",
       "      <td>-0.085095</td>\n",
       "      <td>0.395031</td>\n",
       "      <td>-2.290844</td>\n",
       "      <td>3.356794</td>\n",
       "      <td>-1.601515</td>\n",
       "      <td>-1.326451</td>\n",
       "      <td>...</td>\n",
       "      <td>1</td>\n",
       "      <td>0</td>\n",
       "      <td>1</td>\n",
       "      <td>1</td>\n",
       "      <td>0</td>\n",
       "      <td>1</td>\n",
       "      <td>1</td>\n",
       "      <td>0</td>\n",
       "      <td>1</td>\n",
       "      <td>0</td>\n",
       "    </tr>\n",
       "    <tr>\n",
       "      <th>3</th>\n",
       "      <td>-1.684681</td>\n",
       "      <td>-0.175994</td>\n",
       "      <td>0.818680</td>\n",
       "      <td>-0.111466</td>\n",
       "      <td>-0.085095</td>\n",
       "      <td>0.395031</td>\n",
       "      <td>0.046288</td>\n",
       "      <td>-0.386936</td>\n",
       "      <td>-1.486742</td>\n",
       "      <td>-1.199198</td>\n",
       "      <td>...</td>\n",
       "      <td>0</td>\n",
       "      <td>0</td>\n",
       "      <td>0</td>\n",
       "      <td>0</td>\n",
       "      <td>0</td>\n",
       "      <td>0</td>\n",
       "      <td>0</td>\n",
       "      <td>1</td>\n",
       "      <td>0</td>\n",
       "      <td>0</td>\n",
       "    </tr>\n",
       "    <tr>\n",
       "      <th>4</th>\n",
       "      <td>-0.178934</td>\n",
       "      <td>-0.175994</td>\n",
       "      <td>-1.687436</td>\n",
       "      <td>1.388518</td>\n",
       "      <td>0.846771</td>\n",
       "      <td>-0.138052</td>\n",
       "      <td>0.046288</td>\n",
       "      <td>-0.324541</td>\n",
       "      <td>0.043576</td>\n",
       "      <td>-0.181178</td>\n",
       "      <td>...</td>\n",
       "      <td>0</td>\n",
       "      <td>1</td>\n",
       "      <td>0</td>\n",
       "      <td>0</td>\n",
       "      <td>0</td>\n",
       "      <td>1</td>\n",
       "      <td>0</td>\n",
       "      <td>0</td>\n",
       "      <td>0</td>\n",
       "      <td>1</td>\n",
       "    </tr>\n",
       "    <tr>\n",
       "      <th>5</th>\n",
       "      <td>0.251279</td>\n",
       "      <td>-0.175994</td>\n",
       "      <td>0.482170</td>\n",
       "      <td>0.674240</td>\n",
       "      <td>-0.169810</td>\n",
       "      <td>-0.138052</td>\n",
       "      <td>0.046288</td>\n",
       "      <td>-0.324541</td>\n",
       "      <td>0.043576</td>\n",
       "      <td>-0.181178</td>\n",
       "      <td>...</td>\n",
       "      <td>0</td>\n",
       "      <td>0</td>\n",
       "      <td>0</td>\n",
       "      <td>0</td>\n",
       "      <td>0</td>\n",
       "      <td>1</td>\n",
       "      <td>0</td>\n",
       "      <td>0</td>\n",
       "      <td>0</td>\n",
       "      <td>1</td>\n",
       "    </tr>\n",
       "    <tr>\n",
       "      <th>6</th>\n",
       "      <td>1.219260</td>\n",
       "      <td>-0.175994</td>\n",
       "      <td>0.597292</td>\n",
       "      <td>-1.468594</td>\n",
       "      <td>-1.694682</td>\n",
       "      <td>0.128490</td>\n",
       "      <td>0.046288</td>\n",
       "      <td>-0.262145</td>\n",
       "      <td>-0.262487</td>\n",
       "      <td>-0.308430</td>\n",
       "      <td>...</td>\n",
       "      <td>0</td>\n",
       "      <td>0</td>\n",
       "      <td>0</td>\n",
       "      <td>0</td>\n",
       "      <td>0</td>\n",
       "      <td>1</td>\n",
       "      <td>0</td>\n",
       "      <td>0</td>\n",
       "      <td>0</td>\n",
       "      <td>1</td>\n",
       "    </tr>\n",
       "    <tr>\n",
       "      <th>7</th>\n",
       "      <td>0.143726</td>\n",
       "      <td>-0.435905</td>\n",
       "      <td>0.730125</td>\n",
       "      <td>2.102796</td>\n",
       "      <td>0.846771</td>\n",
       "      <td>0.528302</td>\n",
       "      <td>0.046288</td>\n",
       "      <td>-0.137354</td>\n",
       "      <td>0.579188</td>\n",
       "      <td>-0.626562</td>\n",
       "      <td>...</td>\n",
       "      <td>0</td>\n",
       "      <td>0</td>\n",
       "      <td>0</td>\n",
       "      <td>0</td>\n",
       "      <td>0</td>\n",
       "      <td>0</td>\n",
       "      <td>0</td>\n",
       "      <td>0</td>\n",
       "      <td>0</td>\n",
       "      <td>0</td>\n",
       "    </tr>\n",
       "    <tr>\n",
       "      <th>8</th>\n",
       "      <td>0.251279</td>\n",
       "      <td>-1.215638</td>\n",
       "      <td>0.207648</td>\n",
       "      <td>-1.468594</td>\n",
       "      <td>-1.694682</td>\n",
       "      <td>-1.204218</td>\n",
       "      <td>0.046288</td>\n",
       "      <td>-0.418134</td>\n",
       "      <td>1.650410</td>\n",
       "      <td>3.954530</td>\n",
       "      <td>...</td>\n",
       "      <td>0</td>\n",
       "      <td>0</td>\n",
       "      <td>0</td>\n",
       "      <td>0</td>\n",
       "      <td>0</td>\n",
       "      <td>0</td>\n",
       "      <td>0</td>\n",
       "      <td>0</td>\n",
       "      <td>0</td>\n",
       "      <td>1</td>\n",
       "    </tr>\n",
       "    <tr>\n",
       "      <th>9</th>\n",
       "      <td>-0.286487</td>\n",
       "      <td>1.383473</td>\n",
       "      <td>-1.687436</td>\n",
       "      <td>-0.111466</td>\n",
       "      <td>-0.085095</td>\n",
       "      <td>-0.671135</td>\n",
       "      <td>0.046288</td>\n",
       "      <td>1.796906</td>\n",
       "      <td>-1.027646</td>\n",
       "      <td>-0.181178</td>\n",
       "      <td>...</td>\n",
       "      <td>0</td>\n",
       "      <td>0</td>\n",
       "      <td>0</td>\n",
       "      <td>0</td>\n",
       "      <td>0</td>\n",
       "      <td>1</td>\n",
       "      <td>0</td>\n",
       "      <td>0</td>\n",
       "      <td>1</td>\n",
       "      <td>0</td>\n",
       "    </tr>\n",
       "  </tbody>\n",
       "</table>\n",
       "<p>10 rows × 56 columns</p>\n",
       "</div>"
      ],
      "text/plain": [
       "        age  restingBP  serumcholesterol   NumCigs  SmokingPeriod  \\\n",
       "0  1.972133   1.383473          0.986935  1.388518       2.541073   \n",
       "1  0.789046   0.343829          0.907236  0.674240       2.371643   \n",
       "2  0.036173  -0.695816         -1.687436 -0.111466      -0.085095   \n",
       "3 -1.684681  -0.175994          0.818680 -0.111466      -0.085095   \n",
       "4 -0.178934  -0.175994         -1.687436  1.388518       0.846771   \n",
       "5  0.251279  -0.175994          0.482170  0.674240      -0.169810   \n",
       "6  1.219260  -0.175994          0.597292 -1.468594      -1.694682   \n",
       "7  0.143726  -0.435905          0.730125  2.102796       0.846771   \n",
       "8  0.251279  -1.215638          0.207648 -1.468594      -1.694682   \n",
       "9 -0.286487   1.383473         -1.687436 -0.111466      -0.085095   \n",
       "\n",
       "   ExTestDuration  TimeSTNoted  Metabolism     MaxHR  RestHRGen     ...       \\\n",
       "0       -0.804406    -0.148473   -0.386936  0.961767   1.027721     ...        \n",
       "1       -0.671135    -1.122278   -0.293343  1.267831   1.091347     ...        \n",
       "2        0.395031    -2.290844    3.356794 -1.601515  -1.326451     ...        \n",
       "3        0.395031     0.046288   -0.386936 -1.486742  -1.199198     ...        \n",
       "4       -0.138052     0.046288   -0.324541  0.043576  -0.181178     ...        \n",
       "5       -0.138052     0.046288   -0.324541  0.043576  -0.181178     ...        \n",
       "6        0.128490     0.046288   -0.262145 -0.262487  -0.308430     ...        \n",
       "7        0.528302     0.046288   -0.137354  0.579188  -0.626562     ...        \n",
       "8       -1.204218     0.046288   -0.418134  1.650410   3.954530     ...        \n",
       "9       -0.671135     0.046288    1.796906 -1.027646  -0.181178     ...        \n",
       "\n",
       "   laddistance_2.0  cxmain_2.0  ramus_2.0  obtuseMarginal1_2.0  \\\n",
       "0                0           0          0                    0   \n",
       "1                1           0          0                    0   \n",
       "2                1           0          1                    1   \n",
       "3                0           0          0                    0   \n",
       "4                0           1          0                    0   \n",
       "5                0           0          0                    0   \n",
       "6                0           0          0                    0   \n",
       "7                0           0          0                    0   \n",
       "8                0           0          0                    0   \n",
       "9                0           0          0                    0   \n",
       "\n",
       "   obtuseMarginal2_2.0  rcaproximation_2.0  rcadistance_2.0  \\\n",
       "0                    0                   0                0   \n",
       "1                    0                   1                0   \n",
       "2                    0                   1                1   \n",
       "3                    0                   0                0   \n",
       "4                    0                   1                0   \n",
       "5                    0                   1                0   \n",
       "6                    0                   1                0   \n",
       "7                    0                   0                0   \n",
       "8                    0                   0                0   \n",
       "9                    0                   1                0   \n",
       "\n",
       "   Location_Hungarian  Location_Switzerland  Location_Va  \n",
       "0                   0                     0            0  \n",
       "1                   0                     0            0  \n",
       "2                   0                     1            0  \n",
       "3                   1                     0            0  \n",
       "4                   0                     0            1  \n",
       "5                   0                     0            1  \n",
       "6                   0                     0            1  \n",
       "7                   0                     0            0  \n",
       "8                   0                     0            1  \n",
       "9                   0                     1            0  \n",
       "\n",
       "[10 rows x 56 columns]"
      ]
     },
     "execution_count": 930,
     "metadata": {},
     "output_type": "execute_result"
    }
   ],
   "source": [
    "heart_test.head(10)"
   ]
  },
  {
   "cell_type": "code",
   "execution_count": 931,
   "metadata": {},
   "outputs": [
    {
     "data": {
      "text/plain": [
       "age                         float64\n",
       "restingBP                   float64\n",
       "serumcholesterol            float64\n",
       "NumCigs                     float64\n",
       "SmokingPeriod               float64\n",
       "ExTestDuration              float64\n",
       "TimeSTNoted                 float64\n",
       "Metabolism                  float64\n",
       "MaxHR                       float64\n",
       "RestHRGen                   float64\n",
       "PeakExBP1                   float64\n",
       "PeakExBP2                   float64\n",
       "restingBPGen                float64\n",
       "Stdepression                float64\n",
       "HeightatRest                float64\n",
       "heightatPeakEx              float64\n",
       "NumMajVessels               float64\n",
       "restRaidonuclid             float64\n",
       "exerRadinalid               float64\n",
       "thalsev                     float64\n",
       "thalpul                     float64\n",
       "earlobe                     float64\n",
       "Severity                   category\n",
       "gender_1                      uint8\n",
       "chestpainloc_1.0              uint8\n",
       "painexertion_1.0              uint8\n",
       "reliefbyrest_1.0              uint8\n",
       "chestpaintype_2               uint8\n",
       "chestpaintype_3               uint8\n",
       "chestpaintype_4               uint8\n",
       "IsSmoker_1.0                  uint8\n",
       "FastingBS_1.0                 uint8\n",
       "FamHistory_1.0                uint8\n",
       "restingECGRes_1.0             uint8\n",
       "restingECGRes_2.0             uint8\n",
       "ECGspecsBetaBlocker_1.0       uint8\n",
       "ECGspecsNitrates_1.0          uint8\n",
       "ECGspecsCalci_1.0             uint8\n",
       "ECGspecsdiuretic_1.0          uint8\n",
       "ExInducedAngina_1.0           uint8\n",
       "Slope_2.0                     uint8\n",
       "Slope_3.0                     uint8\n",
       "thalassemia_3.0               uint8\n",
       "thalassemia_6.0               uint8\n",
       "thalassemia_7.0               uint8\n",
       "LeftMaintrunk_2.0             uint8\n",
       "ladproximation_2.0            uint8\n",
       "laddistance_2.0               uint8\n",
       "cxmain_2.0                    uint8\n",
       "ramus_2.0                     uint8\n",
       "obtuseMarginal1_2.0           uint8\n",
       "obtuseMarginal2_2.0           uint8\n",
       "rcaproximation_2.0            uint8\n",
       "rcadistance_2.0               uint8\n",
       "Location_Hungarian            uint8\n",
       "Location_Switzerland          uint8\n",
       "Location_Va                   uint8\n",
       "dtype: object"
      ]
     },
     "execution_count": 931,
     "metadata": {},
     "output_type": "execute_result"
    }
   ],
   "source": [
    "heart_test.dtypes\n",
    "heart_train.dtypes"
   ]
  },
  {
   "cell_type": "markdown",
   "metadata": {},
   "source": [
    "#Learning Curve"
   ]
  },
  {
   "cell_type": "code",
   "execution_count": 932,
   "metadata": {},
   "outputs": [],
   "source": [
    "Y_cols=['Severity']\n",
    "X_cols = [i for i in heart_train if i not in Y_cols]\n",
    "train_sizes=[100,300,537]"
   ]
  },
  {
   "cell_type": "code",
   "execution_count": 1052,
   "metadata": {},
   "outputs": [],
   "source": [
    "train_sizes,train_scores,validation_scores = learning_curve(\n",
    "                                                   estimator = LogisticRegression(), X = heart_train[X_cols],\n",
    "                                                   y = heart_train[Y_cols], train_sizes = train_sizes, cv = 5,scoring='accuracy')"
   ]
  },
  {
   "cell_type": "code",
   "execution_count": 1053,
   "metadata": {},
   "outputs": [
    {
     "data": {
      "text/plain": [
       "array([100, 300, 537])"
      ]
     },
     "execution_count": 1053,
     "metadata": {},
     "output_type": "execute_result"
    }
   ],
   "source": [
    "train_sizes"
   ]
  },
  {
   "cell_type": "code",
   "execution_count": 1054,
   "metadata": {},
   "outputs": [
    {
     "data": {
      "text/plain": [
       "array([[0.85      , 0.9       , 0.9       , 0.9       , 0.9       ],\n",
       "       [0.75666667, 0.75666667, 0.73333333, 0.74333333, 0.74333333],\n",
       "       [0.72811918, 0.68901304, 0.7113594 , 0.72998138, 0.7113594 ]])"
      ]
     },
     "execution_count": 1054,
     "metadata": {},
     "output_type": "execute_result"
    }
   ],
   "source": [
    "train_scores"
   ]
  },
  {
   "cell_type": "code",
   "execution_count": 1055,
   "metadata": {},
   "outputs": [
    {
     "data": {
      "text/plain": [
       "array([[0.43065693, 0.44117647, 0.46666667, 0.40601504, 0.45864662],\n",
       "       [0.54014599, 0.58823529, 0.58518519, 0.5112782 , 0.59398496],\n",
       "       [0.59854015, 0.67647059, 0.63703704, 0.61654135, 0.62406015]])"
      ]
     },
     "execution_count": 1055,
     "metadata": {},
     "output_type": "execute_result"
    }
   ],
   "source": [
    "validation_scores"
   ]
  },
  {
   "cell_type": "code",
   "execution_count": 1056,
   "metadata": {},
   "outputs": [
    {
     "name": "stdout",
     "output_type": "stream",
     "text": [
      "Mean training scores\n",
      "\n",
      " 100   -0.890000\n",
      "300   -0.746667\n",
      "537   -0.713966\n",
      "dtype: float64\n",
      "\n",
      " --------------------\n",
      "\n",
      "Mean validation scores\n",
      "\n",
      " 100   -0.440632\n",
      "300   -0.563766\n",
      "537   -0.630530\n",
      "dtype: float64\n"
     ]
    }
   ],
   "source": [
    "train_scores_mean = -train_scores.mean(axis = 1)\n",
    "validation_scores_mean = -validation_scores.mean(axis = 1)\n",
    "\n",
    "print('Mean training scores\\n\\n', pd.Series(train_scores_mean, index = train_sizes))\n",
    "print('\\n', '-' * 20) # separator\n",
    "print('\\nMean validation scores\\n\\n',pd.Series(validation_scores_mean, index = train_sizes))"
   ]
  },
  {
   "cell_type": "code",
   "execution_count": 1058,
   "metadata": {},
   "outputs": [
    {
     "data": {
      "text/plain": [
       "(0, 40)"
      ]
     },
     "execution_count": 1058,
     "metadata": {},
     "output_type": "execute_result"
    },
    {
     "data": {
      "image/png": "[encoded data removed]",
      "text/plain": [
       "<Figure size 576x396 with 1 Axes>"
      ]
     },
     "metadata": {},
     "output_type": "display_data"
    }
   ],
   "source": [
    "\n",
    "\n",
    "plt.style.use('seaborn')\n",
    "\n",
    "plt.plot(train_sizes, train_scores_mean, label = 'Training error')\n",
    "plt.plot(train_sizes, validation_scores_mean, label = 'Validation error')\n",
    "\n",
    "plt.ylabel('Accuracy', fontsize = 14)\n",
    "plt.xlabel('Training set size', fontsize = 14)\n",
    "plt.title('Learning curves for a linear regression model', fontsize = 18, y = 1.03)\n",
    "plt.legend()\n",
    "plt.ylim(0,40)"
   ]
  },
  {
   "cell_type": "markdown",
   "metadata": {},
   "source": [
    "### we can see that the model is behaving a lot better for train data than validation data.So low training error indicates low bias.bur high Validation error shows that it is a high variance problem"
   ]
  },
  {
   "cell_type": "markdown",
   "metadata": {},
   "source": [
    "#Train Test Split:-"
   ]
  },
  {
   "cell_type": "code",
   "execution_count": 939,
   "metadata": {},
   "outputs": [],
   "source": [
    "y = heart_train[Y_cols]\n",
    "X = heart_train.drop(Y_cols,axis = 1)\n",
    "X_train,X_test,y_train,y_test =train_test_split(X, y, test_size=0.2,random_state=769)"
   ]
  },
  {
   "cell_type": "code",
   "execution_count": 940,
   "metadata": {},
   "outputs": [
    {
     "data": {
      "text/plain": [
       "array(['age', 'restingBP', 'serumcholesterol', 'NumCigs', 'SmokingPeriod',\n",
       "       'ExTestDuration', 'TimeSTNoted', 'Metabolism', 'MaxHR',\n",
       "       'RestHRGen', 'PeakExBP1', 'PeakExBP2', 'restingBPGen',\n",
       "       'Stdepression', 'HeightatRest', 'heightatPeakEx', 'NumMajVessels',\n",
       "       'restRaidonuclid', 'exerRadinalid', 'thalsev', 'thalpul',\n",
       "       'earlobe', 'gender_1', 'chestpainloc_1.0', 'painexertion_1.0',\n",
       "       'reliefbyrest_1.0', 'chestpaintype_2', 'chestpaintype_3',\n",
       "       'chestpaintype_4', 'IsSmoker_1.0', 'FastingBS_1.0',\n",
       "       'FamHistory_1.0', 'restingECGRes_1.0', 'restingECGRes_2.0',\n",
       "       'ECGspecsBetaBlocker_1.0', 'ECGspecsNitrates_1.0',\n",
       "       'ECGspecsCalci_1.0', 'ECGspecsdiuretic_1.0', 'ExInducedAngina_1.0',\n",
       "       'Slope_2.0', 'Slope_3.0', 'thalassemia_3.0', 'thalassemia_6.0',\n",
       "       'thalassemia_7.0', 'LeftMaintrunk_2.0', 'ladproximation_2.0',\n",
       "       'laddistance_2.0', 'cxmain_2.0', 'ramus_2.0',\n",
       "       'obtuseMarginal1_2.0', 'obtuseMarginal2_2.0', 'rcaproximation_2.0',\n",
       "       'rcadistance_2.0', 'Location_Hungarian', 'Location_Switzerland',\n",
       "       'Location_Va'], dtype=object)"
      ]
     },
     "execution_count": 940,
     "metadata": {},
     "output_type": "execute_result"
    }
   ],
   "source": [
    "X_train.columns.values"
   ]
  },
  {
   "cell_type": "code",
   "execution_count": 941,
   "metadata": {},
   "outputs": [
    {
     "data": {
      "text/plain": [
       "array(['age', 'restingBP', 'serumcholesterol', 'NumCigs', 'SmokingPeriod',\n",
       "       'ExTestDuration', 'TimeSTNoted', 'Metabolism', 'MaxHR',\n",
       "       'RestHRGen', 'PeakExBP1', 'PeakExBP2', 'restingBPGen',\n",
       "       'Stdepression', 'HeightatRest', 'heightatPeakEx', 'NumMajVessels',\n",
       "       'restRaidonuclid', 'exerRadinalid', 'thalsev', 'thalpul',\n",
       "       'earlobe', 'gender_1', 'chestpainloc_1.0', 'painexertion_1.0',\n",
       "       'reliefbyrest_1.0', 'chestpaintype_2', 'chestpaintype_3',\n",
       "       'chestpaintype_4', 'IsSmoker_1.0', 'FastingBS_1.0',\n",
       "       'FamHistory_1.0', 'restingECGRes_1.0', 'restingECGRes_2.0',\n",
       "       'ECGspecsBetaBlocker_1.0', 'ECGspecsNitrates_1.0',\n",
       "       'ECGspecsCalci_1.0', 'ECGspecsdiuretic_1.0', 'ExInducedAngina_1.0',\n",
       "       'Slope_2.0', 'Slope_3.0', 'thalassemia_3.0', 'thalassemia_6.0',\n",
       "       'thalassemia_7.0', 'LeftMaintrunk_2.0', 'ladproximation_2.0',\n",
       "       'laddistance_2.0', 'cxmain_2.0', 'ramus_2.0',\n",
       "       'obtuseMarginal1_2.0', 'obtuseMarginal2_2.0', 'rcaproximation_2.0',\n",
       "       'rcadistance_2.0', 'Location_Hungarian', 'Location_Switzerland',\n",
       "       'Location_Va'], dtype=object)"
      ]
     },
     "execution_count": 941,
     "metadata": {},
     "output_type": "execute_result"
    }
   ],
   "source": [
    "X_test.columns.values"
   ]
  },
  {
   "cell_type": "code",
   "execution_count": 942,
   "metadata": {},
   "outputs": [
    {
     "data": {
      "text/plain": [
       "array(['Severity'], dtype=object)"
      ]
     },
     "execution_count": 942,
     "metadata": {},
     "output_type": "execute_result"
    }
   ],
   "source": [
    "y_train.columns.values"
   ]
  },
  {
   "cell_type": "code",
   "execution_count": 943,
   "metadata": {},
   "outputs": [
    {
     "data": {
      "text/plain": [
       "[MildClass2, MildClass1, MildClass1, Moderate, None, ..., None, MildClass2, MildClass2, None, Moderate]\n",
       "Length: 135\n",
       "Categories (5, object): [MildClass1, MildClass2, Moderate, None, Severe]"
      ]
     },
     "execution_count": 943,
     "metadata": {},
     "output_type": "execute_result"
    }
   ],
   "source": [
    "y_test['Severity'].values"
   ]
  },
  {
   "cell_type": "code",
   "execution_count": 944,
   "metadata": {},
   "outputs": [
    {
     "data": {
      "text/plain": [
       "539"
      ]
     },
     "execution_count": 944,
     "metadata": {},
     "output_type": "execute_result"
    }
   ],
   "source": [
    "X_train.shape[0]"
   ]
  },
  {
   "cell_type": "code",
   "execution_count": 945,
   "metadata": {},
   "outputs": [
    {
     "data": {
      "text/plain": [
       "135"
      ]
     },
     "execution_count": 945,
     "metadata": {},
     "output_type": "execute_result"
    }
   ],
   "source": [
    "X_test.shape[0]"
   ]
  },
  {
   "cell_type": "markdown",
   "metadata": {},
   "source": [
    "#Models"
   ]
  },
  {
   "cell_type": "code",
   "execution_count": 946,
   "metadata": {},
   "outputs": [],
   "source": [
    "from sklearn.metrics import accuracy_score\n",
    "from sklearn.metrics import recall_score\n",
    "from sklearn.metrics import confusion_matrix, roc_curve, auc\n",
    "from sklearn.metrics import precision_recall_fscore_support as score\n",
    "def print_Results(clf_DT):\n",
    "    train_pred = clf_DT.predict(X_train)\n",
    "    test_pred = clf_DT.predict(X_test)\n",
    "    confusion_matrix_test = confusion_matrix(y_test, test_pred,labels=['MildClass1', 'MildClass2', 'Moderate', 'None', 'Severe'])\n",
    "    confusion_matrix_train = confusion_matrix(y_train, train_pred,labels=['MildClass1', 'MildClass2', 'Moderate', 'None', 'Severe'])\n",
    "    print(\"Train Data confusion table :\\n\",confusion_matrix_train)\n",
    "    print(\"Test Data confusion table :\\n\",confusion_matrix_test)\n",
    "    precision_tr, recall_tr, fscore_tr, support_tr = score(y_train, train_pred)\n",
    "    precision_te, recall_te, fscore_te, support_te = score(y_test, test_pred)\n",
    "    print(\"Scores for train:-\\n\")\n",
    "    print('precision: {}'.format(precision_tr))\n",
    "    print('recall: {}'.format(recall_tr))\n",
    "    print('fscore: {}'.format(fscore_tr))\n",
    "    print('support: {}'.format(support_tr))\n",
    "    print(\"Scores for test:-\\n\")\n",
    "    print('precision: {}'.format(precision_te))\n",
    "    print('recall: {}'.format(recall_te))\n",
    "    print('fscore: {}'.format(fscore_te))\n",
    "    print('support: {}'.format(support_te))\n"
   ]
  },
  {
   "cell_type": "markdown",
   "metadata": {},
   "source": [
    "#DT"
   ]
  },
  {
   "cell_type": "code",
   "execution_count": 947,
   "metadata": {},
   "outputs": [],
   "source": [
    "def decision_tree(X_train,y_train):\n",
    "    print(\"THIS IS DECISION TREE MODEL\")\n",
    "    param_grid = {\"criterion\": [\"entropy\",\"gini\"],\n",
    "              \"min_samples_split\": [10,15,20],\n",
    "              \"max_depth\": [None,5,10],\n",
    "              \"min_samples_leaf\": [5,10],\n",
    "              \"max_leaf_nodes\": [None,5,10],\n",
    "              }\n",
    "    dt = tree.DecisionTreeClassifier()\n",
    "    clf_DT = GridSearchCV(dt, param_grid, cv=10,scoring='accuracy')\n",
    "    #clf_DT=tree.DecisionTreeClassifier(criterion='gini')\n",
    "    clf_DT.fit(X_train, y_train)\n",
    "    print(clf_DT.best_params_)\n",
    "    print_Results(clf_DT)\n",
    "    return clf_DT "
   ]
  },
  {
   "cell_type": "code",
   "execution_count": 948,
   "metadata": {},
   "outputs": [
    {
     "name": "stdout",
     "output_type": "stream",
     "text": [
      "THIS IS DECISION TREE MODEL\n",
      "{'criterion': 'entropy', 'max_depth': 10, 'max_leaf_nodes': None, 'min_samples_leaf': 5, 'min_samples_split': 20}\n",
      "Train Data confusion table :\n",
      " [[104   2   0   4   0]\n",
      " [ 15  56   9  19   0]\n",
      " [  0   9  75  31   0]\n",
      " [  0   0   3 174   0]\n",
      " [  7   1   0   0  30]]\n",
      "Test Data confusion table :\n",
      " [[21  1  0  4  0]\n",
      " [ 6  9  2  2  0]\n",
      " [ 0  5 21  6  0]\n",
      " [ 0  0  4 47  0]\n",
      " [ 2  0  0  0  5]]\n",
      "Scores for train:-\n",
      "\n",
      "precision: [0.82539683 0.82352941 0.86206897 0.76315789 1.        ]\n",
      "recall: [0.94545455 0.56565657 0.65217391 0.98305085 0.78947368]\n",
      "fscore: [0.88135593 0.67065868 0.74257426 0.85925926 0.88235294]\n",
      "support: [110  99 115 177  38]\n",
      "Scores for test:-\n",
      "\n",
      "precision: [0.72413793 0.6        0.77777778 0.79661017 1.        ]\n",
      "recall: [0.80769231 0.47368421 0.65625    0.92156863 0.71428571]\n",
      "fscore: [0.76363636 0.52941176 0.71186441 0.85454545 0.83333333]\n",
      "support: [26 19 32 51  7]\n"
     ]
    }
   ],
   "source": [
    "clf_DT = decision_tree(X_train,y_train)"
   ]
  },
  {
   "cell_type": "code",
   "execution_count": 975,
   "metadata": {},
   "outputs": [],
   "source": [
    "Real_Pred_DT= clf_DT.predict(heart_test)"
   ]
  },
  {
   "cell_type": "code",
   "execution_count": 976,
   "metadata": {},
   "outputs": [],
   "source": [
    "temp_DT= pd.read_csv(\"samplesubmission.csv\")"
   ]
  },
  {
   "cell_type": "code",
   "execution_count": 977,
   "metadata": {},
   "outputs": [],
   "source": [
    "temp_DT['Severity'] = Real_Pred_DT"
   ]
  },
  {
   "cell_type": "code",
   "execution_count": 978,
   "metadata": {},
   "outputs": [],
   "source": [
    "temp_DT['Severity']= temp_DT['Severity'].astype('category')"
   ]
  },
  {
   "cell_type": "code",
   "execution_count": 979,
   "metadata": {},
   "outputs": [],
   "source": [
    "temp_DT.to_csv('samplesubmission.csv',index=False)"
   ]
  },
  {
   "cell_type": "markdown",
   "metadata": {},
   "source": [
    "#Random"
   ]
  },
  {
   "cell_type": "code",
   "execution_count": 949,
   "metadata": {},
   "outputs": [],
   "source": [
    "def RandomForest(X_train,y_train):\n",
    "    from sklearn.ensemble import RandomForestClassifier\n",
    "    print(\"THIS IS RANDOM FOREST MODEL\")\n",
    "    param_grid = { \"criterion\": [\"entropy\",\"gini\"],\n",
    "           \"n_estimators\" : [200,300,400],\n",
    "           \"max_depth\" : [10,20],\n",
    "           \"min_samples_leaf\" : [5,10]}\n",
    "    rfc = RandomForestClassifier(n_jobs=-1, max_features='sqrt') \n",
    "    clf_RF = GridSearchCV(estimator=rfc, param_grid=param_grid, cv= 10,scoring='accuracy')\n",
    "    #clf_RF = RandomForestClassifier(n_jobs=-1, max_features='sqrt') \n",
    "    clf_RF.fit(X=X_train, y=y_train)\n",
    "    print(clf_RF.best_params_)\n",
    "    print_Results(clf_RF)\n",
    "    return clf_RF"
   ]
  },
  {
   "cell_type": "code",
   "execution_count": 950,
   "metadata": {},
   "outputs": [
    {
     "name": "stdout",
     "output_type": "stream",
     "text": [
      "THIS IS RANDOM FOREST MODEL\n",
      "{'criterion': 'entropy', 'max_depth': 10, 'min_samples_leaf': 5, 'n_estimators': 200}\n",
      "Train Data confusion table :\n",
      " [[107   0   0   3   0]\n",
      " [  5  72   0  22   0]\n",
      " [  2   0  76  37   0]\n",
      " [  3   0   0 174   0]\n",
      " [  8   0   0   0  30]]\n",
      "Test Data confusion table :\n",
      " [[17  1  0  8  0]\n",
      " [ 5  3  8  3  0]\n",
      " [ 1  3 21  7  0]\n",
      " [ 0  0  0 51  0]\n",
      " [ 2  0  0  0  5]]\n",
      "Scores for train:-\n",
      "\n",
      "precision: [0.856      1.         1.         0.73728814 1.        ]\n",
      "recall: [0.97272727 0.72727273 0.66086957 0.98305085 0.78947368]\n",
      "fscore: [0.9106383  0.84210526 0.79581152 0.84261501 0.88235294]\n",
      "support: [110  99 115 177  38]\n",
      "Scores for test:-\n",
      "\n",
      "precision: [0.68       0.42857143 0.72413793 0.73913043 1.        ]\n",
      "recall: [0.65384615 0.15789474 0.65625    1.         0.71428571]\n",
      "fscore: [0.66666667 0.23076923 0.68852459 0.85       0.83333333]\n",
      "support: [26 19 32 51  7]\n"
     ]
    }
   ],
   "source": [
    " clf_RF=RandomForest(X_train,y_train)"
   ]
  },
  {
   "cell_type": "code",
   "execution_count": 969,
   "metadata": {},
   "outputs": [],
   "source": [
    "Real_Pred_RNDF= clf_RF.predict(heart_test)"
   ]
  },
  {
   "cell_type": "code",
   "execution_count": 971,
   "metadata": {},
   "outputs": [],
   "source": [
    "temp_RF= pd.read_csv(\"samplesubmission.csv\")"
   ]
  },
  {
   "cell_type": "code",
   "execution_count": 972,
   "metadata": {},
   "outputs": [],
   "source": [
    "temp_RF['Severity'] = Real_Pred_RNDF"
   ]
  },
  {
   "cell_type": "code",
   "execution_count": 973,
   "metadata": {},
   "outputs": [],
   "source": [
    "temp_RF['Severity']= temp_RF['Severity'].astype('category')"
   ]
  },
  {
   "cell_type": "code",
   "execution_count": 974,
   "metadata": {},
   "outputs": [],
   "source": [
    "temp_RF.to_csv('samplesubmission.csv',index=False)"
   ]
  },
  {
   "cell_type": "markdown",
   "metadata": {},
   "source": [
    "#XGB"
   ]
  },
  {
   "cell_type": "code",
   "execution_count": 951,
   "metadata": {},
   "outputs": [],
   "source": [
    "def XGBoost(X_train,y_train):\n",
    "    print(\"THIS IS XGBOOST MODEL\")\n",
    "    param_grid = {\n",
    "    'colsample_bytree':[0.5,0.7,0.9],\n",
    "    'n_estimators':[200,300,400,500],\n",
    "    'max_depth': [5,10,15,20]}\n",
    "    XGB = XGBClassifier(n_jobs=-1)\n",
    "    clf_XG = GridSearchCV(estimator=XGB,param_grid=param_grid,cv=2,scoring='accuracy')\n",
    "    #clf_XG=XGBClassifier(n_jobs=-1)\n",
    "    clf_XG.fit(X_train,y_train)\n",
    "    print(clf_XG.best_params_)\n",
    "    print_Results(clf_XG)\n",
    "    return clf_XG"
   ]
  },
  {
   "cell_type": "code",
   "execution_count": 952,
   "metadata": {
    "scrolled": false
   },
   "outputs": [
    {
     "name": "stdout",
     "output_type": "stream",
     "text": [
      "THIS IS XGBOOST MODEL\n",
      "{'colsample_bytree': 0.9, 'max_depth': 15, 'n_estimators': 200}\n",
      "Train Data confusion table :\n",
      " [[110   0   0   0   0]\n",
      " [  0  99   0   0   0]\n",
      " [  0   0 115   0   0]\n",
      " [  0   0   0 177   0]\n",
      " [  0   0   0   0  38]]\n",
      "Test Data confusion table :\n",
      " [[15  8  0  2  1]\n",
      " [ 7  7  3  2  0]\n",
      " [ 1  0 24  7  0]\n",
      " [ 0  0  3 48  0]\n",
      " [ 1  0  1  0  5]]\n",
      "Scores for train:-\n",
      "\n",
      "precision: [1. 1. 1. 1. 1.]\n",
      "recall: [1. 1. 1. 1. 1.]\n",
      "fscore: [1. 1. 1. 1. 1.]\n",
      "support: [110  99 115 177  38]\n",
      "Scores for test:-\n",
      "\n",
      "precision: [0.625      0.46666667 0.77419355 0.81355932 0.83333333]\n",
      "recall: [0.57692308 0.36842105 0.75       0.94117647 0.71428571]\n",
      "fscore: [0.6        0.41176471 0.76190476 0.87272727 0.76923077]\n",
      "support: [26 19 32 51  7]\n"
     ]
    }
   ],
   "source": [
    "clf_XG=XGBoost(X_train,y_train)"
   ]
  },
  {
   "cell_type": "code",
   "execution_count": 990,
   "metadata": {},
   "outputs": [],
   "source": [
    "Real_Pred_XGB= clf_XG.predict(heart_test)\n",
    "#heart_test.dtypes"
   ]
  },
  {
   "cell_type": "code",
   "execution_count": 964,
   "metadata": {},
   "outputs": [],
   "source": [
    "temp = pd.read_csv(\"samplesubmission.csv\")"
   ]
  },
  {
   "cell_type": "code",
   "execution_count": 965,
   "metadata": {},
   "outputs": [],
   "source": [
    "temp['Severity'] = Real_Pred"
   ]
  },
  {
   "cell_type": "code",
   "execution_count": 966,
   "metadata": {},
   "outputs": [],
   "source": [
    "temp['Severity']= temp['Severity'].astype('category')"
   ]
  },
  {
   "cell_type": "code",
   "execution_count": 968,
   "metadata": {},
   "outputs": [],
   "source": [
    "temp.to_csv('samplesubmission.csv',index=False)"
   ]
  }
 ],
 "metadata": {
  "kernelspec": {
   "display_name": "Python 3",
   "language": "python",
   "name": "python3"
  },
  "language_info": {
   "codemirror_mode": {
    "name": "ipython",
    "version": 3
   },
   "file_extension": ".py",
   "mimetype": "text/x-python",
   "name": "python",
   "nbconvert_exporter": "python",
   "pygments_lexer": "ipython3",
   "version": "3.6.5"
  }
 },
 "nbformat": 4,
 "nbformat_minor": 2
}
